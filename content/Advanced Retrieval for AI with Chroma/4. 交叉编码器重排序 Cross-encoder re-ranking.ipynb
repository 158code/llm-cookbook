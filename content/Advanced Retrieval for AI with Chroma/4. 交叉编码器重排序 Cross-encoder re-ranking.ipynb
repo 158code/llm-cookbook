{
 "cells": [
  {
   "cell_type": "markdown",
   "id": "81ec59e6-c2a8-4632-b5d2-ba3dfa2a0938",
   "metadata": {},
   "source": [
    "# 第四章 交叉编码器重排序\n",
    "本节课，将使用交叉编码器重排序的技术，对检索到的结果进行相关性分析。重排序是一种根据结果与特定查询的相关性来排序和评分的方法。\n"
   ]
  },
{
   "cell_type": "markdown",
   "id": "4164d820",
   "metadata": {},
   "source": [
    "<div class=\"toc\">\n",
    "    <ul class=\"toc-item\">\n",
    "        <li><span><a href=\"#一底层原理\" data-toc-modified-id=\"一、底层原理\">一、底层原理</a></span></li>\n",
    "        <li>\n",
    "        <span><a href=\"#二实现过程\" data-toc-modified-id=\"二、实现过程\">二、实现过程</a></span></li><li>\n",
    "        <ul class=\"toc-item\">\n",
    "            <li><span><a href=\"#21-导入辅助函数\" data-toc-modified-id=\"2.1 导入辅助函数\">2.1 导入辅助函数</a></span></li>\n",
    "            <li><span><a href=\"#22-长尾部分的重排序\" data-toc-modified-id=\"2.2 长尾部分的重排序\">2.2 长尾部分的重排序</a></span></li>\n",
    "            <li><span><a href=\"#23-结合查询扩展的重排序\" data-toc-modified-id=\"2.3 结合查询扩展的重排序\">2.3 结合查询扩展的重排序</a></span></li>\n",
    "        </ul>\n",
    "        </li>\n",
    "    </ul>\n",
    "</div>"
   ]
  },
  {
   "cell_type": "markdown",
   "id": "64e96532-3105-4957-90f5-dc4f67e29c71",
   "metadata": {},
   "source": [
    "## 一、底层原理\n",
    "在重排序过程中，在得到特定查询检索到结果之后，需要将这些结果连同查询一起传递给一个重排序模型。这可以重新排列输出，使最相关的结果具有最高的排名。另一种思考方式是，重排序模型根据查询对每个结果打分，得分最高的就是最相关的结果。最后，以选择排名最高的结果作为与特定查询最相关的结果。\n ",
    "## 二、实现过程\n",
    "### 2.1 导入辅助函数"
   ]
  },
  {
   "cell_type": "code",
   "execution_count": 1,
   "id": "bf580005-b2b2-4ff1-a9b4-938a5edc3493",
   "metadata": {},
   "outputs": [],
   "source": [
    "# 导入辅助函数并把数据加载到Chroma中 \n",
    "from helper_utils import load_chroma, word_wrap, project_embeddings\n",
    "from chromadb.utils.embedding_functions import SentenceTransformerEmbeddingFunction\n",
    "import numpy as np"
   ]
  },
  {
   "cell_type": "code",
   "execution_count": 2,
   "id": "59c34c4e-10e9-456a-a03b-b42fa71e27b0",
   "metadata": {},
   "outputs": [
    {
     "name": "stderr",
     "output_type": "stream",
     "text": [
      "C:\\Users\\QQ\\miniconda3\\Lib\\site-packages\\torch\\_utils.py:831: UserWarning: TypedStorage is deprecated. It will be removed in the future and UntypedStorage will be the only storage class. This should only matter to you if you are using storages directly.  To access UntypedStorage directly, use tensor.untyped_storage() instead of tensor.storage()\n",
      "  return self.fget.__get__(instance, owner)()\n"
     ]
    },
    {
     "data": {
      "text/plain": [
       "506"
      ]
     },
     "execution_count": 2,
     "metadata": {},
     "output_type": "execute_result"
    }
   ],
   "source": [
    "# 使用代理可能出现网络问题，将以下端口号1080全部替换成自己的vpn的端口号\n",
    "import os\n",
    "os.environ['HTTPS_PROXY']='http://127.0.0.1:1080'\n",
    "os.environ[\"HTTP_PROXY\"]='http://127.0.0.1:1080'\n",
    "\n",
    "embedding_function = SentenceTransformerEmbeddingFunction()\n",
    "\n",
    "chroma_collection = load_chroma(filename='microsoft_annual_report_2022.pdf', collection_name='microsoft_annual_report_2022', embedding_function=embedding_function)\n",
    "chroma_collection.count()"
   ]
  },
  {
   "cell_type": "markdown",
   "id": "e1b79507-f548-42c9-bcc4-b64b90eddf0c",
   "metadata": {},
   "source": [
    "### 2.2 长尾部分的重排序"
   ]
  },
  {
   "cell_type": "code",
   "execution_count": 3,
   "id": "57e9a5c0-4a7b-45cf-8042-848e8862a4ae",
   "metadata": {},
   "outputs": [
    {
     "name": "stdout",
     "output_type": "stream",
     "text": [
      "48comprehensiveincomestatements ( inmillions ) yearendedjune30, 2022\n",
      "2021 2020 netincome $ 72, 738 $ 61, 271 $ 44, 281\n",
      "othercomprehensiveincome ( loss ), netoftax :\n",
      "netchangerelatedtoderivatives 6 19 ( 38 ) netchangerelatedtoinvestments\n",
      "( 5, 360 ) ( 2, 266 ) 3, 990 translationadjustmentsandother ( 1, 146 )\n",
      "873 ( 426 ) othercomprehensiveincome ( loss ) ( 6, 500 ) ( 1, 374 ) 3,\n",
      "526 comprehensiveincome $ 66, 238 $ 59, 897 $ 47, 807\n",
      "refertoaccompanyingnotes.\n",
      "\n",
      "2021acquisitions otherjune30, 2022 productivityandbusiness processes $\n",
      "24, 190 $ 0 $ 127 $ 24, 317 $ 599 $ ( 105 ) $ 24, 811 intelligentcloud\n",
      "12, 697 505 54 13, 256 16, 879 ( b ) 47 ( b ) 30, 182\n",
      "morepersonalcomputing 6, 464 5, 556 ( a ) 118 ( a ) 12, 138 648 ( 255 )\n",
      "12, 531\n",
      "\n",
      "adjustednetincome ( non - gaap ) $ 69, 447 $ 60, 651 15 %\n",
      "dilutedearningspershare $ 9. 65 $ 8. 05 20 %\n",
      "netincometaxbenefitrelatedtotransferofintangibleproperties ( 0. 44 ) 0\n",
      "*\n",
      "netincometaxbenefitrelatedtoindiasupremecourtdecisiononwithholdingtaxes\n",
      "0 ( 0. 08 ) * adjusteddilutedearningspershare ( non - gaap ) $ 9. 21 $\n",
      "7. 97 16 % * notmeaningful.\n",
      "\n",
      "##thandigitaltechnologytodrivetheworld ’ seconomicoutput.\n",
      "thisisthecorethesisforourbeingasa company, butit ’ snotenough.\n",
      "aswedriveglobaleconomicgrowth,\n",
      "wemustalsocommittocreatingamoreinclusive, equitable, sustainable,\n",
      "andtrustedfuture. supportinclusiveeconomicgrowth\n",
      "\n",
      "( inmillions, exceptpercentages ) 2022 2021percentage change\n",
      "researchanddevelopment $ 24, 512 $ 20, 716 18 % asapercentofrevenue 12\n",
      "% 12 % 0ppt researchanddevelopmentexpensesincludepayroll,\n",
      "employeebenefits, stock - basedcompensationexpense, andother headcount\n",
      "- relatedexpensesassociatedwithproductdevelopment.\n",
      "researchanddevelopmentexpensesalsoinclude third -\n",
      "partydevelopmentandprogrammingcosts,\n",
      "localizationcostsincurredtotranslatesoftwareforinternationalmarkets,\n",
      "andtheamortizationofpurchasedsoftwarecodeandservicescontent.\n",
      "researchanddevelopmentexpensesincreased $ 3. 8billionor18 %\n",
      "drivenbyinvestmentsincloudengineering, gaming, andlinkedin.\n",
      "salesandmarketing ( inmillions, exceptpercentages ) 2022 2021percentage\n",
      "change salesandmarketing $ 21, 825 $ 20, 117 8 % asapercentofrevenue 11\n",
      "% 12 % ( 1 ) pp\n",
      "\n",
      "2021issuanceof $ 8. 2billion ( a ) 2052 – 20622. 92 % – 3. 04 % 2. 92 %\n",
      "– 3. 04 % 8, 185 8, 185 totalfacevalue 55, 511 63, 910\n",
      "\n",
      "softwaredeveloperscompeteagainstofferingsfromadobe, ibm, oracle,\n",
      "andothercompanies, andalsoagainstopen - sourceprojects,\n",
      "includingeclipse ( sponsoredbycatechnologies, ibm, oracle, andsap ),\n",
      "php, andrubyonrails.\n",
      "\n",
      "tradeshows, seminars, andotherprograms.\n",
      "salesandmarketingexpensesincreased $ 1. 7billionor8 %\n",
      "drivenbyinvestmentsincommercialsalesandlinkedin.\n",
      "salesandmarketingincludedafavorableforeigncurrencyimpactof2 %.\n",
      "generalandadministrative ( inmillions, exceptpercentages ) 2022\n",
      "2021percentage change generalandadministrative $ 5, 900 $ 5, 107 16 %\n",
      "asapercentofrevenue 3 % 3 % 0ppt\n",
      "\n",
      "##eofmulti - yearon - premisescontractsexecutedduringthe period.\n",
      "reportablesegments\n",
      "wereportourfinancialperformancebasedonthefollowingsegments :\n",
      "productivityandbusinessprocesses, intelligent\n",
      "\n",
      "monitorourbusiness.\n",
      "\n"
     ]
    }
   ],
   "source": [
    "# 之前一般设定返回5个结果，现在要求返回10个结果，加入了部分可能有用的的长尾结果\n",
    "query = \"What has been tchhe investment in research and development?\"\n",
    "results = chroma_collection.query(query_texts=query, n_results=10, include=['documents', 'embeddings'])\n",
    "\n",
    "retrieved_documents = results['documents'][0]\n",
    "\n",
    "for document in results['documents'][0]:\n",
    "    print(word_wrap(document))\n",
    "    print('')"
   ]
  },
  {
   "cell_type": "code",
   "execution_count": 4,
   "id": "e4cad597-184e-47c3-96b0-8f4fa2e48bfa",
   "metadata": {},
   "outputs": [],
   "source": [
    "# BERT交叉编码器同时渠道查询和文档，通过一个分类器传递，获得一个得分\n",
    "# 利用该得分作为检索结果的相关性或排名的得分\n",
    "from sentence_transformers import CrossEncoder\n",
    "cross_encoder = CrossEncoder('cross-encoder/ms-marco-MiniLM-L-6-v2')"
   ]
  },
  {
   "cell_type": "code",
   "execution_count": 5,
   "id": "5008e277-e3e3-47f8-8d25-13b7cf56fb02",
   "metadata": {},
   "outputs": [
    {
     "name": "stdout",
     "output_type": "stream",
     "text": [
      "Scores:\n",
      "-10.778491\n",
      "-11.12772\n",
      "-11.024757\n",
      "-10.903776\n",
      "-9.883989\n",
      "-10.559224\n",
      "-10.512915\n",
      "-11.216286\n",
      "-11.215064\n",
      "-10.801218\n"
     ]
    }
   ],
   "source": [
    "pairs = [[query, doc] for doc in retrieved_documents]\n",
    "scores = cross_encoder.predict(pairs)\n",
    "print(\"Scores:\")\n",
    "for score in scores:\n",
    "    print(score)"
   ]
  },
  {
   "cell_type": "code",
   "execution_count": 6,
   "id": "87cfadcd-4323-4e30-8371-c6096d460de2",
   "metadata": {},
   "outputs": [
    {
     "name": "stdout",
     "output_type": "stream",
     "text": [
      "New Ordering:\n",
      "5\n",
      "7\n",
      "6\n",
      "1\n",
      "10\n",
      "4\n",
      "3\n",
      "2\n",
      "9\n",
      "8\n"
     ]
    }
   ],
   "source": [
    "print(\"New Ordering:\")\n",
    "for o in np.argsort(scores)[::-1]:\n",
    "    print(o+1)"
   ]
  },
  {
   "cell_type": "markdown",
   "id": "5f8b3660-78bf-42d7-9002-1cf33f39723e",
   "metadata": {},
   "source": [
    "### 2.3 结合查询扩展的重排序"
   ]
  },
  {
   "cell_type": "code",
   "execution_count": 7,
   "id": "50cc5b54-dd9f-41fc-8252-dfa3f0ae1199",
   "metadata": {},
   "outputs": [],
   "source": [
    "# 接下来把之前获得的结果排序前5名传递给LLM\n",
    "original_query = \"What were the most important factors that contributed to increases in revenue?\"\n",
    "generated_queries = [\n",
    "    \"What were the major drivers of revenue growth?\",\n",
    "    \"Were there any new product launches that contributed to the increase in revenue?\",\n",
    "    \"Did any changes in pricing or promotions impact the revenue growth?\",\n",
    "    \"What were the key market trends that facilitated the increase in revenue?\",\n",
    "    \"Did any acquisitions or partnerships contribute to the revenue growth?\"\n",
    "]"
   ]
  },
  {
   "cell_type": "code",
   "execution_count": 8,
   "id": "2a51481a-55b1-434d-ac24-3f4b0b4f8dc7",
   "metadata": {},
   "outputs": [],
   "source": [
    "queries = [original_query] + generated_queries\n",
    "\n",
    "results = chroma_collection.query(query_texts=queries, n_results=10, include=['documents', 'embeddings'])\n",
    "retrieved_documents = results['documents']"
   ]
  },
  {
   "cell_type": "code",
   "execution_count": 9,
   "id": "3033b516-44de-4193-84b2-cc05920f6cc1",
   "metadata": {},
   "outputs": [],
   "source": [
    "# Deduplicate the retrieved documents\n",
    "unique_documents = set()\n",
    "for documents in retrieved_documents:\n",
    "    for document in documents:\n",
    "        unique_documents.add(document)\n",
    "\n",
    "unique_documents = list(unique_documents)"
   ]
  },
  {
   "cell_type": "code",
   "execution_count": 10,
   "id": "011b6190-60f8-47f4-9462-f213d43de944",
   "metadata": {},
   "outputs": [],
   "source": [
    "pairs = []\n",
    "for doc in unique_documents:\n",
    "    pairs.append([original_query, doc])"
   ]
  },
  {
   "cell_type": "code",
   "execution_count": 11,
   "id": "27a410f5-d804-4435-91a8-c2d9cc8a7384",
   "metadata": {},
   "outputs": [],
   "source": [
    "scores = cross_encoder.predict(pairs)"
   ]
  },
  {
   "cell_type": "code",
   "execution_count": 12,
   "id": "51169734-d32a-4378-80ac-19d2f291b07c",
   "metadata": {},
   "outputs": [
    {
     "name": "stdout",
     "output_type": "stream",
     "text": [
      "Scores:\n",
      "-10.831182\n",
      "-11.0566225\n",
      "-11.184257\n",
      "-10.7959385\n",
      "-10.43167\n",
      "-11.144808\n",
      "-11.203177\n",
      "-11.231071\n",
      "-11.1831045\n",
      "-11.09624\n",
      "-11.086064\n",
      "-10.929356\n",
      "-11.127819\n",
      "-9.105438\n",
      "-11.190094\n",
      "-11.283865\n",
      "-10.869104\n",
      "-11.024591\n",
      "-11.043177\n",
      "-10.629692\n",
      "-11.120768\n",
      "-11.068455\n",
      "-10.873292\n",
      "-11.136417\n",
      "-10.426586\n",
      "-10.566668\n",
      "-10.276354\n",
      "-10.340245\n",
      "-11.226146\n",
      "-10.291064\n",
      "-11.10204\n"
     ]
    }
   ],
   "source": [
    "print(\"Scores:\")\n",
    "for score in scores:\n",
    "    print(score)"
   ]
  },
  {
   "cell_type": "code",
   "execution_count": 13,
   "id": "45a35246-6d27-4a1f-8925-fd8e8cd092a8",
   "metadata": {},
   "outputs": [
    {
     "name": "stdout",
     "output_type": "stream",
     "text": [
      "New Ordering:\n",
      "13\n",
      "26\n",
      "29\n",
      "27\n",
      "24\n",
      "4\n",
      "25\n",
      "19\n",
      "3\n",
      "0\n",
      "16\n",
      "22\n",
      "11\n",
      "17\n",
      "18\n",
      "1\n",
      "21\n",
      "10\n",
      "9\n",
      "30\n",
      "20\n",
      "12\n",
      "23\n",
      "5\n",
      "8\n",
      "2\n",
      "14\n",
      "6\n",
      "28\n",
      "7\n",
      "15\n"
     ]
    }
   ],
   "source": [
    "print(\"New Ordering:\")\n",
    "for o in np.argsort(scores)[::-1]:\n",
    "    print(o)"
   ]
  },
  {
   "cell_type": "code",
   "execution_count": null,
   "id": "69a94136-a686-4fa8-b141-ec1f56fc3368",
   "metadata": {},
   "outputs": [],
   "source": []
  }
 ],
 "metadata": {
  "kernelspec": {
   "display_name": "Python 3 (ipykernel)",
   "language": "python",
   "name": "python3"
  },
  "language_info": {
   "codemirror_mode": {
    "name": "ipython",
    "version": 3
   },
   "file_extension": ".py",
   "mimetype": "text/x-python",
   "name": "python",
   "nbconvert_exporter": "python",
   "pygments_lexer": "ipython3",
   "version": "3.11.5"
  }
 },
 "nbformat": 4,
 "nbformat_minor": 5
}
