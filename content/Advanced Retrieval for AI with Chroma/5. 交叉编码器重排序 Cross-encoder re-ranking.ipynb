{
 "cells": [
  {
   "cell_type": "markdown",
   "id": "81ec59e6-c2a8-4632-b5d2-ba3dfa2a0938",
   "metadata": {},
   "source": [
    "# 5. 交叉编码器重排序\n",
    "本节课，将使用交叉编码器重排序的技术，对检索到的结果进行相关性分析。重排序是一种根据结果与特定查询的相关性来排序和评分的方法。\n"
   ]
  },
  {
   "cell_type": "markdown",
   "id": "4164d820",
   "metadata": {},
   "source": [
    "<div class=\"toc\">\n",
    "    <ul class=\"toc-item\">\n",
    "        <li><span><a href=\"#一底层原理\" data-toc-modified-id=\"一、底层原理\">一、底层原理</a></span></li>\n",
    "        <li>\n",
    "        <span><a href=\"#二实现过程\" data-toc-modified-id=\"二、实现过程\">二、实现过程</a></span></li><li>\n",
    "        <ul class=\"toc-item\">\n",
    "            <li><span><a href=\"#21-导入辅助函数\" data-toc-modified-id=\"2.1 导入辅助函数\">2.1 导入辅助函数</a></span></li>\n",
    "            <li><span><a href=\"#22-长尾部分的重排序\" data-toc-modified-id=\"2.2 长尾部分的重排序\">2.2 长尾部分的重排序</a></span></li>\n",
    "            <li><span><a href=\"#23-结合查询扩展的重排序\" data-toc-modified-id=\"2.3 结合查询扩展的重排序\">2.3 结合查询扩展的重排序</a></span></li>\n",
    "        </ul>\n",
    "        </li>\n",
    "    </ul>\n",
    "</div>"
   ]
  },
  {
   "cell_type": "markdown",
   "id": "64e96532-3105-4957-90f5-dc4f67e29c71",
   "metadata": {},
   "source": [
    "## 一、底层原理\n",
    "在重排序过程中，在得到特定查询检索到结果之后，需要将这些结果连同查询一起传递给一个重排序模型。这可以重新排列输出，使最相关的结果具有最高的排名。另一种思考方式是，重排序模型根据查询对每个结果打分，得分最高的就是最相关的结果。最后，以选择排名最高的结果作为与特定查询最相关的结果。\n",
    " \n",
    "## 二、实现过程\n",
    "### 2.1 导入辅助函数"
   ]
  },
  {
   "cell_type": "code",
   "execution_count": 1,
   "id": "bf580005-b2b2-4ff1-a9b4-938a5edc3493",
   "metadata": {},
   "outputs": [],
   "source": [
    "# 导入辅助函数并把数据加载到Chroma中 \n",
    "from helper_utils import load_chroma, word_wrap, project_embeddings\n",
    "from chromadb.utils.embedding_functions import SentenceTransformerEmbeddingFunction\n",
    "import numpy as np"
   ]
  },
  {
   "cell_type": "code",
   "execution_count": 3,
   "id": "59c34c4e-10e9-456a-a03b-b42fa71e27b0",
   "metadata": {},
   "outputs": [
    {
     "data": {
      "text/plain": [
       "349"
      ]
     },
     "execution_count": 3,
     "metadata": {},
     "output_type": "execute_result"
    }
   ],
   "source": [
    "# 使用代理可能出现网络问题，将以下端口号1080全部替换成自己的vpn的端口号\n",
    "import os\n",
    "os.environ['HTTPS_PROXY']='http://127.0.0.1:1080'\n",
    "os.environ[\"HTTP_PROXY\"]='http://127.0.0.1:1080'\n",
    "\n",
    "embedding_function = SentenceTransformerEmbeddingFunction()\n",
    "\n",
    "chroma_collection = load_chroma(filename='./data/microsoft_annual_report_2022.pdf', collection_name='microsoft_annual_report_2022', embedding_function=embedding_function)\n",
    "chroma_collection.count()"
   ]
  },
  {
   "cell_type": "markdown",
   "id": "e1b79507-f548-42c9-bcc4-b64b90eddf0c",
   "metadata": {},
   "source": [
    "### 2.2 长尾部分的重排序"
   ]
  },
  {
   "cell_type": "code",
   "execution_count": 4,
   "id": "57e9a5c0-4a7b-45cf-8042-848e8862a4ae",
   "metadata": {},
   "outputs": [
    {
     "name": "stdout",
     "output_type": "stream",
     "text": [
      "• operating expenses increased $ 1. 5 billion or 14 % driven by\n",
      "investments in gaming, search and news advertising, and windows\n",
      "marketing. operating expenses research and development ( in millions,\n",
      "except percentages ) 2022 2021 percentage change research and\n",
      "development $ 24, 512 $ 20, 716 18 % as a percent of revenue 12 % 12 %\n",
      "0ppt research and development expenses include payroll, employee\n",
      "benefits, stock - based compensation expense, and other headcount -\n",
      "related expenses associated with product development. research and\n",
      "development expenses also include third - party development and\n",
      "programming costs, localization costs incurred to translate software\n",
      "for international markets, and the amortization of purchased software\n",
      "code and services content. research and development expenses increased\n",
      "$ 3. 8 billion or 18 % driven by investments in cloud engineering,\n",
      "gaming, and linkedin. sales and marketing\n",
      "\n",
      "also increased the number of identified partners in the black partner\n",
      "growth initiative and continue to invest in the partner community\n",
      "through the black channel partner alliance by supporting events focused\n",
      "on business growth, accelerators, and mentorship. progress does not\n",
      "undo the egregious injustices of the past or diminish those who\n",
      "continue to live with inequity. we are committed to leveraging our\n",
      "resources to help accelerate diversity and inclusion across our\n",
      "ecosystem and to hold ourselves accountable to accelerate change – for\n",
      "microsoft, and beyond. investing in digital skills the covid - 19\n",
      "pandemic led to record unemployment, disrupting livelihoods of people\n",
      "around the world. after helping over 30 million people in 249 countries\n",
      "and territories with our global skills initiative, we introduced a new\n",
      "initiative to support a more skills - based labor market, with greater\n",
      "flexibility and accessible learning paths to develop the right skills\n",
      "\n",
      "when the world around us does well. that ’ s what i believe will lead\n",
      "to widespread human progress and ultimately improve the lives of\n",
      "everyone. there is no more powerful input than digital technology to\n",
      "drive the world ’ s economic output. this is the core thesis for our\n",
      "being as a company, but it ’ s not enough. as we drive global economic\n",
      "growth, we must also commit to creating a more inclusive, equitable,\n",
      "sustainable, and trusted future. support inclusive economic growth we\n",
      "must ensure the growth we drive reaches every person, organization,\n",
      "community, and country. this starts with increasing access to digital\n",
      "skills. this year alone, more than 23 million people accessed digital\n",
      "skills training as part of our global skills initiative.\n",
      "\n",
      "fiscal year 2021 was a year of both successes and challenges. while we\n",
      "continued to make progress on several of our goals, with an overall\n",
      "reduction in our combined scope 1 and scope 2 emissions, our scope 3\n",
      "emissions increased, due in substantial part to significant global\n",
      "datacenter expansions and growth in xbox sales and usage as a result of\n",
      "the covid - 19 pandemic. despite these scope 3 increases, we will\n",
      "continue to build the foundations and do the work to deliver on our\n",
      "commitments, and help our customers and partners achieve theirs. we\n",
      "have learned the impact of our work will not all be felt immediately,\n",
      "and our experience highlights how progress won ’ t always be linear.\n",
      "while fiscal year 2021 presented us with some new learnings, we also\n",
      "made some great progress. a few examples that illuminate the diversity\n",
      "of our work include : • we purchased the removal of 1. 4 million\n",
      "metrics tons of carbon.\n",
      "\n",
      "15 corporate social responsibility commitment to sustainability we work\n",
      "to ensure that technology is inclusive, trusted, and increases\n",
      "sustainability. we are accelerating progress toward a more sustainable\n",
      "future by reducing our environmental footprint, advancing research,\n",
      "helping our customers build sustainable solutions, and advocating for\n",
      "policies that benefit the environment. in january 2020, we announced a\n",
      "bold commitment and detailed plan to be carbon negative by 2030, and to\n",
      "remove from the environment by 2050 all the carbon we have emitted\n",
      "since our founding in 1975. this included a commitment to invest $ 1\n",
      "billion over four years in new technologies and innovative climate\n",
      "solutions. we built on this pledge by adding commitments to be water\n",
      "positive by 2030, zero waste by 2030, and to protect ecosystems by\n",
      "developing a planetary computer. we also help our suppliers and\n",
      "customers around the world use microsoft technology to reduce their own\n",
      "carbon footprint.\n",
      "\n",
      "engineering, gaming, and linkedin. • sales and marketing expenses\n",
      "increased $ 1. 7 billion or 8 % driven by investments in commercial\n",
      "sales and linkedin. sales and marketing included a favorable foreign\n",
      "currency impact of 2 %. • general and administrative expenses increased\n",
      "$ 793 million or 16 % driven by investments in corporate functions.\n",
      "operating income increased $ 13. 5 billion or 19 % driven by growth\n",
      "across each of our segments. current year net income and diluted eps\n",
      "were positively impacted by the net tax benefit related to the transfer\n",
      "of intangible properties, which resulted in an increase to net income\n",
      "and diluted eps of $ 3. 3 billion and $ 0. 44, respectively. prior year\n",
      "net income and diluted eps were positively impacted by the net tax\n",
      "benefit related to the india supreme court decision on withholding\n",
      "taxes, which resulted in an increase to net income and diluted eps of $\n",
      "620 million and $ 0. 08, respectively.\n",
      "\n",
      "0 billion ( a ) 2050 – 2060 2. 53 % – 2. 68 % 2. 53 % – 2. 68 % 10, 000\n",
      "10, 000 2021 issuance of $ 8. 2 billion ( a ) 2052 – 2062 2. 92 % – 3.\n",
      "04 % 2. 92 % – 3. 04 % 8, 185 8, 185 total face value 55, 511 63, 910\n",
      "\n",
      "66 gains ( losses ), net of tax, on derivative instruments recognized\n",
      "in our consolidated comprehensive income statements were as follows : (\n",
      "in millions ) year ended june 30, 2022 2021 2020 designated as cash\n",
      "flow hedging instruments foreign exchange contracts included in\n",
      "effectiveness assessment $ ( 57 ) $ 34 $ ( 38 ) note 6 — inventories\n",
      "the components of inventories were as follows : ( in millions ) june\n",
      "30, 2022 2021 raw materials $ 1, 144 $ 1, 190 work in process 82 79\n",
      "finished goods 2, 516 1, 367 total $ 3, 742 $ 2, 636 note 7 — property\n",
      "and equipment the components of property and equipment were as follows\n",
      ": ( in millions ) june 30, 2022 2021 land $ 4, 734 $ 3, 660 buildings\n",
      "and improvements 55, 014 43, 928 leasehold improvements 7, 819 6, 884\n",
      "computer equipment and software 60, 631 51, 250\n",
      "\n",
      "1 dear shareholders, colleagues, customers, and partners : we are\n",
      "living through a period of historic economic, societal, and\n",
      "geopolitical change. the world in 2022 looks nothing like the world in\n",
      "2019. as i write this, inflation is at a 40 - year high, supply chains\n",
      "are stretched, and the war in ukraine is ongoing. at the same time, we\n",
      "are entering a technological era with the potential to power awesome\n",
      "advancements across every sector of our economy and society. as the\n",
      "world ’ s largest software company, this places us at a historic\n",
      "intersection of opportunity and responsibility to the world around us.\n",
      "our mission to empower every person and every organization on the\n",
      "planet to achieve more has never been more urgent or more necessary.\n",
      "for all the uncertainty in the world, one thing is clear : people and\n",
      "organizations in every industry are increasingly looking to digital\n",
      "technology to overcome today ’ s challenges and emerge stronger. and no\n",
      "\n",
      "excluding tac, growth revenue from search and news advertising\n",
      "excluding traffic acquisition costs ( “ tac ” ) paid to bing ads\n",
      "network publishers and news partners summary results of operations ( in\n",
      "millions, except percentages and per share amounts ) 2022 2021\n",
      "percentage change revenue $ 198, 270 $ 168, 088 18 % gross margin 135,\n",
      "620 115, 856 17 % operating income 83, 383 69, 916 19 % net income 72,\n",
      "738 61, 271 19 % diluted earnings per share 9. 65 8. 05 20 % adjusted\n",
      "net income ( non - gaap ) 69, 447 60, 651 15 % adjusted diluted\n",
      "earnings per share ( non - gaap ) 9. 21 7. 97 16 % adjusted net income\n",
      "and adjusted diluted earnings per share ( “ eps ” ) are non - gaap\n",
      "financial measures which exclude the net income tax benefit related to\n",
      "transfer of intangible properties in the first quarter of fiscal year\n",
      "2022 and the\n",
      "\n"
     ]
    }
   ],
   "source": [
    "# 之前一般设定返回5个结果，现在要求返回10个结果，加入了部分可能有用的的长尾结果\n",
    "query = \"What has been tchhe investment in research and development?\"\n",
    "results = chroma_collection.query(query_texts=query, n_results=10, include=['documents', 'embeddings'])\n",
    "\n",
    "retrieved_documents = results['documents'][0]\n",
    "\n",
    "for document in results['documents'][0]:\n",
    "    print(word_wrap(document))\n",
    "    print('')"
   ]
  },
  {
   "cell_type": "code",
   "execution_count": 5,
   "id": "e4cad597-184e-47c3-96b0-8f4fa2e48bfa",
   "metadata": {},
   "outputs": [],
   "source": [
    "# BERT交叉编码器同时渠道查询和文档，通过一个分类器传递，获得一个得分\n",
    "# 利用该得分作为检索结果的相关性或排名的得分\n",
    "from sentence_transformers import CrossEncoder\n",
    "cross_encoder = CrossEncoder('cross-encoder/ms-marco-MiniLM-L-6-v2')"
   ]
  },
  {
   "cell_type": "code",
   "execution_count": 6,
   "id": "5008e277-e3e3-47f8-8d25-13b7cf56fb02",
   "metadata": {},
   "outputs": [
    {
     "name": "stdout",
     "output_type": "stream",
     "text": [
      "Scores:\n",
      "-3.2845027\n",
      "-9.440044\n",
      "-11.208979\n",
      "-11.164228\n",
      "-9.3616\n",
      "-11.032126\n",
      "-10.818983\n",
      "-11.283258\n",
      "-11.276759\n",
      "-11.241401\n"
     ]
    }
   ],
   "source": [
    "pairs = [[query, doc] for doc in retrieved_documents]\n",
    "scores = cross_encoder.predict(pairs)\n",
    "print(\"Scores:\")\n",
    "for score in scores:\n",
    "    print(score)"
   ]
  },
  {
   "cell_type": "code",
   "execution_count": 7,
   "id": "87cfadcd-4323-4e30-8371-c6096d460de2",
   "metadata": {},
   "outputs": [
    {
     "name": "stdout",
     "output_type": "stream",
     "text": [
      "New Ordering:\n",
      "1\n",
      "5\n",
      "2\n",
      "7\n",
      "6\n",
      "4\n",
      "3\n",
      "10\n",
      "9\n",
      "8\n"
     ]
    }
   ],
   "source": [
    "print(\"New Ordering:\")\n",
    "for o in np.argsort(scores)[::-1]:\n",
    "    print(o+1)"
   ]
  },
  {
   "cell_type": "markdown",
   "id": "5f8b3660-78bf-42d7-9002-1cf33f39723e",
   "metadata": {},
   "source": [
    "### 2.3 结合查询扩展的重排序"
   ]
  },
  {
   "cell_type": "code",
   "execution_count": 8,
   "id": "50cc5b54-dd9f-41fc-8252-dfa3f0ae1199",
   "metadata": {},
   "outputs": [],
   "source": [
    "# 接下来把之前获得的结果排序前5名传递给LLM\n",
    "original_query = \"What were the most important factors that contributed to increases in revenue?\"\n",
    "generated_queries = [\n",
    "    \"What were the major drivers of revenue growth?\",\n",
    "    \"Were there any new product launches that contributed to the increase in revenue?\",\n",
    "    \"Did any changes in pricing or promotions impact the revenue growth?\",\n",
    "    \"What were the key market trends that facilitated the increase in revenue?\",\n",
    "    \"Did any acquisitions or partnerships contribute to the revenue growth?\"\n",
    "]"
   ]
  },
  {
   "cell_type": "code",
   "execution_count": 9,
   "id": "2a51481a-55b1-434d-ac24-3f4b0b4f8dc7",
   "metadata": {},
   "outputs": [],
   "source": [
    "queries = [original_query] + generated_queries\n",
    "\n",
    "results = chroma_collection.query(query_texts=queries, n_results=10, include=['documents', 'embeddings'])\n",
    "retrieved_documents = results['documents']"
   ]
  },
  {
   "cell_type": "code",
   "execution_count": 10,
   "id": "3033b516-44de-4193-84b2-cc05920f6cc1",
   "metadata": {},
   "outputs": [],
   "source": [
    "# Deduplicate the retrieved documents\n",
    "unique_documents = set()\n",
    "for documents in retrieved_documents:\n",
    "    for document in documents:\n",
    "        unique_documents.add(document)\n",
    "\n",
    "unique_documents = list(unique_documents)"
   ]
  },
  {
   "cell_type": "code",
   "execution_count": 11,
   "id": "011b6190-60f8-47f4-9462-f213d43de944",
   "metadata": {},
   "outputs": [],
   "source": [
    "pairs = []\n",
    "for doc in unique_documents:\n",
    "    pairs.append([original_query, doc])"
   ]
  },
  {
   "cell_type": "code",
   "execution_count": 12,
   "id": "27a410f5-d804-4435-91a8-c2d9cc8a7384",
   "metadata": {},
   "outputs": [],
   "source": [
    "scores = cross_encoder.predict(pairs)"
   ]
  },
  {
   "cell_type": "code",
   "execution_count": 13,
   "id": "51169734-d32a-4378-80ac-19d2f291b07c",
   "metadata": {},
   "outputs": [
    {
     "name": "stdout",
     "output_type": "stream",
     "text": [
      "Scores:\n",
      "-4.8184843\n",
      "-10.148884\n",
      "-10.042843\n",
      "-9.8078785\n",
      "-10.711212\n",
      "-4.6518908\n",
      "-10.000139\n",
      "-11.079269\n",
      "-5.141833\n",
      "-3.768155\n",
      "-7.754099\n",
      "-9.768024\n",
      "-6.9020905\n",
      "-7.9171762\n",
      "-9.918427\n",
      "-9.357723\n",
      "-10.083939\n",
      "-1.1369972\n",
      "-4.3417673\n",
      "-8.505105\n",
      "-7.490654\n",
      "-5.2747474\n",
      "-3.7948644\n"
     ]
    }
   ],
   "source": [
    "print(\"Scores:\")\n",
    "for score in scores:\n",
    "    print(score)"
   ]
  },
  {
   "cell_type": "code",
   "execution_count": 14,
   "id": "45a35246-6d27-4a1f-8925-fd8e8cd092a8",
   "metadata": {},
   "outputs": [
    {
     "name": "stdout",
     "output_type": "stream",
     "text": [
      "New Ordering:\n",
      "17\n",
      "9\n",
      "22\n",
      "18\n",
      "5\n",
      "0\n",
      "8\n",
      "21\n",
      "12\n",
      "20\n",
      "10\n",
      "13\n",
      "19\n",
      "15\n",
      "11\n",
      "3\n",
      "14\n",
      "6\n",
      "2\n",
      "16\n",
      "1\n",
      "4\n",
      "7\n"
     ]
    }
   ],
   "source": [
    "print(\"New Ordering:\")\n",
    "for o in np.argsort(scores)[::-1]:\n",
    "    print(o)"
   ]
  }
 ],
 "metadata": {
  "kernelspec": {
   "display_name": "Python 3 (ipykernel)",
   "language": "python",
   "name": "python3"
  },
  "language_info": {
   "codemirror_mode": {
    "name": "ipython",
    "version": 3
   },
   "file_extension": ".py",
   "mimetype": "text/x-python",
   "name": "python",
   "nbconvert_exporter": "python",
   "pygments_lexer": "ipython3",
   "version": "3.9.18"
  }
 },
 "nbformat": 4,
 "nbformat_minor": 5
}
