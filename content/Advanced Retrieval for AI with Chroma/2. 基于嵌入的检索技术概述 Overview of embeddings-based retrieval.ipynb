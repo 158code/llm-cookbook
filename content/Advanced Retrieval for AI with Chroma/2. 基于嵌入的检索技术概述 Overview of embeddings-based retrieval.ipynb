{
 "cells": [
  {
   "cell_type": "markdown",
   "id": "e68dd396-943d-493a-bb4d-16ac9ec6609f",
   "metadata": {},
   "source": [
    "# 2. 基于嵌入的检索技术概述\n",
    "第一节课中，我们将回顾嵌入式检索系统中的一些元素，以及它们如何在一个检索增强的生成循环中与一个大型语言模型（LLM）一起配合使用。\n"
   ]
  },
  {
   "cell_type": "markdown",
   "id": "4164d820",
   "metadata": {},
   "source": [
    "<div class=\"toc\">\n",
    "    <ul class=\"toc-item\">\n",
    "        <li><span><a href=\"#一课程notebook注意事项\" data-toc-modified-id=\"一、课程notebook注意事项\">一、课程notebook注意事项</a></span></li>\n",
    "        <li>\n",
    "        <span><a href=\"#二课程内容\" data-toc-modified-id=\"二、课程内容\">二、课程内容</a></span></li><li>\n",
    "        <ul class=\"toc-item\">\n",
    "            <li><span><a href=\"#21-系统运作原理\" data-toc-modified-id=\"2.1 系统运作原理\">2.1 系统运作原理</a></span></li>\n",
    "            <li><span><a href=\"#22-系统具体实现\" data-toc-modified-id=\"2.2 系统具体实现\">2.2 系统具体实现</a></span></li>\n",
    "        </ul>\n",
    "        </li>\n",
    "    </ul>\n",
    "</div>"
   ]
  },
  {
   "cell_type": "markdown",
   "id": "bcfd9a78-cd9c-4dae-a91b-08cf2a0a9df0",
   "metadata": {},
   "source": [
    "## 一、课程notebook注意事项"
   ]
  },
  {
   "cell_type": "markdown",
   "id": "d1646079-661e-4fd6-8b94-b1d4e7cd9159",
   "metadata": {},
   "source": [
    "- 在notebook运行的过程中，可能会弹出大量的warning。这是正常现象且并不影响后续结果，可以忽略。\n",
    "- 部分操作（如调用LLM或使用生成的数据集）可能产生不可预测的返回结果，因此输出结果可能和视频中不同。"
   ]
  },
  {
   "cell_type": "markdown",
   "id": "64e96532-3105-4957-90f5-dc4f67e29c71",
   "metadata": {},
   "source": [
    "## 二、课程内容\n",
    "### 2.1 系统运作原理\n",
    "在Chorma的案例中，检索增强的方式是，当一个用户查询请求进入时，已经有运作嵌入并存储在检索系统中的文档。\n",
    "当接受到请求时，通过用有相同嵌入的模型运行该请求，来生成嵌入。\n",
    "当查询请求被嵌入时，检索系统就会根据该查询的嵌入通过最近邻的方法，找到最相关的文档。\n",
    "最后把查询请求和相关文档一起交给LLM， LLM从检索到的文档中的综合信息来生成答案。\n",
    "\n"
   ]
  },
  {
   "cell_type": "markdown",
   "id": "6ef011ec-79ff-44bc-af8d-61116e0e12b5",
   "metadata": {},
   "source": [
    "### 2.2 系统具体实现"
   ]
  },
  {
   "cell_type": "markdown",
   "id": "51cf548c-1fa0-4974-b73d-077f8d3f30a4",
   "metadata": {},
   "source": [
    "首先，从工具库中引入一些辅助函数。helper_utils.py文件可在当前目录中找到。\n",
    "该函数是一个基础的自动换行函数，它能够以一种美观、整洁的方式查看文档。"
   ]
  },
  {
   "cell_type": "code",
   "execution_count": 2,
   "id": "dc0873df-123e-4c09-b258-eaf75be7da2c",
   "metadata": {},
   "outputs": [],
   "source": [
    "from helper_utils import word_wrap"
   ]
  },
  {
   "cell_type": "code",
   "execution_count": 3,
   "id": "e7f41e63-c787-41f9-8006-2c0caba405f1",
   "metadata": {},
   "outputs": [
    {
     "name": "stdout",
     "output_type": "stream",
     "text": [
      "1 Dear shareholders, colleagues, customers, and partners:  \n",
      "We are\n",
      "living through a period of historic economic, societal, and\n",
      "geopolitical change. The world in 2022 looks nothing like \n",
      "the world in\n",
      "2019. As I write this, inflation is at a 40 -year high, supply chains\n",
      "are stretched, and the war in Ukraine is \n",
      "ongoing. At the same time, we\n",
      "are entering a technological era with the potential to power awesome\n",
      "advancements \n",
      "across every sector of our economy and society. As the\n",
      "world’s largest software company, this places us at a historic\n",
      "\n",
      "intersection of opportunity and responsibility to the world around us.\n",
      " \n",
      "Our mission to empower every person and every organization on the\n",
      "planet to achieve more has never been more \n",
      "urgent or more necessary.\n",
      "For all the uncertainty in the world, one thing is clear: People and\n",
      "organizations in every \n",
      "industry are increasingly looking to digital\n",
      "technology to overcome today’s challenges and emerge stronger. And no\n",
      "\n",
      "company is better positioned to help them than Microsoft.  \n",
      "Every day\n",
      "this past fiscal year I have had the privilege to witness our customers\n",
      "use our platforms and tools to connect \n",
      "what technology can do with\n",
      "what the world needs  it to do.  \n",
      "Here are just a few examples:  \n",
      "•\n",
      "Ferrovial, which builds and manages some of the world’s busiest\n",
      "airports and highways, is using our cloud \n",
      "infrastructure to build\n",
      "safer roads as it prepares for a future of autonomous transportation. \n",
      "\n",
      "• Peace Parks Foundation, a nonprofit helping protect natural\n",
      "ecosystems in Southern Africa, is using Microsoft \n",
      "Dynamics 365 and\n",
      "Power BI to secure essential funding, as well as our Azure AI and IoT\n",
      "solutions to help \n",
      "rangers scale their park maintenance and wildlife\n",
      "crime prevention work.  \n",
      "• One of the world’s largest robotics\n",
      "companies, Kawasaki Heavy Industries, is using the breadth of our tools\n",
      "—\n",
      "from Azure IoT and HoloLens —to create an industrial metaverse\n",
      "solution that brings its distributed workforce \n",
      "together with its\n",
      "network of connected equipment to improve productivity and keep\n",
      "employees safe.  \n",
      "• Globo, the biggest media and TV company in Brazil,\n",
      "is using Power Platform to empower its employees to \n",
      "build their own\n",
      "solutions for everything from booking sets to setting schedules.  \n",
      "•\n",
      "And Ørsted, which produces a quarter of the world’s wind energy, is\n",
      "using the Microsoft Intelligent Data \n",
      "Platform to turn data from its\n",
      "offshore turbines into insights for predictive maintenance.  \n",
      "Amid this\n",
      "dynamic environment, we delivered record results in fiscal year 2022:\n",
      "We reported $198  billion in revenue and \n",
      "$83 billion in operating\n",
      "income. And the Microsoft Cloud surpassed $100  billion in annualized\n",
      "revenue for the first time.  \n",
      "OUR RESPONSIBILITY  \n",
      "As a corporation,\n",
      "our purpose and actions must be aligned with addressing the world’s\n",
      "problems, not creating new ones. \n",
      "At our very core, we need to deliver\n",
      "innovation that helps drive broad economic growth. We, as a company,\n",
      "will do well \n",
      "when the world around us does well.  \n",
      "That’s what I\n",
      "believe will lead to widespread human progress and ultimately improve\n",
      "the lives of everyone. There is no \n",
      "more powerful input than digital\n",
      "technology to drive the world’s economic output. This is the core\n",
      "thesis for our being as a \n",
      "company, but it’s not enough. As we drive\n",
      "global economic growth, we must also commit to creating a more\n",
      "inclusive, \n",
      "equitable, sustainable, and trusted future.  \n",
      "Support\n",
      "inclusive economic growth  \n",
      "We must ensure the growth we drive reaches\n",
      "every person, organization, community, and country. This starts with\n",
      "\n",
      "increasing access to digital skills. This year alone, more than 23 \n",
      "million people accessed digital skills training as part of \n",
      "our global\n",
      "skills initiative.\n"
     ]
    }
   ],
   "source": [
    "# 导入PDF阅读器\n",
    "from pypdf import PdfReader\n",
    "# 使用microsoft_annual_report_2022作为示例文件\n",
    "reader = PdfReader(\"./data/microsoft_annual_report_2022.pdf\")\n",
    "# 从该文件中提取文本，并跳过空格\n",
    "pdf_texts=[p.extract_text().strip() for p in reader.pages]\n",
    "\n",
    "# 过滤空行，因为检索系统不能接受空行\n",
    "pdf_texts=[text for text in pdf_texts if text]\n",
    "\n",
    "print(word_wrap(pdf_texts[0]))"
   ]
  },
  {
   "cell_type": "markdown",
   "id": "73fc1b6c-b728-4445-8708-2fd418d18ce2",
   "metadata": {},
   "source": [
    "如果想查看该pdf文件的话，请在data目录里查找。"
   ]
  },
  {
   "cell_type": "code",
   "execution_count": 4,
   "id": "621e748b-6a60-462d-962e-b1c6255e7519",
   "metadata": {},
   "outputs": [],
   "source": [
    "# 在LangChain工具集中，使用递归字符文本拆分器和句子转换器令牌文本拆分器。\n",
    "# 字符拆分器可以根据特定的分隔符递归地划分文本，使得它可以在文本中查找指定的字符并在这些字符处将文本呢分割成更小的片段。\n",
    "from langchain.text_splitter import RecursiveCharacterTextSplitter, SentenceTransformersTokenTextSplitter"
   ]
  },
  {
   "cell_type": "code",
   "execution_count": 5,
   "id": "4e19909d-de1f-4f7b-a580-10d7e56ff9f2",
   "metadata": {},
   "outputs": [
    {
     "name": "stdout",
     "output_type": "stream",
     "text": [
      "increased, due in large part to significant global datacenter\n",
      "expansions and the growth in Xbox sales and usage. Despite \n",
      "these\n",
      "increases, we remain dedicated to achieving a net -zero future. We\n",
      "recognize that progress won’t always be linear, \n",
      "and the rate at which\n",
      "we can implement emissions reductions is dependent on many factors that\n",
      "can fluctuate over time.  \n",
      "On the path to becoming water positive, we\n",
      "invested in 21 water replenishment projects that are expected to\n",
      "generate \n",
      "over 1.3  million cubic meters of volumetric benefits in nine\n",
      "water basins around the world. Progress toward our zero waste\n",
      "\n",
      "commitment included diverting more than 15,200 metric tons of solid\n",
      "waste otherwise headed to landfills and incinerators, \n",
      "as well as\n",
      "launching new Circular Centers to increase reuse and reduce e -waste at\n",
      "our datacenters.  \n",
      "We contracted to protect over 17,000 acres of land\n",
      "(50% more than the land we use to operate), thus achieving our\n",
      "\n",
      "Total chunks: 347\n"
     ]
    }
   ],
   "source": [
    "character_splitter = RecursiveCharacterTextSplitter(\n",
    "    separators=[\"\\n\\n\", \"\\n\", \". \", \" \", \"\"],\n",
    "    chunk_size=1000,\n",
    "    chunk_overlap=0\n",
    ")\n",
    "character_split_texts = character_splitter.split_text('\\n\\n'.join(pdf_texts))\n",
    "\n",
    "print(word_wrap(character_split_texts[10]))\n",
    "print(f\"\\nTotal chunks: {len(character_split_texts)}\")"
   ]
  },
  {
   "cell_type": "code",
   "execution_count": 6,
   "id": "15590844-49ec-4c16-8f19-c49f9122d135",
   "metadata": {},
   "outputs": [
    {
     "name": "stderr",
     "output_type": "stream",
     "text": [
      "d:\\Anaconda\\envs\\chroma\\lib\\site-packages\\tqdm\\auto.py:21: TqdmWarning: IProgress not found. Please update jupyter and ipywidgets. See https://ipywidgets.readthedocs.io/en/stable/user_install.html\n",
      "  from .autonotebook import tqdm as notebook_tqdm\n",
      "d:\\Anaconda\\envs\\chroma\\lib\\site-packages\\torch\\_utils.py:831: UserWarning: TypedStorage is deprecated. It will be removed in the future and UntypedStorage will be the only storage class. This should only matter to you if you are using storages directly.  To access UntypedStorage directly, use tensor.untyped_storage() instead of tensor.storage()\n",
      "  return self.fget.__get__(instance, owner)()\n"
     ]
    },
    {
     "name": "stdout",
     "output_type": "stream",
     "text": [
      "increased, due in large part to significant global datacenter\n",
      "expansions and the growth in xbox sales and usage. despite these\n",
      "increases, we remain dedicated to achieving a net - zero future. we\n",
      "recognize that progress won ’ t always be linear, and the rate at which\n",
      "we can implement emissions reductions is dependent on many factors that\n",
      "can fluctuate over time. on the path to becoming water positive, we\n",
      "invested in 21 water replenishment projects that are expected to\n",
      "generate over 1. 3 million cubic meters of volumetric benefits in nine\n",
      "water basins around the world. progress toward our zero waste\n",
      "commitment included diverting more than 15, 200 metric tons of solid\n",
      "waste otherwise headed to landfills and incinerators, as well as\n",
      "launching new circular centers to increase reuse and reduce e - waste\n",
      "at our datacenters. we contracted to protect over 17, 000 acres of land\n",
      "( 50 % more than the land we use to operate ), thus achieving our\n",
      "\n",
      "Total chunks: 349\n"
     ]
    }
   ],
   "source": [
    "# 使用的嵌入模型称为句子转换器，对上下文窗口宽度有限制，最大时256个字符。\n",
    "token_splitter = SentenceTransformersTokenTextSplitter(chunk_overlap=0, tokens_per_chunk=256)\n",
    "\n",
    "token_split_texts = []\n",
    "for text in character_split_texts:\n",
    "    token_split_texts += token_splitter.split_text(text)\n",
    "\n",
    "print(word_wrap(token_split_texts[10]))\n",
    "print(f\"\\nTotal chunks: {len(token_split_texts)}\")"
   ]
  },
  {
   "cell_type": "markdown",
   "id": "cba90112-8646-4952-bd17-85439f34c649",
   "metadata": {},
   "source": [
    "这里一个小陷阱。如果你不习惯处理嵌入，你可能不会考虑嵌入模型上下文窗口本身，\n",
    "但这非常重要，因为通常一个嵌入模型有一个固定的上下文窗口大小，这意味着它在任何给定时间只能考虑一定数量的词。\n",
    "这个上下文窗口限制了模型能够“看到”和因此处理的文本长度。\n",
    "如果文本超过了模型的上下文窗口大小，模型可能无法捕捉到超出窗口范围的文本信息，这可能会影响嵌入的质量和最终的检索或生成结果的准确性。"
   ]
  },
  {
   "cell_type": "code",
   "execution_count": 7,
   "id": "130219d8-d48d-42e7-9009-8d04a31eb3cc",
   "metadata": {},
   "outputs": [
    {
     "name": "stdout",
     "output_type": "stream",
     "text": [
      "[[0.04256267845630646, 0.0332118459045887, 0.030340120196342468, -0.03486662358045578, 0.0684165358543396, -0.08090914040803909, -0.015474344603717327, -0.001450925599783659, -0.016744449734687805, 0.06770767271518707, -0.05054139718413353, -0.04919539764523506, 0.051399920135736465, 0.09192727506160736, -0.07177843153476715, 0.03951965644955635, -0.012833518907427788, -0.024947475641965866, -0.04622865840792656, -0.024357473477721214, 0.033949702978134155, 0.025502461940050125, 0.027317170053720474, -0.004126226995140314, -0.03633830323815346, 0.0036909349728375673, -0.027430439367890358, 0.004796764813363552, -0.02889624796807766, -0.018870700150728226, 0.03666626289486885, 0.025695810094475746, 0.031312838196754456, -0.06393440067768097, 0.05394405499100685, 0.08225345611572266, -0.04175683856010437, -0.006995807401835918, -0.023486042395234108, -0.03074793517589569, -0.0029792150016874075, -0.07790940999984741, 0.0093531534075737, 0.0031628983560949564, -0.022257069125771523, -0.018294645473361015, -0.009612462483346462, -0.03150688111782074, -0.00551965506747365, -0.03270302712917328, 0.1680297702550888, -0.047459617257118225, -0.0500168651342392, -0.0026596002280712128, -0.04104725643992424, -0.07003950327634811, 0.018295979127287865, -0.03143109381198883, -0.04741121828556061, -0.023663591593503952, 0.059449512511491776, -0.07201439887285233, 0.0049451966769993305, -0.05532696470618248, 0.08745483309030533, 0.02787267602980137, -0.03977258875966072, 0.0345299206674099, -0.09992030262947083, 0.032897572964429855, -0.05780428647994995, 0.0024546817876398563, -0.02789231948554516, -0.04994705319404602, -0.040582507848739624, 0.011917488649487495, 0.02041909284889698, 0.07765401154756546, 0.06351621448993683, 0.017546875402331352, 0.023460954427719116, -0.007916606962680817, 0.01707426644861698, 0.008641202934086323, -0.06815336644649506, 0.03429612144827843, 0.0006464703474193811, 0.02273547649383545, 0.052793607115745544, -0.05857317894697189, -0.09784112125635147, -0.00147189327981323, 0.13739891350269318, 0.00207942514680326, -0.07581514865159988, 0.05786578357219696, -0.06069643422961235, -0.06595754623413086, -0.03365057334303856, -0.03185928240418434, 0.012266593053936958, 0.0937330350279808, 0.06799507141113281, -0.08434036374092102, 0.04402477666735649, -0.042638711631298065, 0.011163061484694481, 0.1050521656870842, 0.02950587309896946, -0.018521122634410858, -0.02968829870223999, -0.03377031534910202, 0.0014967062743380666, 0.0373237319290638, -0.02024969644844532, 0.058420807123184204, -0.03979163616895676, -0.02121969871222973, 0.006418142467737198, -0.0102901766076684, 0.01962609961628914, 0.0036797074135392904, -0.0503108948469162, -0.01689707674086094, 0.048544976860284805, 0.06682302802801132, 0.019536307081580162, 2.7227452185768545e-33, -0.03593410551548004, 0.015661850571632385, 0.0967765524983406, -0.00028514370205812156, -0.009768548421561718, -0.09068474918603897, 0.014486285857856274, 0.01259075477719307, 0.02543584629893303, -0.034434814006090164, 0.004262910224497318, 0.027121329680085182, -0.02040998451411724, 0.07688487321138382, 0.03572094440460205, -0.13492530584335327, 0.05657851696014404, 0.01836451329290867, 0.02257785201072693, -0.035890284925699234, -0.01145672332495451, -0.049938276410102844, -0.016012387350201607, -0.06335365772247314, 0.10463957488536835, -0.0880161002278328, -0.004462334327399731, -0.010300991125404835, -0.01763070747256279, -0.020292295143008232, 0.006704232189804316, 0.09172341227531433, -0.007795040030032396, 0.0059494562447071075, -0.01534886471927166, 0.018279578536748886, -0.018921513110399246, 0.03987528383731842, -0.003967307973653078, 0.033419277518987656, -0.056077226996421814, 0.07581258565187454, -0.005625466350466013, -0.05445524677634239, 0.06698440760374069, -0.02597438544034958, 0.11199556291103363, -0.03642142936587334, 0.00501260906457901, 0.03200996667146683, 0.04963693022727966, 0.09711595624685287, -0.11546939611434937, 0.06413277983665466, -0.03397878631949425, -0.0929156243801117, 0.04975476861000061, -0.0861341804265976, -0.008366377092897892, -0.013703729026019573, -0.07882806658744812, 0.01965443789958954, -0.037150461226701736, 0.01447618193924427, -0.04940316826105118, 0.05349243804812431, 0.09139016270637512, 0.03100295551121235, 0.030287623405456543, 0.021342789754271507, -0.04393777623772621, -0.04297446087002754, -0.002265111543238163, -0.021944096311926842, 0.005474564153701067, -0.010243928991258144, 0.021678002551198006, -0.027323707938194275, -0.0007882032077759504, 0.033089231699705124, -0.007402344606816769, 0.009829986840486526, 0.013544116169214249, -0.03274482116103172, 0.05601905286312103, -0.060116469860076904, 0.031121965497732162, 0.03442239388823509, 0.02655055746436119, -0.006807895842939615, -0.01105420384556055, -0.014439878053963184, 0.02278529480099678, -0.027952006086707115, -0.01620897278189659, -3.6892500818053784e-33, 0.029203729704022408, 0.04670485854148865, -0.049644213169813156, 0.06324487179517746, 0.028438014909625053, -0.022357182577252388, 0.033479850739240646, -0.018478669226169586, 0.018780121579766273, 0.0024116456042975187, -0.08167838305234909, 0.10084167122840881, 0.049023110419511795, 0.036467261612415314, -0.04556039720773697, -0.07049194723367691, 0.025340409949421883, -0.03267942741513252, -0.04296497628092766, -0.0725102499127388, 0.04130708426237106, 0.050497204065322876, 0.0064772856421768665, -0.0033250018022954464, -0.08235664665699005, 0.08007712662220001, -0.03465387225151062, 0.008470462635159492, 0.04138947278261185, -0.010147692635655403, -0.1028965413570404, 0.04567127302289009, 0.01279604434967041, -0.06017764285206795, -0.026627834886312485, -0.09725235402584076, 0.01579860784113407, 0.07219124585390091, -0.015325838699936867, 0.0018071120139211416, 0.06039535626769066, -0.07077643275260925, -0.021278686821460724, -0.03851627930998802, -0.05741118639707565, -0.004253794439136982, 0.03280767798423767, -0.017595669254660606, 0.04975767433643341, -0.007379014510661364, -0.00835457444190979, 0.04313787445425987, -0.054291605949401855, 0.04316217079758644, 0.023688573390245438, 0.01817154325544834, 0.0928221121430397, -0.004222902003675699, -0.022514550015330315, 0.019288284704089165, -0.03684431314468384, 0.10015194863080978, 0.01776476949453354, 0.02284952625632286, -0.039676886051893234, 0.0016808746149763465, 0.05066920071840286, 0.08564932644367218, -0.02641357108950615, -0.0326685793697834, -0.03694962337613106, -0.020994102582335472, 0.017766082659363747, -0.07413070648908615, -0.02468813769519329, -0.03994891420006752, -0.024768024682998657, -0.02419404126703739, -0.010816453024744987, 0.010816008783876896, -0.030551698058843613, 0.10519366711378098, -0.008021793328225613, -0.03289629518985748, 0.14804388582706451, -0.0709429383277893, -0.05021917074918747, -0.15231887996196747, 0.022767426446080208, 0.13845959305763245, -0.0792330875992775, -0.0416010245680809, -0.09371676295995712, 0.06601830571889877, 0.04352034255862236, -4.9979703931057884e-08, -0.010548106394708157, 0.060080286115407944, 0.028823520988225937, 0.07072242349386215, 0.031575288623571396, -0.0591379851102829, 0.05488338693976402, 0.16316649317741394, 0.03475948050618172, 0.027875378727912903, 0.07126771658658981, -0.0069463965483009815, -0.052904341369867325, 0.011619007214903831, -0.026835015043616295, 0.0289542768150568, 0.043446920812129974, -0.07012008875608444, -0.058793969452381134, -0.039219386875629425, -0.017293905839323997, -0.030054517090320587, -0.08112527430057526, -0.04506205767393112, 0.05249616876244545, -0.04923570156097412, 0.08052122592926025, 0.06585509330034256, -0.0006080941529944539, -0.045664116740226746, 0.03058703802525997, -0.0063860188238322735, -0.03175577148795128, 0.008228814229369164, 0.010760982520878315, 0.0010412532137706876, 0.019078725948929787, 0.032279834151268005, -0.014408719725906849, 0.03579794615507126, -0.07228191196918488, 0.03363296389579773, 0.006663563195616007, -0.018206223845481873, -0.020436253398656845, -0.002635316690430045, -0.1854771375656128, 0.012449326924979687, 0.02973133884370327, -0.038548488169908524, -0.009753325022757053, -0.013694332912564278, 0.009183360263705254, 0.08488920331001282, 0.1272187978029251, 0.05545998737215996, -0.04936165362596512, -0.01191201526671648, -0.056979287415742874, 0.10420077294111252, 0.05718066543340683, -0.10395055264234543, -0.023767797276377678, -0.0271690022200346]]\n"
     ]
    }
   ],
   "source": [
    "# 使用BERT来实现句子转换器\n",
    "# 句子转换器是出色的嵌入模型，内置于Chorma中，开源且所有权重可在线获取。\n",
    "# 下面的工作是为了创建一个句子转换器嵌入函数，使其能够和Chorma一起使用。\n",
    "import chromadb\n",
    "from chromadb.utils.embedding_functions import SentenceTransformerEmbeddingFunction\n",
    "\n",
    "embedding_function = SentenceTransformerEmbeddingFunction()\n",
    "print(embedding_function([token_split_texts[10]]))"
   ]
  },
  {
   "cell_type": "code",
   "execution_count": 8,
   "id": "640096b7-9d60-49b5-a696-a5fc3de4089f",
   "metadata": {},
   "outputs": [
    {
     "data": {
      "text/plain": [
       "349"
      ]
     },
     "execution_count": 8,
     "metadata": {},
     "output_type": "execute_result"
    }
   ],
   "source": [
    "# 接下来是设置Chroma\n",
    "chroma_client = chromadb.Client()\n",
    "chroma_collection = chroma_client.create_collection(\"microsoft_annual_report_2022\", embedding_function=embedding_function)\n",
    "\n",
    "ids = [str(i) for i in range(len(token_split_texts))]\n",
    "\n",
    "chroma_collection.add(ids=ids, documents=token_split_texts)\n",
    "chroma_collection.count()"
   ]
  },
  {
   "cell_type": "code",
   "execution_count": 9,
   "id": "728ced5f-e137-4305-818d-57ecb113f502",
   "metadata": {},
   "outputs": [
    {
     "name": "stdout",
     "output_type": "stream",
     "text": [
      "revenue, classified by significant product and service offerings, was\n",
      "as follows : ( in millions ) year ended june 30, 2022 2021 2020 server\n",
      "products and cloud services $ 67, 321 $ 52, 589 $ 41, 379 office\n",
      "products and cloud services 44, 862 39, 872 35, 316 windows 24, 761 22,\n",
      "488 21, 510 gaming 16, 230 15, 370 11, 575 linkedin 13, 816 10, 289 8,\n",
      "077 search and news advertising 11, 591 9, 267 8, 524 enterprise\n",
      "services 7, 407 6, 943 6, 409 devices 6, 991 6, 791 6, 457 other 5, 291\n",
      "4, 479 3, 768 total $ 198, 270 $ 168, 088 $ 143, 015 we have recast\n",
      "certain previously reported amounts in the table above to conform to\n",
      "the way we internally manage and monitor our business.\n",
      "\n",
      "\n",
      "74 note 13 — unearned revenue unearned revenue by segment was as\n",
      "follows : ( in millions ) june 30, 2022 2021 productivity and business\n",
      "processes $ 24, 558 $ 22, 120 intelligent cloud 19, 371 17, 710 more\n",
      "personal computing 4, 479 4, 311 total $ 48, 408 $ 44, 141 changes in\n",
      "unearned revenue were as follows : ( in millions ) year ended june 30,\n",
      "2022 balance, beginning of period $ 44, 141 deferral of revenue 110,\n",
      "455 recognition of unearned revenue ( 106, 188 ) balance, end of period\n",
      "$ 48, 408 revenue allocated to remaining performance obligations, which\n",
      "includes unearned revenue and amounts that will be invoiced and\n",
      "recognized as revenue in future periods, was $ 193 billion as of june\n",
      "30, 2022, of which $ 189 billion is related to the commercial portion\n",
      "of revenue. we expect to recognize approximately 45 % of this revenue\n",
      "over the next 12\n",
      "\n",
      "\n",
      "82 in addition, certain costs incurred at a corporate level that are\n",
      "identifiable and that benefit our segments are allocated to them. these\n",
      "allocated costs include legal, including settlements and fines,\n",
      "information technology, human resources, finance, excise taxes, field\n",
      "selling, shared facilities services, and customer service and support.\n",
      "each allocation is measured differently based on the specific facts and\n",
      "circumstances of the costs being allocated. segment revenue and\n",
      "operating income were as follows during the periods presented : ( in\n",
      "millions ) year ended june 30, 2022 2021 2020 revenue productivity and\n",
      "business processes $ 63, 364 $ 53, 915 $ 46, 398 intelligent cloud 75,\n",
      "251 60, 080 48, 366 more personal computing 59, 655 54, 093 48, 251\n",
      "total $ 198, 270 $ 168, 088 $ 143, 015 operating income\n",
      "\n",
      "\n",
      "47 financial statements and supplementary data income statements ( in\n",
      "millions, except per share amounts ) year ended june 30, 2022 2021 2020\n",
      "revenue : product $ 72, 732 $ 71, 074 $ 68, 041 service and other 125,\n",
      "538 97, 014 74, 974 total revenue 198, 270 168, 088 143, 015 cost of\n",
      "revenue : product 19, 064 18, 219 16, 017 service and other 43, 586 34,\n",
      "013 30, 061 total cost of revenue 62, 650 52, 232 46, 078 gross margin\n",
      "135, 620 115, 856 96, 937 research and development 24, 512 20, 716 19,\n",
      "269 sales and marketing 21, 825 20, 117 19, 598 general and\n",
      "administrative 5, 900 5, 107 5, 111 operating income 83, 383 69, 916\n",
      "52, 959 other income, net 333 1, 186 77 income before income taxes 83,\n",
      "716 71, 102 53, 036 provision for income taxes 10, 978 9, 831 8, 755\n",
      "\n",
      "\n",
      "37 general and administrative expenses include payroll, employee\n",
      "benefits, stock - based compensation expense, and other headcount -\n",
      "related expenses associated with finance, legal, facilities, certain\n",
      "human resources and other administrative personnel, certain taxes, and\n",
      "legal and other administrative fees. general and administrative\n",
      "expenses increased $ 793 million or 16 % driven by investments in\n",
      "corporate functions. other income ( expense ), net the components of\n",
      "other income ( expense ), net were as follows : ( in millions ) year\n",
      "ended june 30, 2022 2021 interest and dividends income $ 2, 094 $ 2,\n",
      "131 interest expense ( 2, 063 ) ( 2, 346 ) net recognized gains on\n",
      "investments 461 1, 232 net gains ( losses ) on derivatives ( 52 ) 17\n",
      "net gains ( losses ) on foreign currency remeasurements ( 75 ) 54\n",
      "other, net ( 32 ) 98 total $ 333 $ 1, 186\n",
      "\n",
      "\n"
     ]
    }
   ],
   "source": [
    "# 现在所有内容都加载到了Chorma中，让我们连接一个LLM并构建一个完整的检索增强生成（RAG)系统\n",
    "# 接下来演示查询、检索和LLM是如何一起工作的\n",
    "query = \"What was the total revenue?\"\n",
    "\n",
    "# 查询Chorma来获取结果，请求5个结果\n",
    "results = chroma_collection.query(query_texts=[query], n_results=5)\n",
    "retrieved_documents = results['documents'][0]\n",
    "\n",
    "for document in retrieved_documents:\n",
    "    print(word_wrap(document))\n",
    "    print('\\n')"
   ]
  },
  {
   "cell_type": "code",
   "execution_count": 10,
   "id": "1eaa50ca-9ffb-42e1-8d94-ca73afb263fa",
   "metadata": {},
   "outputs": [],
   "source": [
    "# 接下来，将这些结果与LLM一起使用，来回答查询\n",
    "# 使GPT进行操作，以便拥有一个OpenAI客户端\n",
    "import os\n",
    "import openai\n",
    "from openai import OpenAI\n",
    "\n",
    "from dotenv import load_dotenv, find_dotenv\n",
    "_ = load_dotenv(find_dotenv()) # read local .env file\n",
    "openai.api_key = os.environ['OPENAI_API_KEY']\n",
    "\n",
    "openai_client = OpenAI()"
   ]
  },
  {
   "cell_type": "code",
   "execution_count": 11,
   "id": "25668232-f943-4f4a-809f-b0ec70da8d32",
   "metadata": {},
   "outputs": [],
   "source": [
    "# 使用GPT3.5 Turbo完成后续操作\n",
    "def rag(query, retrieved_documents, model=\"gpt-3.5-turbo\"):\n",
    "    information = \"\\n\\n\".join(retrieved_documents)\n",
    "\n",
    "    messages = [\n",
    "        {\n",
    "            \"role\": \"system\",\n",
    "            \"content\": \"You are a helpful expert financial research assistant. Your users are asking questions about information contained in an annual report.\"\n",
    "            \"You will be shown the user's question, and the relevant information from the annual report. Answer the user's question using only this information.\"\n",
    "        },\n",
    "        {\"role\": \"user\", \"content\": f\"Question: {query}. \\n Information: {information}\"}\n",
    "    ]\n",
    "    \n",
    "    response = openai_client.chat.completions.create(\n",
    "        model=model,\n",
    "        messages=messages,\n",
    "    )\n",
    "    content = response.choices[0].message.content\n",
    "    return content"
   ]
  },
  {
   "cell_type": "code",
   "execution_count": 12,
   "id": "2a9c7300-c141-4096-892b-8124a3adb720",
   "metadata": {},
   "outputs": [
    {
     "name": "stdout",
     "output_type": "stream",
     "text": [
      "The total revenue for the year ended June 30, 2022, was $198,270\n",
      "million.\n"
     ]
    }
   ],
   "source": [
    "output = rag(query=query, retrieved_documents=retrieved_documents)\n",
    "\n",
    "print(word_wrap(output))"
   ]
  }
 ],
 "metadata": {
  "kernelspec": {
   "display_name": "Python 3 (ipykernel)",
   "language": "python",
   "name": "python3"
  },
  "language_info": {
   "codemirror_mode": {
    "name": "ipython",
    "version": 3
   },
   "file_extension": ".py",
   "mimetype": "text/x-python",
   "name": "python",
   "nbconvert_exporter": "python",
   "pygments_lexer": "ipython3",
   "version": "3.9.18"
  }
 },
 "nbformat": 4,
 "nbformat_minor": 5
}
