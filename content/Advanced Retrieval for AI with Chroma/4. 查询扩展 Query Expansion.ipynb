{
 "cells": [
  {
   "cell_type": "markdown",
   "metadata": {},
   "source": [
    "# 4.查询扩展 Query Expansion"
   ]
  },
  {
   "cell_type": "markdown",
   "metadata": {},
   "source": [
    "## 目录\n",
    "- [4.1 - Expansion with generator answers（生成器答案扩展）](#41-expansion-with-generator-answers生成器答案扩展)\n",
    "- [4.2 - Expansion with multiple queries（多个查询的查询扩展）](#42-expansion-with-multiple-queries多个查询的查询扩展)\n",
    "- [4.3 - 总结](#43-总结)\n",
    "\n",
    "我们将通过Expansion with generator answers和Expansion with multiple queries两个例子，学习使用查询增强的方法，来帮助我们改善查询的质量，提供更加精确和丰富的信息。"
   ]
  },
  {
   "cell_type": "markdown",
   "metadata": {},
   "source": [
    "## 4.1  Expansion with generator answers（生成器答案扩展）\n"
   ]
  },
  {
   "cell_type": "markdown",
   "metadata": {},
   "source": [
    "![Expansion with generated answers.png](./images/Expansion%20with%20generated%20answers.png)"
   ]
  },
  {
   "cell_type": "markdown",
   "metadata": {},
   "source": [
    "我们先通过图片了解 Expansion with generator answers 的工作原理：\n",
    "\n",
    "第一步，我们先提出一个查询。\n",
    "\n",
    "第二步，使用LLM生成问题的答案，以提供相关上下文。\n",
    "\n",
    "第三步，利用向量数据库（VectorDB）检索原始查询的多个结果，包含附加的上下文。\n",
    "\n",
    "第四步，再次使用LLM得到最终答案。"
   ]
  },
  {
   "cell_type": "markdown",
   "metadata": {},
   "source": [
    "让我们开始进行实践\n",
    "\n",
    "首先，我们来导入要用到的数据"
   ]
  },
  {
   "cell_type": "code",
   "execution_count": 1,
   "metadata": {},
   "outputs": [
    {
     "data": {
      "text/plain": [
       "349"
      ]
     },
     "execution_count": 1,
     "metadata": {},
     "output_type": "execute_result"
    }
   ],
   "source": [
    "from helper_utils import load_chroma, word_wrap, project_embeddings\n",
    "from chromadb.utils.embedding_functions import SentenceTransformerEmbeddingFunction\n",
    "\n",
    "embedding_function = SentenceTransformerEmbeddingFunction()\n",
    "\n",
    "chroma_collection = load_chroma(filename='./data/microsoft_annual_report_2022.pdf', collection_name='microsoft_annual_report_2022', embedding_function=embedding_function)\n",
    "chroma_collection.count()"
   ]
  },
  {
   "cell_type": "markdown",
   "metadata": {},
   "source": [
    "配置`OPENAI_API_KEY`(在`.env`文件中进行设置)"
   ]
  },
  {
   "cell_type": "code",
   "execution_count": 2,
   "metadata": {},
   "outputs": [],
   "source": [
    "import os\n",
    "import openai\n",
    "from openai import OpenAI\n",
    "\n",
    "from dotenv import load_dotenv, find_dotenv\n",
    "_ = load_dotenv(find_dotenv()) # read local .env file\n",
    "openai.api_key = os.environ['OPENAI_API_KEY']\n",
    "\n",
    "openai_client = OpenAI()"
   ]
  },
  {
   "cell_type": "markdown",
   "metadata": {},
   "source": [
    "使用`umap`进行投影数据"
   ]
  },
  {
   "cell_type": "code",
   "execution_count": 3,
   "metadata": {},
   "outputs": [
    {
     "name": "stderr",
     "output_type": "stream",
     "text": [
      "d:\\Anaconda3\\Lib\\site-packages\\umap\\distances.py:1063: NumbaDeprecationWarning: \u001b[1mThe 'nopython' keyword argument was not supplied to the 'numba.jit' decorator. The implicit default value for this argument is currently False, but it will be changed to True in Numba 0.59.0. See https://numba.readthedocs.io/en/stable/reference/deprecation.html#deprecation-of-object-mode-fall-back-behaviour-when-using-jit for details.\u001b[0m\n",
      "  @numba.jit()\n",
      "d:\\Anaconda3\\Lib\\site-packages\\umap\\distances.py:1071: NumbaDeprecationWarning: \u001b[1mThe 'nopython' keyword argument was not supplied to the 'numba.jit' decorator. The implicit default value for this argument is currently False, but it will be changed to True in Numba 0.59.0. See https://numba.readthedocs.io/en/stable/reference/deprecation.html#deprecation-of-object-mode-fall-back-behaviour-when-using-jit for details.\u001b[0m\n",
      "  @numba.jit()\n",
      "d:\\Anaconda3\\Lib\\site-packages\\umap\\distances.py:1086: NumbaDeprecationWarning: \u001b[1mThe 'nopython' keyword argument was not supplied to the 'numba.jit' decorator. The implicit default value for this argument is currently False, but it will be changed to True in Numba 0.59.0. See https://numba.readthedocs.io/en/stable/reference/deprecation.html#deprecation-of-object-mode-fall-back-behaviour-when-using-jit for details.\u001b[0m\n",
      "  @numba.jit()\n",
      "d:\\Anaconda3\\Lib\\site-packages\\umap\\umap_.py:660: NumbaDeprecationWarning: \u001b[1mThe 'nopython' keyword argument was not supplied to the 'numba.jit' decorator. The implicit default value for this argument is currently False, but it will be changed to True in Numba 0.59.0. See https://numba.readthedocs.io/en/stable/reference/deprecation.html#deprecation-of-object-mode-fall-back-behaviour-when-using-jit for details.\u001b[0m\n",
      "  @numba.jit()\n",
      "100%|██████████| 349/349 [04:14<00:00,  1.37it/s]\n"
     ]
    }
   ],
   "source": [
    "import umap.umap_ as umap\n",
    "\n",
    "embeddings = chroma_collection.get(include=['embeddings'])['embeddings']\n",
    "umap_transform = umap.UMAP(random_state=0, transform_seed=0).fit(embeddings)\n",
    "projected_dataset_embeddings = project_embeddings(embeddings, umap_transform)"
   ]
  },
  {
   "cell_type": "markdown",
   "metadata": {},
   "source": [
    "参考paper https://arxiv.org/abs/2305.03653"
   ]
  },
  {
   "cell_type": "markdown",
   "metadata": {},
   "source": [
    "我们创建名为`augment`的函数，进行生成查询，并传递一个查询，传入模型参数（默认使用`gpt-3.5-turbo`），"
   ]
  },
  {
   "cell_type": "code",
   "execution_count": 4,
   "metadata": {},
   "outputs": [],
   "source": [
    "def augment_query_generated(query, model=\"gpt-3.5-turbo\"):\n",
    "    messages = [\n",
    "        {\n",
    "            \"role\": \"system\",\n",
    "            # 设定一个对话场景，模型被告知扮演一个专业的财经研究助理。\n",
    "            \"content\": \"You are a helpful expert financial research assistant. Provide an example answer to the given question, that might be found in a document like an annual report. \" # 系统提示\n",
    "        },\n",
    "        {\"role\": \"user\", \"content\": query} # 通过查询作为内容\n",
    "    ] \n",
    "    \n",
    "    # 定义如何提示模型\n",
    "    response = openai_client.chat.completions.create(\n",
    "        model=model,\n",
    "        messages=messages,\n",
    "    )\n",
    "    content = response.choices[0].message.content\n",
    "    return content"
   ]
  },
  {
   "cell_type": "markdown",
   "metadata": {},
   "source": [
    "进行第一次查询"
   ]
  },
  {
   "cell_type": "code",
   "execution_count": 5,
   "metadata": {},
   "outputs": [
    {
     "name": "stdout",
     "output_type": "stream",
     "text": [
      "Was there significant turnover in the executive team? Yes, there was\n",
      "significant turnover in the executive team during the year. Three key\n",
      "executives left the company, including the Chief Financial Officer,\n",
      "Chief Operating Officer, and Chief Marketing Officer. The departure of\n",
      "these executives resulted in a major restructuring of the executive\n",
      "team with the appointment of new leaders in these roles. The company's\n",
      "annual report highlights that the turnover was part of a strategic\n",
      "initiative aimed at driving operational efficiency and enhancing the\n",
      "company's overall performance. The new executives bring a wealth of\n",
      "experience and fresh perspectives to their respective roles,\n",
      "positioning the company for future growth and success.\n"
     ]
    }
   ],
   "source": [
    "original_query = \"Was there significant turnover in the executive team?\"\n",
    "original_query_cn = \"执行团队是否有重大人员流动？\"\n",
    "# 生成假设答案\n",
    "hypothetical_answer = augment_query_generated(original_query)\n",
    "# 联合查询\n",
    "joint_query = f\"{original_query} {hypothetical_answer}\"\n",
    "print(word_wrap(joint_query))"
   ]
  },
  {
   "cell_type": "markdown",
   "metadata": {},
   "source": [
    "发送一个查询和假设作为查询响应我们的检索系统。"
   ]
  },
  {
   "cell_type": "markdown",
   "metadata": {},
   "source": [
    "我们接下来使用Chroma进行查询"
   ]
  },
  {
   "cell_type": "code",
   "execution_count": 6,
   "metadata": {},
   "outputs": [
    {
     "name": "stdout",
     "output_type": "stream",
     "text": [
      "the company engaged deloitte & touche llp, an independent registered\n",
      "public accounting firm, to audit and render an opinion on the\n",
      "consolidated financial statements and internal control over financial\n",
      "reporting in accordance with the standards of the public company\n",
      "accounting oversight board ( united states ). the board of directors,\n",
      "through its audit committee, consisting solely of independent directors\n",
      "of the company, meets periodically with management, internal auditors,\n",
      "and our independent registered public accounting firm to ensure that\n",
      "each is meeting its responsibilities and to discuss matters concerning\n",
      "internal controls and financial reporting. deloitte & touche llp and\n",
      "the internal auditors each have full and free access to the audit\n",
      "committee. satya nadella chief executive officer amy e. hood executive\n",
      "vice president and chief financial officer alice l. jolla corporate\n",
      "vice president and chief accounting officer\n",
      "\n",
      "89 directors and executive officers of microsoft corporation directors\n",
      "satya nadella chairman and chief executive officer, microsoft\n",
      "corporation sandra e. peterson 2, 3 operating partner, clayton,\n",
      "dubilier & rice, llc john w. stanton 1, 4 founder and chairman, trilogy\n",
      "partnerships reid g. hoffman 4 general partner, greylock partners penny\n",
      "s. pritzker 4 founder and chairman, psp partners, llc john w. thompson\n",
      "3, 4 lead independent director, microsoft corporation hugh f. johnston\n",
      "1 vice chairman and executive vice president and chief financial\n",
      "officer, pepsico, inc. carlos a. rodriguez 1 chief executive officer,\n",
      "adp, inc. emma n. walmsley 2, 4 chief executive officer, gsk, plc teri\n",
      "l. list 1, 3 former executive vice president and chief financial\n",
      "officer, gap, inc. charles w. scharf 2, 3 chief executive officer and\n",
      "president, wells fargo & company padmasree warrior 2 founder, president\n",
      "and chief executive\n",
      "\n",
      "officer, fable group inc. board committees 1. audit committee 2.\n",
      "compensation committee 3. governance and nominating committee 4.\n",
      "environmental, social, and public policy committee executive officers\n",
      "satya nadella chairman and chief executive officer amy e. hood\n",
      "executive vice president and chief financial officer judson althoff\n",
      "executive vice president and chief commercial officer bradford l. smith\n",
      "vice chair and president christopher c. capossela executive vice\n",
      "president, marketing and consumer business, and chief marketing officer\n",
      "christopher d. young executive vice president, business development,\n",
      "strategy, and ventures kathleen t. hogan executive vice president and\n",
      "chief human resources officer\n",
      "\n",
      "88 report of independent registered public accounting firm to the\n",
      "stockholders and the board of directors of microsoft corporation\n",
      "opinion on internal control over financial reporting we have audited\n",
      "the internal control over financial reporting of microsoft corporation\n",
      "and subsidiaries ( the “ company ” ) as of june 30, 2022, based on\n",
      "criteria established in internal control — integrated framework ( 2013\n",
      ") issued by the committee of sponsoring organizations of the treadway\n",
      "commission ( coso ). in our opinion, the company maintained, in all\n",
      "material respects, effective internal control over financial reporting\n",
      "as of june 30, 2022, based on criteria establis hed in internal control\n",
      "— integrated framework ( 2013 ) issued by coso. we have also audited,\n",
      "in accordance with the standards of the public company accounting\n",
      "oversight board ( united states ) ( pcaob ), the consolidated financial\n",
      "statements as of and for the year ended june 30, 2022, of the company\n",
      "and\n",
      "\n",
      "87 changes in and disagreements with accountants on accounting and\n",
      "financial disclosure not applicable. controls and procedures under the\n",
      "supervision and with the participation of our management, including the\n",
      "chief executive officer and chief financial officer, we have evaluated\n",
      "the effectiveness of our disclosure controls and procedures as required\n",
      "by exchange act rule 13a - 15 ( b ) as of the end of the period covered\n",
      "by this report. based on that evaluation, the chief executive officer\n",
      "and chief financial officer have concluded that these disclosure\n",
      "controls and procedures are effective. report of management on internal\n",
      "control over financial reporting our management is responsible for\n",
      "establishing and maintaining adequate internal control over financial\n",
      "reporting for the company. internal control over financial reporting is\n",
      "a process to provide reasonable assurance regarding the reliability of\n",
      "\n"
     ]
    }
   ],
   "source": [
    "results = chroma_collection.query(query_texts=joint_query, n_results=5, include=['documents', 'embeddings'])\n",
    "retrieved_documents = results['documents'][0]\n",
    "\n",
    "for doc in retrieved_documents:\n",
    "    print(word_wrap(doc))\n",
    "    print('')"
   ]
  },
  {
   "cell_type": "markdown",
   "metadata": {},
   "source": [
    "将查询结果集的嵌入，原始检索的嵌入，联合查询的嵌入进行投影\n"
   ]
  },
  {
   "cell_type": "code",
   "execution_count": 7,
   "metadata": {},
   "outputs": [
    {
     "name": "stderr",
     "output_type": "stream",
     "text": [
      "100%|██████████| 1/1 [00:00<00:00,  1.34it/s]\n",
      "100%|██████████| 1/1 [00:00<00:00,  1.68it/s]\n",
      "100%|██████████| 5/5 [00:03<00:00,  1.36it/s]\n"
     ]
    }
   ],
   "source": [
    "retrieved_embeddings = results['embeddings'][0]\n",
    "original_query_embedding = embedding_function([original_query])\n",
    "augmented_query_embedding = embedding_function([joint_query])\n",
    "\n",
    "projected_original_query_embedding = project_embeddings(original_query_embedding, umap_transform)\n",
    "projected_augmented_query_embedding = project_embeddings(augmented_query_embedding, umap_transform)\n",
    "projected_retrieved_embeddings = project_embeddings(retrieved_embeddings, umap_transform)"
   ]
  },
  {
   "cell_type": "markdown",
   "metadata": {},
   "source": [
    "进行可视化"
   ]
  },
  {
   "cell_type": "code",
   "execution_count": 8,
   "metadata": {},
   "outputs": [
    {
     "data": {
      "text/plain": [
       "(-4.18140823841095, 7.548616242408753, 5.688383316993713, 13.036758685112)"
      ]
     },
     "execution_count": 8,
     "metadata": {},
     "output_type": "execute_result"
    },
    {
     "data": {
      "image/png": "[encoded data removed]",
      "text/plain": [
       "<Figure size 640x480 with 1 Axes>"
      ]
     },
     "metadata": {},
     "output_type": "display_data"
    }
   ],
   "source": [
    "import matplotlib.pyplot as plt\n",
    "\n",
    "# Plot the projected query and retrieved documents in the embedding space\n",
    "plt.figure()\n",
    "plt.scatter(projected_dataset_embeddings[:, 0], projected_dataset_embeddings[:, 1], s=10, color='gray')\n",
    "plt.scatter(projected_retrieved_embeddings[:, 0], projected_retrieved_embeddings[:, 1], s=100, facecolors='none', edgecolors='g')\n",
    "plt.scatter(projected_original_query_embedding[:, 0], projected_original_query_embedding[:, 1], s=150, marker='X', color='r')\n",
    "plt.scatter(projected_augmented_query_embedding[:, 0], projected_augmented_query_embedding[:, 1], s=150, marker='X', color='orange')\n",
    "\n",
    "plt.gca().set_aspect('equal', 'datalim')\n",
    "plt.title(f'{original_query}')\n",
    "plt.axis('off')"
   ]
  },
  {
   "cell_type": "markdown",
   "metadata": {},
   "source": [
    "我们可以看到红色的`X`是我们的原始查询，橙色的`X`是我们带有假设答案的查询，绿色的圆圈是我们检索到的查询，可以看出，进行联合查询提高了我们的查询结果。"
   ]
  },
  {
   "cell_type": "markdown",
   "metadata": {},
   "source": [
    "## 4.2 Expansion with multiple queries（多个查询的查询扩展）"
   ]
  },
  {
   "cell_type": "markdown",
   "metadata": {},
   "source": [
    "![Expansion with multiple queries.png](./images/Expansion%20with%20multiple%20queries.png)"
   ]
  },
  {
   "cell_type": "markdown",
   "metadata": {},
   "source": [
    "我们先通过图片了解 Expansion with multiple queries 的工作原理：\n",
    "\n",
    "第一步，我们发起一个查询。\n",
    "\n",
    "第二步，使用大型语言模型（LLM）来生成额外的查询。\n",
    "\n",
    "第三步，这些新生成的查询被发送到向量数据库（VectorDB）。\n",
    "\n",
    "第四步，向量数据库检索与原始查询和新查询都相关的结果。\n",
    "\n",
    "第五步，所有的查询结果被发送回LLM。\n",
    "\n",
    "第六步，LLM基于所有检索到的信息提供最终的答案。"
   ]
  },
  {
   "cell_type": "markdown",
   "metadata": {},
   "source": [
    "与上一个方法相同（需要增加更多的系统提示）"
   ]
  },
  {
   "cell_type": "code",
   "execution_count": 9,
   "metadata": {},
   "outputs": [],
   "source": [
    "def augment_multiple_query(query, model=\"gpt-3.5-turbo\"):\n",
    "    messages = [\n",
    "        {\n",
    "            \"role\": \"system\",\n",
    "            # 为模型提供指令，告诉它扮演一个有用的财经研究助理。\n",
    "            # 指令包括基于提供的查询生成最多五个相关的额外查询问题。\n",
    "            # 提示模型生成的问题应该简短，不包含复合句，并涵盖主题的不同方面。\n",
    "            # 要确保问题是完整的，并且与原始查询相关联。\n",
    "            # 输出格式为每行一个问题，不要对问题编号。\n",
    "            \"content\": \"You are a helpful expert financial research assistant. Your users are asking questions about an annual report. \"\n",
    "            \"Suggest up to five additional related questions to help them find the information they need, for the provided question. \"\n",
    "            \"Suggest only short questions without compound sentences. Suggest a variety of questions that cover different aspects of the topic.\"\n",
    "            \"Make sure they are complete questions, and that they are related to the original question.\"\n",
    "            \"Output one question per line. Do not number the questions.\"\n",
    "        },\n",
    "        {\"role\": \"user\", \"content\": query}\n",
    "    ]\n",
    "\n",
    "    response = openai_client.chat.completions.create(\n",
    "        model=model,\n",
    "        messages=messages,\n",
    "    )\n",
    "    content = response.choices[0].message.content\n",
    "    content = content.split(\"\\n\")\n",
    "    return content"
   ]
  },
  {
   "cell_type": "markdown",
   "metadata": {},
   "source": [
    "第一次查询"
   ]
  },
  {
   "cell_type": "code",
   "execution_count": 10,
   "metadata": {},
   "outputs": [
    {
     "name": "stdout",
     "output_type": "stream",
     "text": [
      "What were the key strategies implemented to drive revenue growth?\n",
      "How did changes in pricing affect revenue?\n",
      "Were there any new product launches that impacted revenue growth?\n",
      "Did changes in market demand play a role in revenue growth?\n",
      "Were there any acquisitions or partnerships that contributed to revenue increases?\n"
     ]
    }
   ],
   "source": [
    "original_query = \"What were the most important factors that contributed to increases in revenue?\"\n",
    "original_query_cn = \"推动收入增长的最重要因素是什么?\"\n",
    "augmented_queries = augment_multiple_query(original_query)\n",
    "\n",
    "for query in augmented_queries:\n",
    "    print(query)"
   ]
  },
  {
   "cell_type": "markdown",
   "metadata": {},
   "source": [
    "可以看到LLM生成的其他增强查询问题\n",
    "\n",
    "收入增长的主要来源是什么？\n",
    "\n",
    "推动收入增长的关键驱动因素是什么？\n",
    "\n",
    "有没有特定的产品或服务推动了收入增长？\n",
    "\n",
    "有没有收购或合作伙伴关系对收入增长做出了贡献？\n",
    "\n",
    "支持收入增长的市场条件或趋势有哪些？\n"
   ]
  },
  {
   "cell_type": "markdown",
   "metadata": {},
   "source": [
    "接下来，我们进行构建查询集，使用Chroma并行处理多个查询（原始查询加增强查询）并打印了每个查询及其检索到的文档。"
   ]
  },
  {
   "cell_type": "code",
   "execution_count": 11,
   "metadata": {},
   "outputs": [
    {
     "name": "stdout",
     "output_type": "stream",
     "text": [
      "Query: What were the most important factors that contributed to increases in revenue?\n",
      "\n",
      "Results:\n",
      "engineering, gaming, and linkedin. • sales and marketing expenses\n",
      "increased $ 1. 7 billion or 8 % driven by investments in commercial\n",
      "sales and linkedin. sales and marketing included a favorable foreign\n",
      "currency impact of 2 %. • general and administrative expenses increased\n",
      "$ 793 million or 16 % driven by investments in corporate functions.\n",
      "operating income increased $ 13. 5 billion or 19 % driven by growth\n",
      "across each of our segments. current year net income and diluted eps\n",
      "were positively impacted by the net tax benefit related to the transfer\n",
      "of intangible properties, which resulted in an increase to net income\n",
      "and diluted eps of $ 3. 3 billion and $ 0. 44, respectively. prior year\n",
      "net income and diluted eps were positively impacted by the net tax\n",
      "benefit related to the india supreme court decision on withholding\n",
      "taxes, which resulted in an increase to net income and diluted eps of $\n",
      "620 million and $ 0. 08, respectively.\n",
      "\n",
      "independent recalculation of prices where appropriate. cash flows cash\n",
      "from operations increased $ 12. 3 billion to $ 89. 0 billion for fiscal\n",
      "year 2022, mainly due to an increase in cash received from customers,\n",
      "offset in part by an increase in cash paid to suppliers and employees.\n",
      "cash used in financing increased $ 10. 4 billion to $ 58. 9 billion for\n",
      "fiscal year 2022, mainly due to a $ 5. 3 billion increase in common\n",
      "stock repurchases and a $ 5. 3 billion increase in repayments of debt.\n",
      "cash used in investing increased $ 2. 7 billion to $ 30. 3 billion for\n",
      "fiscal year 2022, mainly due to a $ 13. 1 billion increase in cash used\n",
      "for acquisitions of companies, net of cash acquired, and purchases of\n",
      "intangible and other assets, and a $ 3. 3 billion increase in additions\n",
      "to property and equipment, offset in part by a $ 15. 6 billion increase\n",
      "in cash from net investment purchases, sales, and maturities.\n",
      "\n",
      "37 general and administrative expenses include payroll, employee\n",
      "benefits, stock - based compensation expense, and other headcount -\n",
      "related expenses associated with finance, legal, facilities, certain\n",
      "human resources and other administrative personnel, certain taxes, and\n",
      "legal and other administrative fees. general and administrative\n",
      "expenses increased $ 793 million or 16 % driven by investments in\n",
      "corporate functions. other income ( expense ), net the components of\n",
      "other income ( expense ), net were as follows : ( in millions ) year\n",
      "ended june 30, 2022 2021 interest and dividends income $ 2, 094 $ 2,\n",
      "131 interest expense ( 2, 063 ) ( 2, 346 ) net recognized gains on\n",
      "investments 461 1, 232 net gains ( losses ) on derivatives ( 52 ) 17\n",
      "net gains ( losses ) on foreign currency remeasurements ( 75 ) 54\n",
      "other, net ( 32 ) 98 total $ 333 $ 1, 186\n",
      "\n",
      "• windows revenue increased $ 2. 3 billion or 10 % driven by growth in\n",
      "windows oem and windows commercial. windows oem revenue increased 11 %\n",
      "driven by continued strength in the commercial pc market, which has\n",
      "higher revenue per license. windows commercial products and cloud\n",
      "services revenue increased 11 % driven by demand for microsoft 365.\n",
      "\n",
      "services. server products revenue increased 5 % driven by hybrid\n",
      "solutions, including windows server and sql server running in multi -\n",
      "cloud environments. • enterprise services revenue increased $ 464\n",
      "million or 7 % driven by growth in enterprise support services.\n",
      "operating income increased $ 6. 6 billion or 25 %. • gross margin\n",
      "increased $ 9. 4 billion or 22 % driven by growth in azure and other\n",
      "cloud services. gross margin percentage decreased. excluding the impact\n",
      "of the change in accounting estimate, gross margin percentage was\n",
      "relatively unchanged driven by improvement in azure and other cloud\n",
      "services, offset in part by sales mix shift to azure and other cloud\n",
      "services. • operating expenses increased $ 2. 8 billion or 16 % driven\n",
      "by investments in azure and other cloud services. revenue and operating\n",
      "income included an unfavorable foreign currency impact of 2 % and 3 %,\n",
      "respectively. more personal computing revenue increased $ 5. 6 billion\n",
      "or 10 %.\n",
      "\n",
      "----------------------------------------------------------------------------------------------------\n",
      "Query: What were the key strategies implemented to drive revenue growth?\n",
      "\n",
      "Results:\n",
      "engineering, gaming, and linkedin. • sales and marketing expenses\n",
      "increased $ 1. 7 billion or 8 % driven by investments in commercial\n",
      "sales and linkedin. sales and marketing included a favorable foreign\n",
      "currency impact of 2 %. • general and administrative expenses increased\n",
      "$ 793 million or 16 % driven by investments in corporate functions.\n",
      "operating income increased $ 13. 5 billion or 19 % driven by growth\n",
      "across each of our segments. current year net income and diluted eps\n",
      "were positively impacted by the net tax benefit related to the transfer\n",
      "of intangible properties, which resulted in an increase to net income\n",
      "and diluted eps of $ 3. 3 billion and $ 0. 44, respectively. prior year\n",
      "net income and diluted eps were positively impacted by the net tax\n",
      "benefit related to the india supreme court decision on withholding\n",
      "taxes, which resulted in an increase to net income and diluted eps of $\n",
      "620 million and $ 0. 08, respectively.\n",
      "\n",
      "36 • search and news advertising revenue increased $ 2. 3 billion or 25\n",
      "%. search and news advertising revenue excluding traffic acquisition\n",
      "costs increased 27 % driven by higher revenue per search and search\n",
      "volume. • gaming revenue increased $ 860 million or 6 % on a strong\n",
      "prior year comparable that benefited from xbox series x | s launches\n",
      "and stay - at - home scenarios, driven by growth in xbox hardware and\n",
      "xbox content and services. xbox hardware revenue increased 16 % due to\n",
      "continued demand for xbox series x | s. xbox content and services\n",
      "revenue increased 3 % driven by growth in xbox game pass subscriptions\n",
      "and first - party content, offset in part by a decline in third - party\n",
      "content. • surface revenue increased $ 226 million or 3 %. operating\n",
      "income increased $ 1. 5 billion or 8 %. • gross margin increased $ 3. 1\n",
      "billion or 10 % driven by growth in windows and search and news\n",
      "advertising. gross margin percentage was relatively unchanged.\n",
      "\n",
      "34 net income tax benefit related to an india supreme court decision on\n",
      "withholding taxes in the third quarter of fiscal year 2021. refer to\n",
      "the non - gaap financial measures section below for a reconciliation of\n",
      "our financial results reported in accordance with gaap to non - gaap\n",
      "financial results. see note 12 – income taxes of the notes to financial\n",
      "statements in our fiscal year 2022 form 10 - k for further discussion.\n",
      "fiscal year 2022 compared with fiscal year 2021 revenue increased $ 30.\n",
      "2 billion or 18 % driven by growth across each of our segments.\n",
      "intelligent cloud revenue increased driven by azure and other cloud\n",
      "services. productivity and business processes revenue increased driven\n",
      "by office 365 commercial and linkedin. more personal computing revenue\n",
      "increased driven by search and news advertising and windows. cost of\n",
      "revenue increased $ 10. 4 billion or 20 % driven by growth in microsoft\n",
      "cloud.\n",
      "\n",
      "35 reportable segments fiscal year 2022 compared with fiscal year 2021\n",
      "productivity and business processes revenue increased $ 9. 4 billion or\n",
      "18 %. • office commercial products and cloud services revenue increased\n",
      "$ 4. 4 billion or 13 %. office 365 commercial revenue grew 18 % driven\n",
      "by seat growth of 14 %, with continued momentum in small and medium\n",
      "business and frontline worker offerings, as well as growth in revenue\n",
      "per user. office commercial products revenue declined 22 % driven by\n",
      "continued customer shift to cloud offerings. • office consumer products\n",
      "and cloud services revenue increased $ 641 million or 11 % driven by\n",
      "microsoft 365 consumer subscription revenue. microsoft 365 consumer\n",
      "subscribers grew 15 % to 59. 7 million. • linkedin revenue increased $\n",
      "3. 5 billion or 34 % driven by a strong job market in our talent\n",
      "solutions business and advertising demand in our marketing solutions\n",
      "business.\n",
      "\n",
      "• windows revenue increased $ 2. 3 billion or 10 % driven by growth in\n",
      "windows oem and windows commercial. windows oem revenue increased 11 %\n",
      "driven by continued strength in the commercial pc market, which has\n",
      "higher revenue per license. windows commercial products and cloud\n",
      "services revenue increased 11 % driven by demand for microsoft 365.\n",
      "\n",
      "----------------------------------------------------------------------------------------------------\n",
      "Query: How did changes in pricing affect revenue?\n",
      "\n",
      "Results:\n",
      "( in millions, except percentages ) 2022 2021 percentage change sales\n",
      "and marketing $ 21, 825 $ 20, 117 8 % as a percent of revenue 11 % 12 %\n",
      "( 1 ) ppt sales and marketing expenses include payroll, employee\n",
      "benefits, stock - based compensation expense, and other headcount -\n",
      "related expenses associated with sales and marketing personnel, and the\n",
      "costs of advertising, promotions, trade shows, seminars, and other\n",
      "programs. sales and marketing expenses increased $ 1. 7 billion or 8 %\n",
      "driven by investments in commercial sales and linkedin. sales and\n",
      "marketing included a favorable foreign currency impact of 2 %. general\n",
      "and administrative ( in millions, except percentages ) 2022 2021\n",
      "percentage change general and administrative $ 5, 900 $ 5, 107 16 % as\n",
      "a percent of revenue 3 % 3 % 0ppt\n",
      "\n",
      "( including games and in - game content ), xbox game pass and other\n",
      "subscriptions, xbox cloud gaming, third - party disc royalties,\n",
      "advertising, and other cloud services. • search and news advertising.\n",
      "revenue and costs are generally directly attributed to our segments.\n",
      "however, due to the integrated structure of our business, certain\n",
      "revenue recognized and costs incurred by one segment may benefit other\n",
      "segments. revenue from certain contracts is allocated among the\n",
      "segments based on the relative value of the underlying products and\n",
      "services, which can include allocation based on actual prices charged,\n",
      "prices when sold separately, or estimated costs plus a profit margin.\n",
      "cost of revenue is allocated in certain cases based on a relative\n",
      "revenue methodology. operating expenses that are allocated primarily\n",
      "include those relating to marketing of products and services from which\n",
      "multiple segments benefit and are generally allocated based on relative\n",
      "gross margin.\n",
      "\n",
      "that are not sold separately. • we tested the mathematical accuracy of\n",
      "management ’ s calculations of revenue and the associated timing of\n",
      "revenue recognized in the financial statements.\n",
      "\n",
      "engineering, gaming, and linkedin. • sales and marketing expenses\n",
      "increased $ 1. 7 billion or 8 % driven by investments in commercial\n",
      "sales and linkedin. sales and marketing included a favorable foreign\n",
      "currency impact of 2 %. • general and administrative expenses increased\n",
      "$ 793 million or 16 % driven by investments in corporate functions.\n",
      "operating income increased $ 13. 5 billion or 19 % driven by growth\n",
      "across each of our segments. current year net income and diluted eps\n",
      "were positively impacted by the net tax benefit related to the transfer\n",
      "of intangible properties, which resulted in an increase to net income\n",
      "and diluted eps of $ 3. 3 billion and $ 0. 44, respectively. prior year\n",
      "net income and diluted eps were positively impacted by the net tax\n",
      "benefit related to the india supreme court decision on withholding\n",
      "taxes, which resulted in an increase to net income and diluted eps of $\n",
      "620 million and $ 0. 08, respectively.\n",
      "\n",
      "34 net income tax benefit related to an india supreme court decision on\n",
      "withholding taxes in the third quarter of fiscal year 2021. refer to\n",
      "the non - gaap financial measures section below for a reconciliation of\n",
      "our financial results reported in accordance with gaap to non - gaap\n",
      "financial results. see note 12 – income taxes of the notes to financial\n",
      "statements in our fiscal year 2022 form 10 - k for further discussion.\n",
      "fiscal year 2022 compared with fiscal year 2021 revenue increased $ 30.\n",
      "2 billion or 18 % driven by growth across each of our segments.\n",
      "intelligent cloud revenue increased driven by azure and other cloud\n",
      "services. productivity and business processes revenue increased driven\n",
      "by office 365 commercial and linkedin. more personal computing revenue\n",
      "increased driven by search and news advertising and windows. cost of\n",
      "revenue increased $ 10. 4 billion or 20 % driven by growth in microsoft\n",
      "cloud.\n",
      "\n",
      "----------------------------------------------------------------------------------------------------\n",
      "Query: Were there any new product launches that impacted revenue growth?\n",
      "\n",
      "Results:\n",
      "35 reportable segments fiscal year 2022 compared with fiscal year 2021\n",
      "productivity and business processes revenue increased $ 9. 4 billion or\n",
      "18 %. • office commercial products and cloud services revenue increased\n",
      "$ 4. 4 billion or 13 %. office 365 commercial revenue grew 18 % driven\n",
      "by seat growth of 14 %, with continued momentum in small and medium\n",
      "business and frontline worker offerings, as well as growth in revenue\n",
      "per user. office commercial products revenue declined 22 % driven by\n",
      "continued customer shift to cloud offerings. • office consumer products\n",
      "and cloud services revenue increased $ 641 million or 11 % driven by\n",
      "microsoft 365 consumer subscription revenue. microsoft 365 consumer\n",
      "subscribers grew 15 % to 59. 7 million. • linkedin revenue increased $\n",
      "3. 5 billion or 34 % driven by a strong job market in our talent\n",
      "solutions business and advertising demand in our marketing solutions\n",
      "business.\n",
      "\n",
      "highlights from fiscal year 2022 compared with fiscal year 2021\n",
      "included : • microsoft cloud ( formerly commercial cloud ) revenue\n",
      "increased 32 % to $ 91. 2 billion. • office commercial products and\n",
      "cloud services revenue increased 13 % driven by office 365 commercial\n",
      "growth of 18 %. • office consumer products and cloud services revenue\n",
      "increased 11 % and microsoft 365 consumer subscribers grew to 59. 7\n",
      "million. • linkedin revenue increased 34 %. • dynamics products and\n",
      "cloud services revenue increased 25 % driven by dynamics 365 growth of\n",
      "39 %. • server products and cloud services revenue increased 28 %\n",
      "driven by azure and other cloud services growth of 45 %. • windows\n",
      "original equipment manufacturer licensing ( “ windows oem ” ) revenue\n",
      "increased 11 %. • windows commercial products and cloud services\n",
      "revenue increased 11 %. • xbox content and services revenue increased 3\n",
      "%. • search and news advertising revenue excluding traffic acquisition\n",
      "costs increased 27 %.\n",
      "\n",
      "36 • search and news advertising revenue increased $ 2. 3 billion or 25\n",
      "%. search and news advertising revenue excluding traffic acquisition\n",
      "costs increased 27 % driven by higher revenue per search and search\n",
      "volume. • gaming revenue increased $ 860 million or 6 % on a strong\n",
      "prior year comparable that benefited from xbox series x | s launches\n",
      "and stay - at - home scenarios, driven by growth in xbox hardware and\n",
      "xbox content and services. xbox hardware revenue increased 16 % due to\n",
      "continued demand for xbox series x | s. xbox content and services\n",
      "revenue increased 3 % driven by growth in xbox game pass subscriptions\n",
      "and first - party content, offset in part by a decline in third - party\n",
      "content. • surface revenue increased $ 226 million or 3 %. operating\n",
      "income increased $ 1. 5 billion or 8 %. • gross margin increased $ 3. 1\n",
      "billion or 10 % driven by growth in windows and search and news\n",
      "advertising. gross margin percentage was relatively unchanged.\n",
      "\n",
      "• windows revenue increased $ 2. 3 billion or 10 % driven by growth in\n",
      "windows oem and windows commercial. windows oem revenue increased 11 %\n",
      "driven by continued strength in the commercial pc market, which has\n",
      "higher revenue per license. windows commercial products and cloud\n",
      "services revenue increased 11 % driven by demand for microsoft 365.\n",
      "\n",
      "product revenue includes sales from operating systems, cross - device\n",
      "productivity applications, server applications, business solution\n",
      "applications, desktop and server management tools, software development\n",
      "tools, video games, and hardware such as pcs, tablets, gaming and\n",
      "entertainment consoles, other intelligent devices, and related\n",
      "accessories.\n",
      "\n",
      "----------------------------------------------------------------------------------------------------\n",
      "Query: Did changes in market demand play a role in revenue growth?\n",
      "\n",
      "Results:\n",
      "36 • search and news advertising revenue increased $ 2. 3 billion or 25\n",
      "%. search and news advertising revenue excluding traffic acquisition\n",
      "costs increased 27 % driven by higher revenue per search and search\n",
      "volume. • gaming revenue increased $ 860 million or 6 % on a strong\n",
      "prior year comparable that benefited from xbox series x | s launches\n",
      "and stay - at - home scenarios, driven by growth in xbox hardware and\n",
      "xbox content and services. xbox hardware revenue increased 16 % due to\n",
      "continued demand for xbox series x | s. xbox content and services\n",
      "revenue increased 3 % driven by growth in xbox game pass subscriptions\n",
      "and first - party content, offset in part by a decline in third - party\n",
      "content. • surface revenue increased $ 226 million or 3 %. operating\n",
      "income increased $ 1. 5 billion or 8 %. • gross margin increased $ 3. 1\n",
      "billion or 10 % driven by growth in windows and search and news\n",
      "advertising. gross margin percentage was relatively unchanged.\n",
      "\n",
      "• windows revenue increased $ 2. 3 billion or 10 % driven by growth in\n",
      "windows oem and windows commercial. windows oem revenue increased 11 %\n",
      "driven by continued strength in the commercial pc market, which has\n",
      "higher revenue per license. windows commercial products and cloud\n",
      "services revenue increased 11 % driven by demand for microsoft 365.\n",
      "\n",
      "35 reportable segments fiscal year 2022 compared with fiscal year 2021\n",
      "productivity and business processes revenue increased $ 9. 4 billion or\n",
      "18 %. • office commercial products and cloud services revenue increased\n",
      "$ 4. 4 billion or 13 %. office 365 commercial revenue grew 18 % driven\n",
      "by seat growth of 14 %, with continued momentum in small and medium\n",
      "business and frontline worker offerings, as well as growth in revenue\n",
      "per user. office commercial products revenue declined 22 % driven by\n",
      "continued customer shift to cloud offerings. • office consumer products\n",
      "and cloud services revenue increased $ 641 million or 11 % driven by\n",
      "microsoft 365 consumer subscription revenue. microsoft 365 consumer\n",
      "subscribers grew 15 % to 59. 7 million. • linkedin revenue increased $\n",
      "3. 5 billion or 34 % driven by a strong job market in our talent\n",
      "solutions business and advertising demand in our marketing solutions\n",
      "business.\n",
      "\n",
      "( in millions, except percentages ) 2022 2021 percentage change sales\n",
      "and marketing $ 21, 825 $ 20, 117 8 % as a percent of revenue 11 % 12 %\n",
      "( 1 ) ppt sales and marketing expenses include payroll, employee\n",
      "benefits, stock - based compensation expense, and other headcount -\n",
      "related expenses associated with sales and marketing personnel, and the\n",
      "costs of advertising, promotions, trade shows, seminars, and other\n",
      "programs. sales and marketing expenses increased $ 1. 7 billion or 8 %\n",
      "driven by investments in commercial sales and linkedin. sales and\n",
      "marketing included a favorable foreign currency impact of 2 %. general\n",
      "and administrative ( in millions, except percentages ) 2022 2021\n",
      "percentage change general and administrative $ 5, 900 $ 5, 107 16 % as\n",
      "a percent of revenue 3 % 3 % 0ppt\n",
      "\n",
      "34 net income tax benefit related to an india supreme court decision on\n",
      "withholding taxes in the third quarter of fiscal year 2021. refer to\n",
      "the non - gaap financial measures section below for a reconciliation of\n",
      "our financial results reported in accordance with gaap to non - gaap\n",
      "financial results. see note 12 – income taxes of the notes to financial\n",
      "statements in our fiscal year 2022 form 10 - k for further discussion.\n",
      "fiscal year 2022 compared with fiscal year 2021 revenue increased $ 30.\n",
      "2 billion or 18 % driven by growth across each of our segments.\n",
      "intelligent cloud revenue increased driven by azure and other cloud\n",
      "services. productivity and business processes revenue increased driven\n",
      "by office 365 commercial and linkedin. more personal computing revenue\n",
      "increased driven by search and news advertising and windows. cost of\n",
      "revenue increased $ 10. 4 billion or 20 % driven by growth in microsoft\n",
      "cloud.\n",
      "\n",
      "----------------------------------------------------------------------------------------------------\n",
      "Query: Were there any acquisitions or partnerships that contributed to revenue increases?\n",
      "\n",
      "Results:\n",
      "independent recalculation of prices where appropriate. cash flows cash\n",
      "from operations increased $ 12. 3 billion to $ 89. 0 billion for fiscal\n",
      "year 2022, mainly due to an increase in cash received from customers,\n",
      "offset in part by an increase in cash paid to suppliers and employees.\n",
      "cash used in financing increased $ 10. 4 billion to $ 58. 9 billion for\n",
      "fiscal year 2022, mainly due to a $ 5. 3 billion increase in common\n",
      "stock repurchases and a $ 5. 3 billion increase in repayments of debt.\n",
      "cash used in investing increased $ 2. 7 billion to $ 30. 3 billion for\n",
      "fiscal year 2022, mainly due to a $ 13. 1 billion increase in cash used\n",
      "for acquisitions of companies, net of cash acquired, and purchases of\n",
      "intangible and other assets, and a $ 3. 3 billion increase in additions\n",
      "to property and equipment, offset in part by a $ 15. 6 billion increase\n",
      "in cash from net investment purchases, sales, and maturities.\n",
      "\n",
      "engineering, gaming, and linkedin. • sales and marketing expenses\n",
      "increased $ 1. 7 billion or 8 % driven by investments in commercial\n",
      "sales and linkedin. sales and marketing included a favorable foreign\n",
      "currency impact of 2 %. • general and administrative expenses increased\n",
      "$ 793 million or 16 % driven by investments in corporate functions.\n",
      "operating income increased $ 13. 5 billion or 19 % driven by growth\n",
      "across each of our segments. current year net income and diluted eps\n",
      "were positively impacted by the net tax benefit related to the transfer\n",
      "of intangible properties, which resulted in an increase to net income\n",
      "and diluted eps of $ 3. 3 billion and $ 0. 44, respectively. prior year\n",
      "net income and diluted eps were positively impacted by the net tax\n",
      "benefit related to the india supreme court decision on withholding\n",
      "taxes, which resulted in an increase to net income and diluted eps of $\n",
      "620 million and $ 0. 08, respectively.\n",
      "\n",
      "37 general and administrative expenses include payroll, employee\n",
      "benefits, stock - based compensation expense, and other headcount -\n",
      "related expenses associated with finance, legal, facilities, certain\n",
      "human resources and other administrative personnel, certain taxes, and\n",
      "legal and other administrative fees. general and administrative\n",
      "expenses increased $ 793 million or 16 % driven by investments in\n",
      "corporate functions. other income ( expense ), net the components of\n",
      "other income ( expense ), net were as follows : ( in millions ) year\n",
      "ended june 30, 2022 2021 interest and dividends income $ 2, 094 $ 2,\n",
      "131 interest expense ( 2, 063 ) ( 2, 346 ) net recognized gains on\n",
      "investments 461 1, 232 net gains ( losses ) on derivatives ( 52 ) 17\n",
      "net gains ( losses ) on foreign currency remeasurements ( 75 ) 54\n",
      "other, net ( 32 ) 98 total $ 333 $ 1, 186\n",
      "\n",
      "• windows revenue increased $ 2. 3 billion or 10 % driven by growth in\n",
      "windows oem and windows commercial. windows oem revenue increased 11 %\n",
      "driven by continued strength in the commercial pc market, which has\n",
      "higher revenue per license. windows commercial products and cloud\n",
      "services revenue increased 11 % driven by demand for microsoft 365.\n",
      "\n",
      "66 gains ( losses ), net of tax, on derivative instruments recognized\n",
      "in our consolidated comprehensive income statements were as follows : (\n",
      "in millions ) year ended june 30, 2022 2021 2020 designated as cash\n",
      "flow hedging instruments foreign exchange contracts included in\n",
      "effectiveness assessment $ ( 57 ) $ 34 $ ( 38 ) note 6 — inventories\n",
      "the components of inventories were as follows : ( in millions ) june\n",
      "30, 2022 2021 raw materials $ 1, 144 $ 1, 190 work in process 82 79\n",
      "finished goods 2, 516 1, 367 total $ 3, 742 $ 2, 636 note 7 — property\n",
      "and equipment the components of property and equipment were as follows\n",
      ": ( in millions ) june 30, 2022 2021 land $ 4, 734 $ 3, 660 buildings\n",
      "and improvements 55, 014 43, 928 leasehold improvements 7, 819 6, 884\n",
      "computer equipment and software 60, 631 51, 250\n",
      "\n",
      "----------------------------------------------------------------------------------------------------\n"
     ]
    }
   ],
   "source": [
    "queries = [original_query] + augmented_queries\n",
    "results = chroma_collection.query(query_texts=queries, n_results=5, include=['documents', 'embeddings'])\n",
    "\n",
    "retrieved_documents = results['documents']\n",
    "\n",
    "# 对检索到的文档进行重复数据删除\n",
    "unique_documents = set()\n",
    "for documents in retrieved_documents:\n",
    "    for document in documents:\n",
    "        unique_documents.add(document)\n",
    "\n",
    "for i, documents in enumerate(retrieved_documents):\n",
    "    print(f\"Query: {queries[i]}\")\n",
    "    print('')\n",
    "    print(\"Results:\")\n",
    "    for doc in documents:\n",
    "        print(word_wrap(doc))\n",
    "        print('')\n",
    "    print('-'*100)"
   ]
  },
  {
   "cell_type": "markdown",
   "metadata": {},
   "source": [
    "计算原始查询和增强查询的嵌入，然后使用`umap`将这些嵌入进行绘制投影"
   ]
  },
  {
   "cell_type": "code",
   "execution_count": 12,
   "metadata": {},
   "outputs": [
    {
     "name": "stderr",
     "output_type": "stream",
     "text": [
      "100%|██████████| 1/1 [00:00<00:00,  1.02it/s]\n",
      "100%|██████████| 5/5 [00:04<00:00,  1.17it/s]\n"
     ]
    }
   ],
   "source": [
    "original_query_embedding = embedding_function([original_query])\n",
    "augmented_query_embeddings = embedding_function(augmented_queries)\n",
    "\n",
    "project_original_query = project_embeddings(original_query_embedding, umap_transform)\n",
    "project_augmented_queries = project_embeddings(augmented_query_embeddings, umap_transform)\n"
   ]
  },
  {
   "cell_type": "markdown",
   "metadata": {},
   "source": [
    "从查询结果中提取嵌入向量，使用`umap`将这些嵌入进行绘制投影"
   ]
  },
  {
   "cell_type": "code",
   "execution_count": 13,
   "metadata": {},
   "outputs": [
    {
     "name": "stderr",
     "output_type": "stream",
     "text": [
      "100%|██████████| 30/30 [00:26<00:00,  1.12it/s]\n"
     ]
    }
   ],
   "source": [
    "result_embeddings = results['embeddings']\n",
    "result_embeddings = [item for sublist in result_embeddings for item in sublist]\n",
    "projected_result_embeddings = project_embeddings(result_embeddings, umap_transform)\n"
   ]
  },
  {
   "cell_type": "markdown",
   "metadata": {},
   "source": [
    "进行数据可视化"
   ]
  },
  {
   "cell_type": "code",
   "execution_count": 14,
   "metadata": {},
   "outputs": [
    {
     "data": {
      "text/plain": [
       "(-4.18140823841095, 7.548616242408753, 5.783115291595459, 13.032247638702392)"
      ]
     },
     "execution_count": 14,
     "metadata": {},
     "output_type": "execute_result"
    },
    {
     "data": {
      "image/png": "[encoded data removed]",
      "text/plain": [
       "<Figure size 640x480 with 1 Axes>"
      ]
     },
     "metadata": {},
     "output_type": "display_data"
    }
   ],
   "source": [
    "import matplotlib.pyplot as plt\n",
    "\n",
    "plt.figure()\n",
    "plt.scatter(projected_dataset_embeddings[:, 0], projected_dataset_embeddings[:, 1], s=10, color='gray')\n",
    "plt.scatter(project_augmented_queries[:, 0], project_augmented_queries[:, 1], s=150, marker='X', color='orange')\n",
    "plt.scatter(projected_result_embeddings[:, 0], projected_result_embeddings[:, 1], s=100, facecolors='none', edgecolors='g')\n",
    "plt.scatter(project_original_query[:, 0], project_original_query[:, 1], s=150, marker='X', color='r')\n",
    "\n",
    "plt.gca().set_aspect('equal', 'datalim')\n",
    "plt.title(f'{original_query}')\n",
    "plt.axis('off')"
   ]
  },
  {
   "cell_type": "markdown",
   "metadata": {},
   "source": [
    "可以看到红色的`X`是我们的原始查询，橙色的`X`是嵌入增强的LLM生成的新查询，绿色的圆圈代表我们实际返回的结果"
   ]
  },
  {
   "cell_type": "markdown",
   "metadata": {},
   "source": [
    "## 4.3 总结"
   ]
  },
  {
   "cell_type": "markdown",
   "metadata": {},
   "source": [
    "通过本次Expansion with generator answers和Expansion with multiple queries两个例子，使用Chroma进行检索的增强，这对于我们找到有效的信息是非常好的。"
   ]
  }
 ],
 "metadata": {
  "kernelspec": {
   "display_name": "Python 3 (ipykernel)",
   "language": "python",
   "name": "python3"
  },
  "language_info": {
   "codemirror_mode": {
    "name": "ipython",
    "version": 3
   },
   "file_extension": ".py",
   "mimetype": "text/x-python",
   "name": "python",
   "nbconvert_exporter": "python",
   "pygments_lexer": "ipython3",
   "version": "3.11.5"
  }
 },
 "nbformat": 4,
 "nbformat_minor": 2
}
