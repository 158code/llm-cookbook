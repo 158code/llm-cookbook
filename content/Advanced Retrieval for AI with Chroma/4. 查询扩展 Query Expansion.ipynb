{
 "cells": [
  {
   "cell_type": "markdown",
   "metadata": {},
   "source": [
    "# 第四章 查询扩展 Query Expansion"
   ]
  },
  {
   "cell_type": "markdown",
   "metadata": {},
   "source": [
    "## 目录\n",
    "- [4.1 - Expansion with generator answers（生成器答案扩展）](#41-expansion-with-generator-answers生成器答案扩展)\n",
    "- [4.2 - Expansion with multiple queries（多个查询的查询扩展）](#42-expansion-with-multiple-queries多个查询的查询扩展)\n",
    "- [4.3 - 总结](#43-总结)\n",
    "\n",
    "我们将通过Expansion with generator answers和Expansion with multiple queries两个例子，学习使用查询增强的方法，来帮助我们改善查询的质量，提供更加精确和丰富的信息。"
   ]
  },
  {
   "cell_type": "markdown",
   "metadata": {},
   "source": [
    "## 4.1  Expansion with generator answers（生成器答案扩展）\n"
   ]
  },
  {
   "cell_type": "markdown",
   "metadata": {},
   "source": [
    "![Expansion with generated answers.png](./images/Expansion%20with%20generated%20answers.png)"
   ]
  },
  {
   "cell_type": "markdown",
   "metadata": {},
   "source": [
    "我们通过图片了解 Expansion with generator answers 的工作原理：\n",
    "\n",
    "第一步，我们需要先提出一个查询。\n",
    "\n",
    "第二步，使用LLM生成问题的答案，以提供相关上下文。\n",
    "\n",
    "第三步，利用向量数据库（VectorDB）检索原始查询的多个结果，包含附加的上下文。\n",
    "\n",
    "第四步，再次使用LLM得到最终答案。"
   ]
  },
  {
   "cell_type": "markdown",
   "metadata": {},
   "source": [
    "让我们开始进行实践。\n",
    "\n",
    "首先，我们导入要用到的数据。"
   ]
  },
  {
   "cell_type": "code",
   "execution_count": 3,
   "metadata": {},
   "outputs": [
    {
     "data": {
      "text/plain": [
       "1028"
      ]
     },
     "execution_count": 3,
     "metadata": {},
     "output_type": "execute_result"
    }
   ],
   "source": [
    "from helper_utils import load_chroma, word_wrap, project_embeddings\n",
    "from chromadb.utils.embedding_functions import SentenceTransformerEmbeddingFunction\n",
    "\n",
    "embedding_function = SentenceTransformerEmbeddingFunction()\n",
    "\n",
    "chroma_collection = load_chroma(filename='./data/2024年北京市政府工作报告.pdf', \\\n",
    "                                collection_name='beijing_annual_report_2024', \\\n",
    "                                embedding_function=embedding_function,\n",
    "                                langcode='zh')  # 注意中文文档将langcode改为'zh'\n",
    "chroma_collection.count()"
   ]
  },
  {
   "cell_type": "markdown",
   "metadata": {},
   "source": [
    "配置`OPENAI_API_KEY`(在`.env`文件中进行设置)。"
   ]
  },
  {
   "cell_type": "code",
   "execution_count": 4,
   "metadata": {},
   "outputs": [],
   "source": [
    "import os\n",
    "import openai\n",
    "from openai import OpenAI\n",
    "\n",
    "from dotenv import load_dotenv, find_dotenv\n",
    "_ = load_dotenv(find_dotenv()) # read local .env file\n",
    "openai.api_key = os.environ['OPENAI_API_KEY']\n",
    "\n",
    "openai_client = OpenAI()"
   ]
  },
  {
   "cell_type": "markdown",
   "metadata": {},
   "source": [
    "使用`umap`进行投影数据。"
   ]
  },
  {
   "cell_type": "code",
   "execution_count": 5,
   "metadata": {},
   "outputs": [
    {
     "name": "stderr",
     "output_type": "stream",
     "text": [
      "D:\\Anaconda3\\Lib\\site-packages\\umap\\distances.py:1063: NumbaDeprecationWarning: \u001b[1mThe 'nopython' keyword argument was not supplied to the 'numba.jit' decorator. The implicit default value for this argument is currently False, but it will be changed to True in Numba 0.59.0. See https://numba.readthedocs.io/en/stable/reference/deprecation.html#deprecation-of-object-mode-fall-back-behaviour-when-using-jit for details.\u001b[0m\n",
      "  @numba.jit()\n",
      "D:\\Anaconda3\\Lib\\site-packages\\umap\\distances.py:1071: NumbaDeprecationWarning: \u001b[1mThe 'nopython' keyword argument was not supplied to the 'numba.jit' decorator. The implicit default value for this argument is currently False, but it will be changed to True in Numba 0.59.0. See https://numba.readthedocs.io/en/stable/reference/deprecation.html#deprecation-of-object-mode-fall-back-behaviour-when-using-jit for details.\u001b[0m\n",
      "  @numba.jit()\n",
      "D:\\Anaconda3\\Lib\\site-packages\\umap\\distances.py:1086: NumbaDeprecationWarning: \u001b[1mThe 'nopython' keyword argument was not supplied to the 'numba.jit' decorator. The implicit default value for this argument is currently False, but it will be changed to True in Numba 0.59.0. See https://numba.readthedocs.io/en/stable/reference/deprecation.html#deprecation-of-object-mode-fall-back-behaviour-when-using-jit for details.\u001b[0m\n",
      "  @numba.jit()\n",
      "D:\\Anaconda3\\Lib\\site-packages\\umap\\umap_.py:660: NumbaDeprecationWarning: \u001b[1mThe 'nopython' keyword argument was not supplied to the 'numba.jit' decorator. The implicit default value for this argument is currently False, but it will be changed to True in Numba 0.59.0. See https://numba.readthedocs.io/en/stable/reference/deprecation.html#deprecation-of-object-mode-fall-back-behaviour-when-using-jit for details.\u001b[0m\n",
      "  @numba.jit()\n",
      "100%|██████████| 1028/1028 [10:20<00:00,  1.66it/s]\n"
     ]
    }
   ],
   "source": [
    "import umap.umap_ as umap\n",
    "\n",
    "embeddings = chroma_collection.get(include=['embeddings'])['embeddings']\n",
    "umap_transform = umap.UMAP(random_state=0, transform_seed=0).fit(embeddings)\n",
    "projected_dataset_embeddings = project_embeddings(embeddings, umap_transform)"
   ]
  },
  {
   "cell_type": "markdown",
   "metadata": {},
   "source": [
    "参考paper https://arxiv.org/abs/2305.03653"
   ]
  },
  {
   "cell_type": "markdown",
   "metadata": {},
   "source": [
    "我们创建名为`augment`的函数，进行生成查询，并传递一个查询，传入模型参数（默认使用`gpt-3.5-turbo`）。"
   ]
  },
  {
   "cell_type": "code",
   "execution_count": 6,
   "metadata": {},
   "outputs": [],
   "source": [
    "def augment_query_generated(query, model=\"gpt-3.5-turbo\"):\n",
    "    messages = [\n",
    "        {\n",
    "            \"role\": \"system\",\n",
    "            # 设定一个对话场景，模型被告知扮演一个专业的财经研究助理。\n",
    "            \"content\": \"You are a helpful expert financial research assistant. Provide an example answer to the given question, that might be found in a document like an annual report. \" # 系统提示\n",
    "        },\n",
    "        {\"role\": \"user\", \"content\": query} # 通过查询作为内容\n",
    "    ] \n",
    "    \n",
    "    # 定义如何提示模型\n",
    "    response = openai_client.chat.completions.create(\n",
    "        model=model,\n",
    "        messages=messages,\n",
    "    )\n",
    "    content = response.choices[0].message.content\n",
    "    return content"
   ]
  },
  {
   "cell_type": "markdown",
   "metadata": {},
   "source": [
    "进行第一次查询。"
   ]
  },
  {
   "cell_type": "code",
   "execution_count": 74,
   "metadata": {},
   "outputs": [
    {
     "name": "stdout",
     "output_type": "stream",
     "text": [
      "推动北京收入增长的因素是什么? 在过去一年中，推动北京市收入增长的因素主要包括：\n",
      "\n",
      "1.\n",
      "经济增长：北京市持续实施创新驱动发展战略，促进科技创新和产业升级，推动经济持续增长，进而提高财政收入水平。\n",
      "\n",
      "2.\n",
      "保障就业：北京市积极落实就业优先政策，促进就业机会增加，增加了居民的收入来源，同时也提升了所得税等税收收入。\n",
      "\n",
      "3.\n",
      "财政政策支持：政府加大财政投入，加强基础设施建设和公共服务供给，促进城市发展和居民生活水平提高，从而间接推动了收入增长。\n",
      "\n",
      "4.\n",
      "金融市场发展：北京市的金融市场发展迅速，吸引了更多的资金流入，推动了金融行业的发展，并为地方财政带来了一定收入。\n",
      "\n",
      "5.\n",
      "收入分配政策：通过加强收入再分配政策，减小收入差距，促进居民消费，间接促进了地方收入的增长。\n",
      "\n",
      "这些因素共同作用，推动了北京市的收入总体实现稳步\n",
      "长。\n"
     ]
    }
   ],
   "source": [
    "original_query = \"推动北京收入增长的因素是什么?\"\n",
    "# 生成假设答案\n",
    "hypothetical_answer = augment_query_generated(original_query)\n",
    "# 联合查询\n",
    "joint_query = f\"{original_query} {hypothetical_answer}\"\n",
    "print(word_wrap(joint_query))"
   ]
  },
  {
   "cell_type": "markdown",
   "metadata": {},
   "source": [
    "发送一个查询和假设作为查询响应我们的检索系统。"
   ]
  },
  {
   "cell_type": "markdown",
   "metadata": {},
   "source": [
    "我们接下来使用Chroma进行查询。"
   ]
  },
  {
   "cell_type": "code",
   "execution_count": 75,
   "metadata": {},
   "outputs": [
    {
     "name": "stdout",
     "output_type": "stream",
     "text": [
      "统筹用好政府投资基金\n",
      "\n",
      "更好发挥中国国际服务贸易交易会、中关村论\n",
      "坛、北京文化论坛、金融街论坛等国家级开放平台作用\n",
      "\n",
      "新设4支政府高精尖产业基金\n",
      "\n",
      "切实提高财政金融服务效能\n",
      "\n",
      "优\n",
      "化提升中央政务环境和城市发展品质\n",
      "\n"
     ]
    }
   ],
   "source": [
    "results = chroma_collection.query(query_texts=joint_query, n_results=5, include=['documents', 'embeddings'])\n",
    "retrieved_documents = results['documents'][0]\n",
    "\n",
    "for doc in retrieved_documents:\n",
    "    print(word_wrap(doc))\n",
    "    print('')"
   ]
  },
  {
   "cell_type": "markdown",
   "metadata": {},
   "source": [
    "将查询结果集的嵌入，原始检索的嵌入，联合查询的嵌入进行投影。\n"
   ]
  },
  {
   "cell_type": "code",
   "execution_count": 76,
   "metadata": {},
   "outputs": [
    {
     "name": "stderr",
     "output_type": "stream",
     "text": [
      "100%|██████████| 1/1 [00:00<00:00,  1.28it/s]\n",
      "100%|██████████| 1/1 [00:00<00:00,  1.85it/s]\n",
      "100%|██████████| 5/5 [00:03<00:00,  1.52it/s]\n"
     ]
    }
   ],
   "source": [
    "retrieved_embeddings = results['embeddings'][0]\n",
    "original_query_embedding = embedding_function([original_query])\n",
    "augmented_query_embedding = embedding_function([joint_query])\n",
    "\n",
    "projected_original_query_embedding = project_embeddings(original_query_embedding, umap_transform)\n",
    "projected_augmented_query_embedding = project_embeddings(augmented_query_embedding, umap_transform)\n",
    "projected_retrieved_embeddings = project_embeddings(retrieved_embeddings, umap_transform)"
   ]
  },
  {
   "cell_type": "markdown",
   "metadata": {},
   "source": [
    "进行可视化。"
   ]
  },
  {
   "cell_type": "code",
   "execution_count": 77,
   "metadata": {},
   "outputs": [
    {
     "data": {
      "text/plain": [
       "(-4.898337054252624, 6.464729475975036, 3.1551185965538027, 12.484500992298127)"
      ]
     },
     "execution_count": 77,
     "metadata": {},
     "output_type": "execute_result"
    },
    {
     "data": {
      "image/png": "[encoded data removed]",
      "text/plain": [
       "<Figure size 640x480 with 1 Axes>"
      ]
     },
     "metadata": {},
     "output_type": "display_data"
    }
   ],
   "source": [
    "import matplotlib.pyplot as plt\n",
    "\n",
    "\n",
    "plt.figure()\n",
    "plt.rcParams['font.sans-serif'] = ['Microsoft YaHei']  # 设置全局字体为微软雅黑，显示中文\n",
    "plt.scatter(projected_dataset_embeddings[:, 0], projected_dataset_embeddings[:, 1], s=10, color='gray')\n",
    "plt.scatter(projected_retrieved_embeddings[:, 0], projected_retrieved_embeddings[:, 1], s=100, facecolors='none', edgecolors='g')\n",
    "plt.scatter(projected_original_query_embedding[:, 0], projected_original_query_embedding[:, 1], s=150, marker='X', color='r')\n",
    "plt.scatter(projected_augmented_query_embedding[:, 0], projected_augmented_query_embedding[:, 1], s=150, marker='X', color='orange')\n",
    "\n",
    "plt.gca().set_aspect('equal', 'datalim')\n",
    "plt.title(f'{original_query}')\n",
    "plt.axis('off')"
   ]
  },
  {
   "cell_type": "markdown",
   "metadata": {},
   "source": [
    "我们可以看到红色的`X`是我们的原始查询，橙色的`X`是我们带有假设答案的查询，绿色的圆圈是我们检索到的查询，可以看出，进行联合查询提高了我们的查询结果。"
   ]
  },
  {
   "cell_type": "markdown",
   "metadata": {},
   "source": [
    "## 4.2 Expansion with multiple queries（多个查询的查询扩展）"
   ]
  },
  {
   "cell_type": "markdown",
   "metadata": {},
   "source": [
    "![Expansion with multiple queries.png](./images/Expansion%20with%20multiple%20queries.png)"
   ]
  },
  {
   "cell_type": "markdown",
   "metadata": {},
   "source": [
    "我们通过图片了解 Expansion with multiple queries 的工作原理：\n",
    "\n",
    "第一步，我们需要发起一个查询。\n",
    "\n",
    "第二步，使用大型语言模型（LLM）来生成额外的查询。\n",
    "\n",
    "第三步，这些新生成的查询被发送到向量数据库（VectorDB）。\n",
    "\n",
    "第四步，向量数据库检索与原始查询和新查询都相关的结果。\n",
    "\n",
    "第五步，所有的查询结果被发送回LLM。\n",
    "\n",
    "第六步，LLM基于所有检索到的信息提供最终的答案。"
   ]
  },
  {
   "cell_type": "markdown",
   "metadata": {},
   "source": [
    "与上一个方法相同（需要增加更多的系统提示）。"
   ]
  },
  {
   "cell_type": "code",
   "execution_count": 27,
   "metadata": {},
   "outputs": [],
   "source": [
    "def augment_multiple_query(query, model=\"gpt-3.5-turbo\"):\n",
    "    messages = [\n",
    "        {\n",
    "            \"role\": \"system\",\n",
    "            # 为模型提供指令，告诉它扮演一个有用的财经研究助理。\n",
    "            # 指令包括基于提供的查询生成最多五个相关的额外查询问题。\n",
    "            # 提示模型生成的问题应该简短，不包含复合句，并涵盖主题的不同方面。\n",
    "            # 要确保问题是完整的，并且与原始查询相关联。\n",
    "            # 输出格式为每行一个问题，不要对问题编号。\n",
    "            \"content\": \"You are a helpful expert financial research assistant. Your users are asking questions about an annual report. \"\n",
    "            \"Suggest up to five additional related questions to help them find the information they need, for the provided question. \"\n",
    "            \"Suggest only short questions without compound sentences. Suggest a variety of questions that cover different aspects of the topic.\"\n",
    "            \"Make sure they are complete questions, and that they are related to the original question.\"\n",
    "            \"Output one question per line. Do not number the questions.\"\n",
    "        },\n",
    "        {\"role\": \"user\", \"content\": query}\n",
    "    ]\n",
    "\n",
    "    response = openai_client.chat.completions.create(\n",
    "        model=model,\n",
    "        messages=messages,\n",
    "    )\n",
    "    content = response.choices[0].message.content\n",
    "    content = content.split(\"\\n\")\n",
    "    return content"
   ]
  },
  {
   "cell_type": "markdown",
   "metadata": {},
   "source": [
    "第一次查询。"
   ]
  },
  {
   "cell_type": "code",
   "execution_count": 69,
   "metadata": {},
   "outputs": [
    {
     "name": "stdout",
     "output_type": "stream",
     "text": [
      "- 北京在哪些领域取得了收入增长？\n",
      "- 收入增长的主要驱动因素是什么？\n",
      "- 收入增长是否受到外部环境的影响？\n",
      "- 未来几年北京的收入增长预期如何？\n",
      "- 北京的收入增长与国内经济政策有何关系？\n"
     ]
    }
   ],
   "source": [
    "original_query = \"推动北京收入增长因素是什么?\"\n",
    "augmented_queries = augment_multiple_query(original_query)\n",
    "\n",
    "for query in augmented_queries:\n",
    "    print(query)"
   ]
  },
  {
   "cell_type": "markdown",
   "metadata": {},
   "source": [
    "我们可以看到LLM生成的其他增强查询问题。\n"
   ]
  },
  {
   "cell_type": "markdown",
   "metadata": {},
   "source": [
    "接下来，我们进行构建查询集，使用Chroma并行处理多个查询（原始查询加增强查询）并打印了每个查询及其检索到的文档。"
   ]
  },
  {
   "cell_type": "code",
   "execution_count": 70,
   "metadata": {},
   "outputs": [
    {
     "name": "stdout",
     "output_type": "stream",
     "text": [
      "Query: 推动北京收入增长因素是什么?\n",
      "\n",
      "Results:\n",
      "启动北京市重点实验室重组\n",
      "\n",
      "打造营商环境“北京服务”品牌\n",
      "\n",
      "支持北京绿色交易所建设统一的全国温室气体自愿减排交易市场\n",
      "\n",
      "深入实施人文北京、科技北京、绿色北京战略\n",
      "\n",
      "支持北京证券交易所深化改革和高质\n",
      "量发展\n",
      "\n",
      "----------------------------------------------------------------------------------------------------\n",
      "Query: - 北京在哪些领域取得了收入增长？\n",
      "\n",
      "Results:\n",
      "启动北京市重点实验室重组\n",
      "\n",
      "打造营商环境“北京服务”品牌\n",
      "\n",
      "支持北京绿色交易所建设统一的全国温室气体自愿减排交易市场\n",
      "\n",
      "深入实施人文北京、科技北京、绿色北京战略\n",
      "\n",
      "支持北京证券交易所深化改革和高质\n",
      "量发展\n",
      "\n",
      "----------------------------------------------------------------------------------------------------\n",
      "Query: - 收入增长的主要驱动因素是什么？\n",
      "\n",
      "Results:\n",
      "坚持预防为主\n",
      "\n",
      "给予\n",
      "科研人员更多自主权\n",
      "\n",
      "力戒形式主义、官僚主义\n",
      "\n",
      "巩固拓展主题教育成果\n",
      "\n",
      "深化主动治理、未诉先\n",
      "办\n",
      "\n",
      "----------------------------------------------------------------------------------------------------\n",
      "Query: - 收入增长是否受到外部环境的影响？\n",
      "\n",
      "Results:\n",
      "综合分析研判内外部形势\n",
      "\n",
      "面对内外部各种风险挑战\n",
      "\n",
      "为境外游客提供更加便利的\n",
      "支付环境\n",
      "\n",
      "严格干部教育管理监督\n",
      "\n",
      "优化外商投资服务\n",
      "\n",
      "----------------------------------------------------------------------------------------------------\n",
      "Query: - 未来几年北京的收入增长预期如何？\n",
      "\n",
      "Results:\n",
      "绿色北京战略实施取得新成效\n",
      "\n",
      "打造营商环境“北京服务”品牌\n",
      "\n",
      "启动北京市重点实验室重组\n",
      "\n",
      "北京成为国家首批制度型开放试点\n",
      "\n",
      "支持北京绿色交易所建设统一的全国温室气体自愿减排交易市场\n",
      "\n",
      "----------------------------------------------------------------------------------------------------\n",
      "Query: - 北京的收入增长与国内经济政策有何关系？\n",
      "\n",
      "Results:\n",
      "北京成为国家首批制度型开放试点\n",
      "\n",
      "是中共北京市委带领全市人民攻坚克难、艰苦奋斗的结果\n",
      "\n",
      "支持北京绿色交易所建设统一的全国温室气体自愿减排交易市场\n",
      "\n",
      "完成全国首例地方政府专项债券提前偿还试点\n",
      "\n",
      "成功举办首届北京国际非遗\n",
      "周\n",
      "\n",
      "----------------------------------------------------------------------------------------------------\n"
     ]
    }
   ],
   "source": [
    "queries = [original_query] + augmented_queries\n",
    "results = chroma_collection.query(query_texts=queries, n_results=5, include=['documents', 'embeddings'])\n",
    "\n",
    "retrieved_documents = results['documents']\n",
    "\n",
    "# 对检索到的文档进行重复数据删除\n",
    "unique_documents = set()\n",
    "for documents in retrieved_documents:\n",
    "    for document in documents:\n",
    "        unique_documents.add(document)\n",
    "\n",
    "for i, documents in enumerate(retrieved_documents):\n",
    "    print(f\"Query: {queries[i]}\")\n",
    "    print('')\n",
    "    print(\"Results:\")\n",
    "    for doc in documents:\n",
    "        print(word_wrap(doc))\n",
    "        print('')\n",
    "    print('-'*100)"
   ]
  },
  {
   "cell_type": "markdown",
   "metadata": {},
   "source": [
    "计算原始查询和增强查询的嵌入，然后使用`umap`将这些嵌入进行绘制投影。"
   ]
  },
  {
   "cell_type": "code",
   "execution_count": 71,
   "metadata": {},
   "outputs": [
    {
     "name": "stderr",
     "output_type": "stream",
     "text": [
      "  0%|          | 0/1 [00:00<?, ?it/s]"
     ]
    },
    {
     "name": "stderr",
     "output_type": "stream",
     "text": [
      "100%|██████████| 1/1 [00:00<00:00,  1.73it/s]\n",
      "100%|██████████| 5/5 [00:03<00:00,  1.63it/s]\n"
     ]
    }
   ],
   "source": [
    "original_query_embedding = embedding_function([original_query])\n",
    "augmented_query_embeddings = embedding_function(augmented_queries)\n",
    "\n",
    "project_original_query = project_embeddings(original_query_embedding, umap_transform)\n",
    "project_augmented_queries = project_embeddings(augmented_query_embeddings, umap_transform)\n"
   ]
  },
  {
   "cell_type": "markdown",
   "metadata": {},
   "source": [
    "从查询结果中提取嵌入向量，使用`umap`将这些嵌入进行绘制投影。"
   ]
  },
  {
   "cell_type": "code",
   "execution_count": 72,
   "metadata": {},
   "outputs": [
    {
     "name": "stderr",
     "output_type": "stream",
     "text": [
      "100%|██████████| 30/30 [00:17<00:00,  1.73it/s]\n"
     ]
    }
   ],
   "source": [
    "result_embeddings = results['embeddings']\n",
    "result_embeddings = [item for sublist in result_embeddings for item in sublist]\n",
    "projected_result_embeddings = project_embeddings(result_embeddings, umap_transform)\n"
   ]
  },
  {
   "cell_type": "markdown",
   "metadata": {},
   "source": [
    "进行数据可视化。"
   ]
  },
  {
   "cell_type": "code",
   "execution_count": 73,
   "metadata": {},
   "outputs": [
    {
     "data": {
      "text/plain": [
       "(-4.898337054252624, 6.464729475975036, 3.1551185965538027, 12.484500992298127)"
      ]
     },
     "execution_count": 73,
     "metadata": {},
     "output_type": "execute_result"
    },
    {
     "data": {
      "image/png": "[encoded data removed]",
      "text/plain": [
       "<Figure size 640x480 with 1 Axes>"
      ]
     },
     "metadata": {},
     "output_type": "display_data"
    }
   ],
   "source": [
    "import matplotlib.pyplot as plt\n",
    "\n",
    "plt.figure()\n",
    "plt.rcParams['font.sans-serif'] = ['Microsoft YaHei']  # 设置全局字体为微软雅黑，显示中文\n",
    "plt.scatter(projected_dataset_embeddings[:, 0], projected_dataset_embeddings[:, 1], s=10, color='gray')\n",
    "plt.scatter(project_augmented_queries[:, 0], project_augmented_queries[:, 1], s=150, marker='X', color='orange')\n",
    "plt.scatter(projected_result_embeddings[:, 0], projected_result_embeddings[:, 1], s=100, facecolors='none', edgecolors='g')\n",
    "plt.scatter(project_original_query[:, 0], project_original_query[:, 1], s=150, marker='X', color='r')\n",
    "\n",
    "plt.gca().set_aspect('equal', 'datalim')\n",
    "plt.title(f'{original_query}')\n",
    "plt.axis('off')"
   ]
  },
  {
   "cell_type": "markdown",
   "metadata": {},
   "source": [
    "可以看到红色的`X`是我们的原始查询，橙色的`X`是嵌入增强的LLM生成的新查询，绿色的圆圈代表我们实际返回的结果。"
   ]
  },
  {
   "cell_type": "markdown",
   "metadata": {},
   "source": [
    "## 4.3 总结"
   ]
  },
  {
   "cell_type": "markdown",
   "metadata": {},
   "source": [
    "通过本次Expansion with generator answers和Expansion with multiple queries两个例子，使用Chroma进行检索的增强，这对于我们找到有效的信息是非常好的。"
   ]
  }
 ],
 "metadata": {
  "kernelspec": {
   "display_name": "Python 3 (ipykernel)",
   "language": "python",
   "name": "python3"
  }
 },
 "nbformat": 4,
 "nbformat_minor": 2
}
