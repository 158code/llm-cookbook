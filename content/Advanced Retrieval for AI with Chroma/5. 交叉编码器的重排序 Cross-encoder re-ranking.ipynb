{
 "cells": [
  {
   "cell_type": "markdown",
   "id": "66d06a48-8cf0-490e-a200-e4fa056ce0b1",
   "metadata": {},
   "source": [
    "# 第五章 交叉编码器重排序"
   ]
  },
  {
   "cell_type": "markdown",
   "id": "50fbb515-9f55-47c1-bd22-980e7a146e34",
   "metadata": {},
   "source": [
    "本节课，将使用交叉编码器重排序的技术，对检索到的结果进行相关性分析。重排序是一种根据结果与特定查询的相关性来排序和评分的方法。"
   ]
  },
  {
   "cell_type": "markdown",
   "id": "4164d820",
   "metadata": {},
   "source": [
    "<div class=\"toc\">\n",
    "    <ul class=\"toc-item\">\n",
    "        <li><span><a href=\"#一底层原理\" data-toc-modified-id=\"一、底层原理\">一、底层原理</a></span></li>\n",
    "        <li>\n",
    "        <span><a href=\"#二实现过程\" data-toc-modified-id=\"二、实现过程\">二、实现过程</a></span></li><li>\n",
    "        <ul class=\"toc-item\">\n",
    "            <li><span><a href=\"#21-导入辅助函数\" data-toc-modified-id=\"2.1 导入辅助函数\">2.1 导入辅助函数</a></span></li>\n",
    "            <li><span><a href=\"#22-长尾部分的重排序\" data-toc-modified-id=\"2.2 长尾部分的重排序\">2.2 长尾部分的重排序</a></span></li>\n",
    "            <li><span><a href=\"#23-结合查询扩展的重排序\" data-toc-modified-id=\"2.3 结合查询扩展的重排序\">2.3 结合查询扩展的重排序</a></span></li>\n",
    "        </ul>\n",
    "        </li>\n",
    "    </ul>\n",
    "</div>"
   ]
  },
  {
   "cell_type": "markdown",
   "id": "f4996c39-a4e2-47b2-adfb-cca9be481aac",
   "metadata": {},
   "source": [
    "## 一、底层原理"
   ]
  },
  {
   "cell_type": "markdown",
   "id": "283b3490-796a-4bf8-9f40-d456deeb0c68",
   "metadata": {},
   "source": [
    "### 1.1 交叉编码器"
   ]
  },
  {
   "cell_type": "markdown",
   "id": "27496538-b833-4994-81b9-a126422c4dfd",
   "metadata": {},
   "source": [
    "交叉编码器的工作原理可以分为以下几个步骤:\r\n",\n
    "输入文本对：交叉编码器以一对文本作为输入。这两段文本通过一个特殊的分隔符（例如，BERT模型中'的[SEP']）连接在一起，形成单个输入列。\n",
    "文本编码：连接后的输入序列被送入预训练的Transformer模型（如BERT、RoBERTa等）中。这个模型通过自注意力（Self-Attention）机制能够捕捉输入序列内部的复杂关系，包括两段文本之间的交互信息。\n",
    "理解关系：模型输出的是经过编码的文本对的表示，这个表示捕捉了两段文本之间的交叉关系。在模型的顶层，通常会有一个或多个全连接层（Dense Layer），用于根据任务需要（如分类、回归）进一步处理这个表示。\n",
    "输出预测：最终，模型输出一个预测结果，这可以是文本对的相似度分数、分类标签（如匹配/不匹配）、或是其他形式的输出，具体决于任务的需求。\n"
    
   ]
  },
  {
   "cell_type": "markdown",
   "id": "f35dcaf2-104c-4508-94e7-4e78076fb0bc",
   "metadata": {},
   "source": [
    "### 1.2 重排序"
   ]
  },
  {
   "cell_type": "markdown",
   "id": "9dd3fc60-f1cd-4b8a-b814-6c5c5b658b0b",
   "metadata": {},
   "source": [
    "在重排序过程中，在得到特定查询检索到结果之后，需要将这些结果连同查询一起传递给一个重排序模型。这可以重新排列输出，使最相关的结果具有最高的排名。\n",
    "另一种思考方式是，重排序模型根据查询对每个结果打分，得分最高的就是最相关的结果。最后，以选择排名最高的结果作为与特定查询最相关的结果。"
   ]
  },
  {
   "cell_type": "markdown",
   "id": "9737a00c-741f-4b4a-baee-52aaa1536854",
   "metadata": {},
   "source": [
    "## 二、实现过程"
   ]
  },
  {
   "cell_type": "markdown",
   "id": "5fc9cbf3-a35a-46f5-8eb4-55e463e424b4",
   "metadata": {},
   "source": [
    "### 2.1 导入辅助函数"
   ]
  },
  {
   "cell_type": "code",
   "execution_count": 1,
   "id": "a12b6f02-8247-4309-b31a-3bcb7e7b6d0d",
   "metadata": {},
   "outputs": [],
   "source": [
    "from helper_utils import load_chroma, word_wrap, project_embeddings\n",
    "from chromadb.utils.embedding_functions import SentenceTransformerEmbeddingFunction\n",
    "import numpy as np"
   ]
  },
  {
   "cell_type": "code",
   "execution_count": 2,
   "id": "bae8a244-6016-422e-82e1-134ec0734adf",
   "metadata": {},
   "outputs": [
    {
     "data": {
      "text/plain": [
       "1028"
      ]
     },
     "execution_count": 2,
     "metadata": {},
     "output_type": "execute_result"
    }
   ],
   "source": [
    "# 使用代理可能出现网络问题，将以下端口号1080全部替换成自己的vpn的端口号\n",
    "import os\n",
    "os.environ['HTTPS_PROXY']='http://127.0.0.1:1080'\n",
    "os.environ[\"HTTP_PROXY\"]='http://127.0.0.1:1080'\n",
    "\n",
    "embedding_function = SentenceTransformerEmbeddingFunction()\n",
    "\n",
    "chroma_collection = load_chroma(filename='北京2024年政府工作报告.pdf', collection_name='beijing_annual_report_2024', embedding_function=embedding_function,langcode='zh')\n",
    "chroma_collection.count()"
   ]
  },
  {
   "cell_type": "markdown",
   "id": "ab4630a5-d31a-4ad1-be38-6d8d783b2651",
   "metadata": {},
   "source": [
    "### 2.2 长尾部分的重排序"
   ]
  },
  {
   "cell_type": "code",
   "execution_count": 3,
   "id": "ed7b8a7d-f71b-4e9e-9786-b91a0f356b16",
   "metadata": {},
   "outputs": [
    {
     "name": "stdout",
     "output_type": "stream",
     "text": [
      "开展重点地区环境整\n",
      "治提升\n",
      "\n",
      "加强重点群体和地区就业帮扶\n",
      "\n",
      "助力受援地区巩固拓展\n",
      "脱贫攻坚成果\n",
      "\n",
      "推动\n",
      "京津冀地区防洪工程体系建设\n",
      "\n",
      "扎实推进耕地质量提升\n",
      "\n",
      "抓好地铁等重点部位风险防范\n",
      "\n",
      "积极推进地下管网建设\n",
      "\n",
      "促进房地产市场平稳健康\n",
      "发展\n",
      "\n",
      "推动算力中心、数据训练基地、国家区块链枢纽节点等一批重大\n",
      "项目落地\n",
      "\n",
      "强化京西地区高质量转型发展\n",
      "\n"
     ]
    }
   ],
   "source": [
    "# 之前一般设定返回5个结果，现在要求返回10个结果，加入了部分可能有用的的长尾结果\n",
    "query = \"地区生产总值是多少？\"\n",
    "results = chroma_collection.query(query_texts=query, n_results=10, include=['documents', 'embeddings'])\n",
    "\n",
    "retrieved_documents = results['documents'][0]\n",
    "\n",
    "for document in results['documents'][0]:\n",
    "    print(word_wrap(document))\n",
    "    print('')"
   ]
  },
  {
   "cell_type": "code",
   "execution_count": 4,
   "id": "c7a9c3bc-6f06-4bab-9b8e-543b08ec3e6e",
   "metadata": {},
   "outputs": [],
   "source": [
    "# BERT交叉编码器同时渠道查询和文档，通过一个分类器传递，获得一个得分\n",
    "# 利用该得分作为检索结果的相关性或排名的得分\n",
    "from sentence_transformers import CrossEncoder\n",
    "cross_encoder = CrossEncoder('cross-encoder/ms-marco-MiniLM-L-6-v2')"
   ]
  },
  {
   "cell_type": "code",
   "execution_count": 5,
   "id": "5131f298-25bf-47d2-899e-729675b2b03b",
   "metadata": {},
   "outputs": [
    {
     "name": "stdout",
     "output_type": "stream",
     "text": [
      "Scores:\n",
      "5.872144\n",
      "6.1492352\n",
      "6.404071\n",
      "5.9820256\n",
      "1.2505131\n",
      "3.7234032\n",
      "3.4397516\n",
      "5.0577946\n",
      "7.2845283\n",
      "6.2345767\n"
     ]
    }
   ],
   "source": [
    "pairs = [[query, doc] for doc in retrieved_documents]\n",
    "scores = cross_encoder.predict(pairs)\n",
    "print(\"Scores:\")\n",
    "for score in scores:\n",
    "    print(score)"
   ]
  },
  {
   "cell_type": "code",
   "execution_count": 6,
   "id": "62a74fc0-3b3d-409a-b7ea-cf92f61aebb4",
   "metadata": {},
   "outputs": [
    {
     "name": "stdout",
     "output_type": "stream",
     "text": [
      "New Ordering:\n",
      "9\n",
      "3\n",
      "10\n",
      "2\n",
      "4\n",
      "1\n",
      "8\n",
      "6\n",
      "7\n",
      "5\n"
     ]
    }
   ],
   "source": [
    "print(\"New Ordering:\")\n",
    "for o in np.argsort(scores)[::-1]:\n",
    "    print(o+1)"
   ]
  },
  {
   "cell_type": "markdown",
   "id": "50bd180c-2ba8-4c7c-829b-ed9daa0ff160",
   "metadata": {},
   "source": [
    "### 2.3 结合查询扩展的重排序"
   ]
  },
  {
   "cell_type": "code",
   "execution_count": 8,
   "id": "1d9934b8-93b1-4df8-8ff2-636576c251df",
   "metadata": {},
   "outputs": [],
   "source": [
    "# 接下来把之前获得的结果排序前5名传递给LLM\n",
    "original_query = \"财政增长最重要的贡献因素是什么\"\n",
    "generated_queries = [\n",
    "    \"财政增长的主要驱动因素？\",\n",
    "    \"有没有新产品的推出对收入增长做出了贡献？\",\n",
    "    \"价格变动或促销是否影响到财政增长\",\n",
    "    \"是什么关键市场趋势促进了收入的增长？\",\n",
    "    \"收购或合作伙伴关系对收入增长是否有贡献？\",\n",
    "]"
   ]
  },
  {
   "cell_type": "code",
   "execution_count": 9,
   "id": "ee986a73-1caf-4fc4-9540-be2ec18d9f7d",
   "metadata": {},
   "outputs": [],
   "source": [
    "queries = [original_query] + generated_queries\n",
    "\n",
    "results = chroma_collection.query(query_texts=queries, n_results=10, include=['documents', 'embeddings'])\n",
    "retrieved_documents = results['documents']"
   ]
  },
  {
   "cell_type": "code",
   "execution_count": 10,
   "id": "0b207645-f722-4832-9b81-8e117775eb7c",
   "metadata": {},
   "outputs": [],
   "source": [
    "# 删除检索文档中的重复数据\n",
    "unique_documents = set()\n",
    "for documents in retrieved_documents:\n",
    "    for document in documents:\n",
    "        unique_documents.add(document)\n",
    "\n",
    "unique_documents = list(unique_documents)"
   ]
  },
  {
   "cell_type": "code",
   "execution_count": 11,
   "id": "0bf3d28d-c68a-4dfa-8d2d-a8c763a8124d",
   "metadata": {},
   "outputs": [],
   "source": [
    "# 再次创建pairs,可以增强查询的检索记过与原始查询的相关性\n",
    "# 从中选择最佳的5个结果传递给LLM\n",
    "pairs = []\n",
    "for doc in unique_documents:\n",
    "    pairs.append([original_query, doc])"
   ]
  },
  {
   "cell_type": "code",
   "execution_count": 12,
   "id": "bb8ed546-e642-4a41-babe-684685c21a3a",
   "metadata": {},
   "outputs": [],
   "source": [
    "scores = cross_encoder.predict(pairs)"
   ]
  },
  {
   "cell_type": "code",
   "execution_count": 13,
   "id": "5d9d428b-c05d-4021-ba15-e164e8dd5f6a",
   "metadata": {},
   "outputs": [
    {
     "name": "stdout",
     "output_type": "stream",
     "text": [
      "Scores:\n",
      "4.187155\n",
      "4.2883596\n",
      "6.388403\n",
      "3.866844\n",
      "6.019877\n",
      "5.081589\n",
      "5.2962303\n",
      "5.076417\n",
      "5.382743\n",
      "4.379745\n",
      "5.7065163\n",
      "6.343833\n",
      "5.413024\n",
      "4.954753\n",
      "3.6043563\n",
      "5.4489594\n",
      "6.4015484\n",
      "6.4205775\n",
      "5.6804743\n",
      "5.6860704\n",
      "5.382743\n",
      "6.224806\n",
      "3.5073366\n",
      "6.000119\n",
      "6.3851595\n",
      "5.011035\n",
      "5.9115467\n",
      "5.507494\n",
      "6.0991387\n",
      "6.221888\n",
      "4.792638\n",
      "6.0298247\n",
      "6.6436567\n",
      "6.8025036\n",
      "6.5744896\n",
      "4.172509\n",
      "6.882475\n",
      "6.073226\n",
      "4.912699\n",
      "5.4910173\n"
     ]
    }
   ],
   "source": [
    "print(\"Scores:\")\n",
    "for score in scores:\n",
    "    print(score)"
   ]
  },
  {
   "cell_type": "code",
   "execution_count": 15,
   "id": "c10548f4-6348-401c-8695-421aba308b71",
   "metadata": {},
   "outputs": [
    {
     "name": "stdout",
     "output_type": "stream",
     "text": [
      "New Ordering:\n",
      "36\n",
      "33\n",
      "32\n",
      "34\n",
      "17\n",
      "16\n",
      "2\n",
      "24\n",
      "11\n",
      "21\n",
      "29\n",
      "28\n",
      "37\n",
      "31\n",
      "4\n",
      "23\n",
      "26\n",
      "10\n",
      "19\n",
      "18\n",
      "27\n",
      "39\n",
      "15\n",
      "12\n",
      "8\n",
      "20\n",
      "6\n",
      "5\n",
      "7\n",
      "25\n",
      "13\n",
      "38\n",
      "30\n",
      "9\n",
      "1\n",
      "0\n",
      "35\n",
      "3\n",
      "14\n",
      "22\n"
     ]
    }
   ],
   "source": [
    "# 打印新排名\n",
    "print(\"New Ordering:\")\n",
    "for o in np.argsort(scores)[::-1]:\n",
    "    print(o)"
   ]
  }
 ],
 "metadata": {
  "kernelspec": {
   "display_name": "Python 3 (ipykernel)",
   "language": "python",
   "name": "python3"
  },
  "language_info": {
   "codemirror_mode": {
    "name": "ipython",
    "version": 3
   },
   "file_extension": ".py",
   "mimetype": "text/x-python",
   "name": "python",
   "nbconvert_exporter": "python",
   "pygments_lexer": "ipython3",
   "version": "3.9.18"
  }
 },
 "nbformat": 4,
 "nbformat_minor": 5
}
