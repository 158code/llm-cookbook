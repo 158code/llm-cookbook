{
 "cells": [
  {
   "cell_type": "markdown",
   "id": "190c69e4-1a17-46bf-a6ea-79760b4ef4ca",
   "metadata": {},
   "source": [
    "# 标记和提取\n",
    "\n",
    " - [一、设置OpenAI API Key](#一、设置OpenAI-API-Key)\n",
    " - [二、Tagging](#二、Tagging)\n",
    "     - [2.1 创建Tagging函数](#2.1-创建Tagging函数)\n",
    "     - [2.2 通过LangChain实现Tagging](#2.2-通过LangChain实现Tagging)\n",
    "     - [2.3 结构化解析Tagging结果](#2.3-结构化解析Tagging结果)\n",
    " - [三、 Extraction](#三、Extraction)\n",
    "     - [3.1 创建Extraction函数](#3.1-创建Extraction函数)\n",
    "     - [3.2 通过LangChain实现创建Extraction函数](#3.2-通过LangChain实现创建Extraction函数)\n",
    "     - [3.3 结构化解析Extraction结果](#3.3-结构化解析Extraction结果)\n",
    " - [四、应用案例](#四、应用案例)\n",
    "     - [4.1 加载数据](#4.1-加载数据)\n",
    "     - [4.2 提取文章概览](#4.2-提取文章概览)\n",
    "     - [4.3 提取文章信息](#4.3-提取文章信息)\n",
    "     - [4.4 分块文本提取](#4.4-分块文本提取)\n",
    "         "
   ]
  },
  {
   "cell_type": "markdown",
   "id": "ff54f3b7-ff99-453c-a5cd-e6fb47569a50",
   "metadata": {},
   "source": [
    "# 一、设置OpenAI-API-Key\n",
    "\n",
    "详细内容见`设置OpenAI_API_KEY.ipynb`文件"
   ]
  },
  {
   "cell_type": "markdown",
   "id": "cf894094-198d-429d-96da-f7092cd7c44e",
   "metadata": {},
   "source": [
    "# 二、Tagging"
   ]
  },
  {
   "cell_type": "markdown",
   "id": "22e2fb4b-3678-48e2-bd81-edb485dfee05",
   "metadata": {},
   "source": [
    "`Tagging` 是什么：\n",
    "- LLM 给出一个函数描述，从输入文本中选择参数生成一个结构化的输出，形成函数调用\n",
    "- 更一般地说，LLM 可以评估输入文本并生成**结构化输出**"
   ]
  },
  {
   "cell_type": "markdown",
   "id": "6bc4f577-1392-4905-a2ae-ea8afef211ec",
   "metadata": {},
   "source": [
    "## 2.1 创建Tagging函数"
   ]
  },
  {
   "cell_type": "code",
   "execution_count": 99,
   "id": "7eb3420e-2af6-4a1a-b88f-4accd1276b81",
   "metadata": {
    "tags": []
   },
   "outputs": [],
   "source": [
    "# 导入模块\n",
    "from typing import List  \n",
    "from pydantic import BaseModel, Field  \n",
    "from langchain.utils.openai_functions import convert_pydantic_to_openai_function"
   ]
  },
  {
   "cell_type": "code",
   "execution_count": 100,
   "id": "3bc6e2bc-2b11-43ae-862f-6502efa87795",
   "metadata": {
    "tags": []
   },
   "outputs": [],
   "source": [
    "# 创建 Tagging 类\n",
    "# 该类表是基于输入的文本来标记文本情感的 `pos`（正面）、`neg`（负面）或`neutral`（中立）\n",
    "class Tagging(BaseModel):\n",
    "    \"\"\"Tag the piece of text with particular info.\"\"\"\n",
    "    # 文本的情绪标签，可选值为`pos`（正面）、`neg`（负面）或`neutral`（中立）\n",
    "    sentiment: str = Field(description=\"sentiment of text, should be `pos`, `neg`, or `neutral`\")\n",
    "    # 文本的语言标签，应为ISO 639-1标准代码\n",
    "    language: str = Field(description=\"language of text (should be ISO 639-1 code)\")"
   ]
  },
  {
   "cell_type": "code",
   "execution_count": 101,
   "id": "dfec0a8a-a6b5-4e21-873f-fd92ddfb379a",
   "metadata": {
    "tags": []
   },
   "outputs": [
    {
     "data": {
      "text/plain": [
       "{'name': 'Tagging',\n",
       " 'description': 'Tag the piece of text with particular info.',\n",
       " 'parameters': {'title': 'Tagging',\n",
       "  'description': 'Tag the piece of text with particular info.',\n",
       "  'type': 'object',\n",
       "  'properties': {'sentiment': {'title': 'Sentiment',\n",
       "    'description': 'sentiment of text, should be `pos`, `neg`, or `neutral`',\n",
       "    'type': 'string'},\n",
       "   'language': {'title': 'Language',\n",
       "    'description': 'language of text (should be ISO 639-1 code)',\n",
       "    'type': 'string'}},\n",
       "  'required': ['sentiment', 'language']}}"
      ]
     },
     "execution_count": 101,
     "metadata": {},
     "output_type": "execute_result"
    }
   ],
   "source": [
    "# 将Tagging数据模型转换为OpenAI函数\n",
    "convert_pydantic_to_openai_function(Tagging)"
   ]
  },
  {
   "cell_type": "markdown",
   "id": "7f7473b7-014b-4701-8105-38d45c51785f",
   "metadata": {},
   "source": [
    "## 2.2 通过LangChain实现Tagging"
   ]
  },
  {
   "cell_type": "code",
   "execution_count": 102,
   "id": "6b30668a-18c0-41ff-ae7f-ecabc95d0300",
   "metadata": {
    "tags": []
   },
   "outputs": [],
   "source": [
    "# 导入模块\n",
    "from langchain.prompts import ChatPromptTemplate \n",
    "from langchain.chat_models import ChatOpenAI"
   ]
  },
  {
   "cell_type": "code",
   "execution_count": 103,
   "id": "8d126bf6-404b-43dd-ac59-0e277af90d75",
   "metadata": {
    "tags": []
   },
   "outputs": [],
   "source": [
    "model = ChatOpenAI(openai_api_key=openai.api_key, temperature=0)  # 创建一个温度为0的ChatOpenAI模型实例"
   ]
  },
  {
   "cell_type": "code",
   "execution_count": 104,
   "id": "d72ef913-f7e8-4d85-b248-20619d616c6c",
   "metadata": {
    "tags": []
   },
   "outputs": [],
   "source": [
    "# 应用 Tagging \n",
    "tagging_functions = [convert_pydantic_to_openai_function(Tagging)]"
   ]
  },
  {
   "cell_type": "code",
   "execution_count": 105,
   "id": "85658ed8-f059-4037-8bd8-97bf39d2bc54",
   "metadata": {
    "tags": []
   },
   "outputs": [],
   "source": [
    "# 使用ChatPromptTemplate的from_messages方法创建聊天提示模板\n",
    "prompt = ChatPromptTemplate.from_messages([\n",
    "    (\"system\", \"Think carefully, and then tag the text as instructed\"),\n",
    "    (\"user\", \"{input}\")\n",
    "])"
   ]
  },
  {
   "cell_type": "code",
   "execution_count": 106,
   "id": "d9a43649-440b-4f38-8756-5526addbf639",
   "metadata": {
    "tags": []
   },
   "outputs": [],
   "source": [
    "# 将模型与函数绑定，并指定函数调用的名称\n",
    "model_with_functions = model.bind(\n",
    "    functions=tagging_functions,\n",
    "    function_call={\"name\": \"Tagging\"}\n",
    ")"
   ]
  },
  {
   "cell_type": "code",
   "execution_count": 107,
   "id": "e4f5383d-cfcb-4ae1-9294-ca2090d843f9",
   "metadata": {
    "tags": []
   },
   "outputs": [],
   "source": [
    "# 创建一个标签链，结合提示模板和模型\n",
    "tagging_chain = prompt | model_with_functions"
   ]
  },
  {
   "cell_type": "code",
   "execution_count": 108,
   "id": "70d6db8f-3fd5-4adc-af4b-3f4e0e9d6ec8",
   "metadata": {
    "tags": []
   },
   "outputs": [
    {
     "data": {
      "text/plain": [
       "AIMessage(content='', additional_kwargs={'function_call': {'name': 'Tagging', 'arguments': '{\\n  \"sentiment\": \"pos\",\\n  \"language\": \"en\"\\n}'}}, example=False)"
      ]
     },
     "execution_count": 108,
     "metadata": {},
     "output_type": "execute_result"
    }
   ],
   "source": [
    "# 调用标签链并传入输入文本\n",
    "tagging_chain.invoke({\"input\": \"I love langchain\"})"
   ]
  },
  {
   "cell_type": "code",
   "execution_count": 109,
   "id": "047e9611-58bf-41d5-9aec-a78429d33490",
   "metadata": {
    "tags": []
   },
   "outputs": [
    {
     "data": {
      "text/plain": [
       "AIMessage(content='', additional_kwargs={'function_call': {'name': 'Tagging', 'arguments': '{\\n  \"sentiment\": \"neg\",\\n  \"language\": \"it\"\\n}'}}, example=False)"
      ]
     },
     "execution_count": 109,
     "metadata": {},
     "output_type": "execute_result"
    }
   ],
   "source": [
    "# 再次调用标签链并传入另一个输入文本\n",
    "tagging_chain.invoke({\"input\": \"non mi piace questo cibo\"})"
   ]
  },
  {
   "cell_type": "markdown",
   "id": "3ef00b98-c368-46d2-8639-a0c69f360548",
   "metadata": {},
   "source": [
    "## 2.3 结构化解析Tagging结果"
   ]
  },
  {
   "cell_type": "code",
   "execution_count": 110,
   "id": "a98c9f30-4837-4ee1-8c91-54122a206323",
   "metadata": {
    "tags": []
   },
   "outputs": [],
   "source": [
    "from langchain.output_parsers.openai_functions import JsonOutputFunctionsParser  # 从langchain.output_parsers.openai_functions模块导入JsonOutputFunctionsParser"
   ]
  },
  {
   "cell_type": "code",
   "execution_count": 111,
   "id": "7a92e037-32db-49f1-bbed-65a136449058",
   "metadata": {
    "tags": []
   },
   "outputs": [],
   "source": [
    "# 创建一个新的标签链，结合提示模板、模型和JsonOutputFunctionsParser解析器\n",
    "tagging_chain = prompt | model_with_functions | JsonOutputFunctionsParser()"
   ]
  },
  {
   "cell_type": "code",
   "execution_count": 112,
   "id": "48749566-8a75-4ce9-b2c9-1abad37f3763",
   "metadata": {
    "tags": []
   },
   "outputs": [
    {
     "data": {
      "text/plain": [
       "{'sentiment': 'neg', 'language': 'it'}"
      ]
     },
     "execution_count": 112,
     "metadata": {},
     "output_type": "execute_result"
    }
   ],
   "source": [
    "# 调用标签链并传入输入文本\n",
    "tagging_chain.invoke({\"input\": \"non mi piace questo cibo\"})"
   ]
  },
  {
   "cell_type": "markdown",
   "id": "611b7fbe-1e43-4167-8fbd-28a9df1b9ba7",
   "metadata": {},
   "source": [
    "# 三、Extraction"
   ]
  },
  {
   "cell_type": "markdown",
   "id": "9e2e2fad-a8e4-48dd-8e29-eb6abd085b0f",
   "metadata": {
    "tags": []
   },
   "source": [
    "Extraction 是什么：\n",
    "- 提取（Extraction）类似于标记（Tagging），但用于提取多条信息。\n",
    "- 当给定一个输入Json模式时，LLM已经进行了微调，以查找并填充该模式的参数。\n",
    "- 该功能并不局限于function模式，可以用于一般用途的提取。"
   ]
  },
  {
   "cell_type": "markdown",
   "id": "eddd5020-99b5-4b80-80bf-d58351968255",
   "metadata": {},
   "source": [
    "## 3.1 创建Extraction函数"
   ]
  },
  {
   "cell_type": "code",
   "execution_count": 113,
   "id": "bc4ae861-d0f8-4f78-b1cc-34c0ffd86daf",
   "metadata": {
    "tags": []
   },
   "outputs": [],
   "source": [
    "# 导入模块\n",
    "from typing import Optional  \n",
    "from pydantic import BaseModel, Field  "
   ]
  },
  {
   "cell_type": "code",
   "execution_count": 114,
   "id": "61e5bcf4-952e-4095-b0fa-89cf94ce7dad",
   "metadata": {
    "tags": []
   },
   "outputs": [],
   "source": [
    "# 创建Person类\n",
    "class Person(BaseModel):\n",
    "    \"\"\"Information about a person.\"\"\"\n",
    "    name: str = Field(description=\"person's name\")  # 人的名字\n",
    "    age: Optional[int] = Field(description=\"person's age\")  # 人的年龄，可选字段"
   ]
  },
  {
   "cell_type": "code",
   "execution_count": 115,
   "id": "502fe544-7138-4442-a8ce-86f40bff33be",
   "metadata": {
    "tags": []
   },
   "outputs": [],
   "source": [
    "# 创建Information类别\n",
    "class Information(BaseModel):\n",
    "    \"\"\"Information to extract.\"\"\"\n",
    "    people: List[Person] = Field(description=\"List of info about people\")  # 关于人的信息列表"
   ]
  },
  {
   "cell_type": "code",
   "execution_count": 116,
   "id": "1647eea0-d025-484c-980b-03e44e80fff7",
   "metadata": {
    "tags": []
   },
   "outputs": [
    {
     "data": {
      "text/plain": [
       "{'name': 'Information',\n",
       " 'description': 'Information to extract.',\n",
       " 'parameters': {'title': 'Information',\n",
       "  'description': 'Information to extract.',\n",
       "  'type': 'object',\n",
       "  'properties': {'people': {'title': 'People',\n",
       "    'description': 'List of info about people',\n",
       "    'type': 'array',\n",
       "    'items': {'title': 'Person',\n",
       "     'description': 'Information about a person.',\n",
       "     'type': 'object',\n",
       "     'properties': {'name': {'title': 'Name',\n",
       "       'description': \"person's name\",\n",
       "       'type': 'string'},\n",
       "      'age': {'title': 'Age',\n",
       "       'description': \"person's age\",\n",
       "       'type': 'integer'}},\n",
       "     'required': ['name']}}},\n",
       "  'required': ['people']}}"
      ]
     },
     "execution_count": 116,
     "metadata": {},
     "output_type": "execute_result"
    }
   ],
   "source": [
    "# 将Information数据模型转换为OpenAI函数\n",
    "convert_pydantic_to_openai_function(Information)"
   ]
  },
  {
   "cell_type": "code",
   "execution_count": 117,
   "id": "3e7dca14-4f0d-491d-b929-73a4087994e3",
   "metadata": {
    "tags": []
   },
   "outputs": [],
   "source": [
    "# 创建提取功能列表，并将提取功能绑定到模型上\n",
    "extraction_functions = [convert_pydantic_to_openai_function(Information)]  \n",
    "extraction_model = model.bind(functions=extraction_functions, function_call={\"name\": \"Information\"})  "
   ]
  },
  {
   "cell_type": "code",
   "execution_count": 118,
   "id": "8adc905c-0174-4d98-ac6b-ea4666f4c26e",
   "metadata": {
    "tags": []
   },
   "outputs": [
    {
     "data": {
      "text/plain": [
       "AIMessage(content='', additional_kwargs={'function_call': {'name': 'Information', 'arguments': '{\\n  \"people\": [\\n    {\\n      \"name\": \"Joe\",\\n      \"age\": 30\\n    },\\n    {\\n      \"name\": \"Martha\",\\n      \"age\": 0\\n    }\\n  ]\\n}'}}, example=False)"
      ]
     },
     "execution_count": 118,
     "metadata": {},
     "output_type": "execute_result"
    }
   ],
   "source": [
    "# 调用提取模型，传入文本信息\n",
    "extraction_model.invoke(\"Joe is 30, his mom is Martha\")"
   ]
  },
  {
   "cell_type": "markdown",
   "id": "b26f5fdb-0ad6-40c1-8ead-40b25a68f6ae",
   "metadata": {},
   "source": [
    "## 3.2 通过LangChain实现创建Extraction函数"
   ]
  },
  {
   "cell_type": "code",
   "execution_count": 119,
   "id": "7566c1d1-d883-4bec-b302-9df251ba7dd4",
   "metadata": {
    "tags": []
   },
   "outputs": [],
   "source": [
    "# 使用ChatPromptTemplate创建提示模板\n",
    "prompt = ChatPromptTemplate.from_messages([\n",
    "    (\"system\", \"Extract the relevant information, if not explicitly provided do not guess. Extract partial info\"),  # 系统提示：提取相关信息，如果没有明确提供则不要猜测。提取部分信息\n",
    "    (\"human\", \"{input}\")  \n",
    "])"
   ]
  },
  {
   "cell_type": "code",
   "execution_count": 120,
   "id": "cface60a-7df5-48cd-ba0e-899adc4c43bd",
   "metadata": {
    "tags": []
   },
   "outputs": [],
   "source": [
    "# 创建提取链，结合提示模板和提取模型\n",
    "extraction_chain = prompt | extraction_model"
   ]
  },
  {
   "cell_type": "code",
   "execution_count": 121,
   "id": "3df3c3e1-00cd-4c98-92ed-4449748a47c2",
   "metadata": {
    "tags": []
   },
   "outputs": [
    {
     "data": {
      "text/plain": [
       "AIMessage(content='', additional_kwargs={'function_call': {'name': 'Information', 'arguments': '{\\n  \"people\": [\\n    {\\n      \"name\": \"Joe\",\\n      \"age\": 30\\n    },\\n    {\\n      \"name\": \"Martha\"\\n    }\\n  ]\\n}'}}, example=False)"
      ]
     },
     "execution_count": 121,
     "metadata": {},
     "output_type": "execute_result"
    }
   ],
   "source": [
    "# 调用提取链并传入输入文本\n",
    "extraction_chain.invoke({\"input\": \"Joe is 30, his mom is Martha\"})"
   ]
  },
  {
   "cell_type": "code",
   "execution_count": 122,
   "id": "4abd6e28-484f-4cc9-b819-b1e1c8ef1da5",
   "metadata": {
    "tags": []
   },
   "outputs": [],
   "source": [
    "# 创建新的提取链，加入JsonOutputFunctionsParser来解析输出\n",
    "extraction_chain = prompt | extraction_model | JsonOutputFunctionsParser()"
   ]
  },
  {
   "cell_type": "code",
   "execution_count": 123,
   "id": "7349db35-8e43-4ce4-bfcb-80901033872a",
   "metadata": {
    "tags": []
   },
   "outputs": [
    {
     "data": {
      "text/plain": [
       "{'people': [{'name': 'Joe', 'age': 30}, {'name': 'Martha'}]}"
      ]
     },
     "execution_count": 123,
     "metadata": {},
     "output_type": "execute_result"
    }
   ],
   "source": [
    "# 再次调用提取链\n",
    "extraction_chain.invoke({\"input\": \"Joe is 30, his mom is Martha\"})"
   ]
  },
  {
   "cell_type": "markdown",
   "id": "f7ce50f8-a5c9-4016-b91b-e2014fd4707a",
   "metadata": {},
   "source": [
    "## 3.3 结构化解析Extraction结果"
   ]
  },
  {
   "cell_type": "code",
   "execution_count": 124,
   "id": "477ee923-96ac-4045-853f-ba92b867d14e",
   "metadata": {
    "tags": []
   },
   "outputs": [],
   "source": [
    "# 导入模块\n",
    "from langchain.output_parsers.openai_functions import JsonKeyOutputFunctionsParser "
   ]
  },
  {
   "cell_type": "code",
   "execution_count": 125,
   "id": "8ec4bebd-b5a5-422b-97af-3b7a70e7bbe4",
   "metadata": {
    "tags": []
   },
   "outputs": [],
   "source": [
    "# 创建提取链，指定关键字\"name\"来解析输出\n",
    "extraction_chain = prompt | extraction_model | JsonKeyOutputFunctionsParser(key_name=\"people\")"
   ]
  },
  {
   "cell_type": "code",
   "execution_count": 126,
   "id": "d83b810d-6ead-4e65-9cda-712076220884",
   "metadata": {
    "tags": []
   },
   "outputs": [
    {
     "data": {
      "text/plain": [
       "[{'name': 'Joe', 'age': 30}, {'name': 'Martha'}]"
      ]
     },
     "execution_count": 126,
     "metadata": {},
     "output_type": "execute_result"
    }
   ],
   "source": [
    "# 调用提取链并传入输入文本\n",
    "extraction_chain.invoke({\"input\": \"Joe is 30, his mom is Martha\"})"
   ]
  },
  {
   "cell_type": "markdown",
   "id": "709a4a40-8c85-4ae5-9a17-327f9aabcf79",
   "metadata": {},
   "source": [
    "# 四、应用案例"
   ]
  },
  {
   "cell_type": "markdown",
   "id": "5b400b46-14c5-4447-9b27-58e1d21d1e7d",
   "metadata": {
    "tags": []
   },
   "source": [
    "我们可以对更大的文本主体应用标记。例如，加载博客文章并从文本的子集中提取标记信息。"
   ]
  },
  {
   "cell_type": "markdown",
   "id": "a33f45b1-e393-42e6-8d46-48c7531f74d5",
   "metadata": {},
   "source": [
    "## 4.1 加载数据"
   ]
  },
  {
   "cell_type": "code",
   "execution_count": 127,
   "id": "1d19c7e1-beef-4fb1-82cf-1f44f080811f",
   "metadata": {
    "tags": []
   },
   "outputs": [],
   "source": [
    "# 使用WebBaseLoader加载文档\n",
    "from langchain.document_loaders import WebBaseLoader  \n",
    "loader = WebBaseLoader(\"https://lilianweng.github.io/posts/2023-06-23-agent/\") \n",
    "documents = loader.load() "
   ]
  },
  {
   "cell_type": "code",
   "execution_count": 128,
   "id": "8619c412-9656-408e-b25d-0ac9fbee4918",
   "metadata": {
    "tags": []
   },
   "outputs": [],
   "source": [
    "# 获取第一个文档\n",
    "doc = documents[0]  "
   ]
  },
  {
   "cell_type": "code",
   "execution_count": 129,
   "id": "4431a99f-6504-4b49-baf2-6ede0d237e68",
   "metadata": {
    "tags": []
   },
   "outputs": [],
   "source": [
    "# 获取页面内容的前10000个字符\n",
    "page_content = doc.page_content[:10000]  "
   ]
  },
  {
   "cell_type": "markdown",
   "id": "b71a3eba-9a31-4b68-9bcd-c9e935ab72fb",
   "metadata": {},
   "source": [
    "## 4.2 提取文章概览"
   ]
  },
  {
   "cell_type": "code",
   "execution_count": 130,
   "id": "71b731cc-e14b-48b0-9d4f-c44cfeeb16f8",
   "metadata": {
    "tags": []
   },
   "outputs": [],
   "source": [
    "# 从pydantic导入BaseModel和Field用于创建数据模型\n",
    "from pydantic import BaseModel, Field  "
   ]
  },
  {
   "cell_type": "code",
   "execution_count": 131,
   "id": "69db8f19-478c-48b0-a585-0e65342a6579",
   "metadata": {
    "tags": []
   },
   "outputs": [],
   "source": [
    "# 创建Overview类别\n",
    "class Overview(BaseModel):\n",
    "    \"\"\"Overview of a section of text.\"\"\"\n",
    "    summary: str = Field(description=\"Provide a concise summary of the content.\")  # 内容摘要\n",
    "    language: str = Field(description=\"Provide the language that the content is written in.\")  # 内容语言\n",
    "    keywords: str = Field(description=\"Provide keywords related to the content.\")  # 关键词"
   ]
  },
  {
   "cell_type": "code",
   "execution_count": 132,
   "id": "6cb2410c-1745-4849-abc5-5bad827a939c",
   "metadata": {
    "tags": []
   },
   "outputs": [],
   "source": [
    "# 将Overview数据模型转换为OpenAI函数\n",
    "overview_tagging_function = [\n",
    "    convert_pydantic_to_openai_function(Overview)\n",
    "]\n",
    "tagging_model = model.bind(\n",
    "    functions=overview_tagging_function,\n",
    "    function_call={\"name\":\"Overview\"}  # 绑定函数调用\n",
    ")\n",
    "tagging_chain = prompt | tagging_model | JsonOutputFunctionsParser()  # 创建标注链并加入解析器"
   ]
  },
  {
   "cell_type": "code",
   "execution_count": 133,
   "id": "f924cf88-1d96-4768-abe3-43883fdd8d5f",
   "metadata": {
    "tags": []
   },
   "outputs": [
    {
     "data": {
      "text/plain": [
       "{'summary': 'This article discusses the concept of building autonomous agents powered by LLM (large language model) as their core controller. It explores the key components of such agent systems, including planning, memory, and tool use. It also covers various techniques for task decomposition and self-reflection in autonomous agents. The article provides examples of case studies and challenges in implementing LLM-powered autonomous agents.',\n",
       " 'language': 'English',\n",
       " 'keywords': 'LLM, autonomous agents, planning, memory, tool use, task decomposition, self-reflection, case studies, challenges'}"
      ]
     },
     "execution_count": 133,
     "metadata": {},
     "output_type": "execute_result"
    }
   ],
   "source": [
    "# 调用标注链\n",
    "tagging_chain.invoke({\"input\": page_content})"
   ]
  },
  {
   "cell_type": "markdown",
   "id": "d3c19007-dd0d-458e-a5db-e95ffa011b94",
   "metadata": {},
   "source": [
    "## 4.3 提取文章信息"
   ]
  },
  {
   "cell_type": "code",
   "execution_count": 134,
   "id": "6ccbb10f-13e0-43fb-a2bf-23b1ec0e925c",
   "metadata": {
    "tags": []
   },
   "outputs": [],
   "source": [
    "# 创建Paper类，用于标题和作者\n",
    "class Paper(BaseModel):\n",
    "    \"\"\"Information about papers mentioned.\"\"\"\n",
    "    title: str  # 论文标题\n",
    "    author: Optional[str]  # 作者，可选字段\n",
    "\n",
    "# 创建Info，用户提取论文论文信息列表\n",
    "class Info(BaseModel):\n",
    "    \"\"\"Information to extract\"\"\"\n",
    "    papers: List[Paper] "
   ]
  },
  {
   "cell_type": "code",
   "execution_count": 135,
   "id": "4950cb4c-c646-49fb-b967-3f6f55e65452",
   "metadata": {
    "tags": []
   },
   "outputs": [],
   "source": [
    "# 将Info数据模型转换为OpenAI函数\n",
    "paper_extraction_function = [\n",
    "    convert_pydantic_to_openai_function(Info)\n",
    "]\n",
    "extraction_model = model.bind(\n",
    "    functions=paper_extraction_function, \n",
    "    function_call={\"name\":\"Info\"}  # 绑定函数调用\n",
    ")"
   ]
  },
  {
   "cell_type": "code",
   "execution_count": 136,
   "id": "df7631d9-9d80-4be1-b5b7-18a3c6bf3466",
   "metadata": {
    "tags": []
   },
   "outputs": [],
   "source": [
    "# 创建提取链并加入解析器\n",
    "extraction_chain = prompt | extraction_model | JsonKeyOutputFunctionsParser(key_name=\"papers\") "
   ]
  },
  {
   "cell_type": "code",
   "execution_count": 137,
   "id": "abe10a14-5e36-4cda-8501-517b3960b19a",
   "metadata": {
    "tags": []
   },
   "outputs": [
    {
     "data": {
      "text/plain": [
       "[{'title': 'LLM Powered Autonomous Agents', 'author': 'Lilian Weng'}]"
      ]
     },
     "execution_count": 137,
     "metadata": {},
     "output_type": "execute_result"
    }
   ],
   "source": [
    "# 调用提取链，发现提取了论文本身的名称。因此接下里可以结合prompt改进\n",
    "extraction_chain.invoke({\"input\": page_content})  "
   ]
  },
  {
   "cell_type": "code",
   "execution_count": 138,
   "id": "5b88ae3f-ab4c-48ed-975b-d1f8f8e96495",
   "metadata": {
    "tags": []
   },
   "outputs": [],
   "source": [
    "template = \"\"\"\n",
    "A article will be passed to you. Extract from it all papers that are mentioned by this article. \n",
    "Do not extract the name of the article itself. If no papers are mentioned that's fine - you don't need to extract any! Just return an empty list.\n",
    "Do not make up or guess ANY extra information. Only extract what exactly is in the text.\n",
    "\"\"\"\n",
    "\n",
    "template_chinese = \"\"\"\n",
    "一篇文章将转交给你。把这篇文章中提到的所有论文都摘录出来。\n",
    "不要提取文章本身的名称。如果没有提到论文，那很好——你不需要提取任何论文!只返回一个空列表。\n",
    "不要编造或猜测任何额外的信息。只提取文本中的内容。\n",
    "\"\"\""
   ]
  },
  {
   "cell_type": "code",
   "execution_count": 139,
   "id": "92d44ce2-c53d-4b7c-b127-546a22b82796",
   "metadata": {
    "tags": []
   },
   "outputs": [],
   "source": [
    "# 使用定制化提示模板创建聊天提示\n",
    "prompt = ChatPromptTemplate.from_messages([\n",
    "    (\"system\", template),\n",
    "    (\"human\", \"{input}\")\n",
    "])"
   ]
  },
  {
   "cell_type": "code",
   "execution_count": 140,
   "id": "8ed458ec-d3aa-46e4-99f0-e23ad6635551",
   "metadata": {
    "tags": []
   },
   "outputs": [],
   "source": [
    "# 重新创建提取链\n",
    "extraction_chain = prompt | extraction_model | JsonKeyOutputFunctionsParser(key_name=\"papers\")  "
   ]
  },
  {
   "cell_type": "code",
   "execution_count": 141,
   "id": "1d79e06a-8e79-45c4-a58a-a07fb0cedb09",
   "metadata": {
    "tags": []
   },
   "outputs": [
    {
     "data": {
      "text/plain": [
       "[{'title': 'Chain of thought (CoT; Wei et al. 2022)', 'author': 'Wei et al.'},\n",
       " {'title': 'Tree of Thoughts (Yao et al. 2023)', 'author': 'Yao et al.'},\n",
       " {'title': 'LLM+P (Liu et al. 2023)', 'author': 'Liu et al.'},\n",
       " {'title': 'ReAct (Yao et al. 2023)', 'author': 'Yao et al.'},\n",
       " {'title': 'Reflexion (Shinn & Labash 2023)', 'author': 'Shinn & Labash'},\n",
       " {'title': 'Chain of Hindsight (CoH; Liu et al. 2023)',\n",
       "  'author': 'Liu et al.'},\n",
       " {'title': 'Algorithm Distillation (AD; Laskin et al. 2023)',\n",
       "  'author': 'Laskin et al.'}]"
      ]
     },
     "execution_count": 141,
     "metadata": {},
     "output_type": "execute_result"
    }
   ],
   "source": [
    "# 再次调用提取链\n",
    "extraction_chain.invoke({\"input\": page_content})  "
   ]
  },
  {
   "cell_type": "code",
   "execution_count": 142,
   "id": "30c3e3a9-b3d6-46f7-9611-888cec851cbd",
   "metadata": {
    "tags": []
   },
   "outputs": [
    {
     "data": {
      "text/plain": [
       "[]"
      ]
     },
     "execution_count": 142,
     "metadata": {},
     "output_type": "execute_result"
    }
   ],
   "source": [
    "# 使用不相关输入调用提取链，不会返回有效信息\n",
    "extraction_chain.invoke({\"input\": \"hi\"})  "
   ]
  },
  {
   "cell_type": "markdown",
   "id": "f9c9a39e-5b3b-44c2-af3d-2f606bb2e033",
   "metadata": {},
   "source": [
    "## 4.4 分块文本提取"
   ]
  },
  {
   "cell_type": "code",
   "execution_count": 143,
   "id": "43a295d3-fb11-4d02-bb0d-4c2ec7cbd0e6",
   "metadata": {
    "tags": []
   },
   "outputs": [],
   "source": [
    "# 导入模块\n",
    "from langchain.text_splitter import RecursiveCharacterTextSplitter \n",
    "\n",
    "# 实例化文本分割器\n",
    "text_splitter = RecursiveCharacterTextSplitter(chunk_overlap=0)  "
   ]
  },
  {
   "cell_type": "code",
   "execution_count": 144,
   "id": "dd20348f-0b3b-4fe6-ae2e-06cb2d0e9c88",
   "metadata": {
    "tags": []
   },
   "outputs": [
    {
     "data": {
      "text/plain": [
       "14"
      ]
     },
     "execution_count": 144,
     "metadata": {},
     "output_type": "execute_result"
    }
   ],
   "source": [
    "# 分割文档内容，text_splitter可以将长文本切分成多个短文本\n",
    "splits = text_splitter.split_text(doc.page_content)  \n",
    "\n",
    "# 获取分割后的段落数量\n",
    "len(splits)  "
   ]
  },
  {
   "cell_type": "code",
   "execution_count": 145,
   "id": "39c31923-8489-45a6-9d53-d3f721ef0524",
   "metadata": {
    "tags": []
   },
   "outputs": [],
   "source": [
    "# 定义函数用于扁平化列表\n",
    "def flatten(matrix):\n",
    "    flat_list = []\n",
    "    for row in matrix:\n",
    "        flat_list += row\n",
    "    return flat_list  "
   ]
  },
  {
   "cell_type": "code",
   "execution_count": 146,
   "id": "3a56839b-df12-4e05-9c26-e21173a726e7",
   "metadata": {
    "tags": []
   },
   "outputs": [
    {
     "data": {
      "text/plain": [
       "[1, 2, 3, 4]"
      ]
     },
     "execution_count": 146,
     "metadata": {},
     "output_type": "execute_result"
    }
   ],
   "source": [
    "# 示例调用扁平化函数\n",
    "flatten([[1, 2], [3, 4]])  "
   ]
  },
  {
   "cell_type": "code",
   "execution_count": 147,
   "id": "81798ff6-33af-4064-87b0-742bf7d82113",
   "metadata": {
    "tags": []
   },
   "outputs": [
    {
     "name": "stdout",
     "output_type": "stream",
     "text": [
      "LLM Powered Autonomous Agents | Lil'Log\n",
      "\n",
      "\n",
      "\n",
      "\n",
      "\n",
      "\n",
      "\n",
      "\n",
      "\n",
      "\n",
      "\n",
      "\n",
      "\n",
      "\n",
      "\n",
      "\n",
      "\n",
      "\n",
      "\n",
      "\n",
      "\n",
      "\n",
      "\n",
      "\n",
      "\n",
      "\n",
      "\n",
      "\n",
      "\n",
      "\n",
      "\n",
      "\n",
      "\n",
      "\n",
      "\n",
      "\n",
      "\n",
      "\n",
      "\n",
      "Lil'Log\n",
      "\n",
      "\n",
      "\n",
      "\n",
      "\n",
      "\n",
      "\n",
      "\n",
      "\n",
      "\n",
      "\n",
      "\n",
      "\n",
      "\n",
      "\n",
      "\n",
      "\n",
      "\n",
      "\n",
      "\n",
      "\n",
      "\n",
      "Posts\n",
      "\n",
      "\n",
      "\n",
      "\n",
      "Archive\n",
      "\n",
      "\n",
      "\n",
      "\n",
      "Search\n",
      "\n",
      "\n",
      "\n",
      "\n",
      "Tags\n",
      "\n",
      "\n",
      "\n",
      "\n",
      "FAQ\n",
      "\n",
      "\n",
      "\n",
      "\n",
      "emojisearch.app\n",
      "\n",
      "\n",
      "\n",
      "\n",
      "\n",
      "\n",
      "\n",
      "\n",
      "\n",
      "      LLM Powered Autonomous Agents\n",
      "    \n",
      "Date: June 23, 2023  |  Estimated Reading Time: 31 min  |  Author: Lilian Weng\n",
      "\n",
      "\n",
      " \n",
      "\n",
      "\n",
      "Table of Contents\n",
      "\n",
      "\n",
      "\n",
      "Agent System Overview\n",
      "\n",
      "Component One: Planning\n",
      "\n",
      "Task Decomposition\n",
      "\n",
      "Self-Reflection\n",
      "\n",
      "\n",
      "Component Two: Memory\n",
      "\n",
      "Types of Memory\n",
      "\n",
      "Maximum Inner Product Search (MIPS)\n",
      "\n",
      "\n",
      "Component Three: Tool Use\n",
      "\n",
      "Case Studies\n",
      "\n",
      "Scientific Discovery Agent\n",
      "\n",
      "Generative Agents Simulation\n",
      "\n",
      "Proof-of-Concept Examples\n",
      "\n",
      "\n",
      "Challenges\n",
      "\n",
      "Citation\n",
      "\n",
      "References\n",
      "\n",
      "\n",
      "\n",
      "\n",
      "\n",
      "Building agents with LLM (large language model) as its core controller is a cool concept. Several proof-of-concepts demos, such as AutoGPT, GPT-Engineer and BabyAGI, serve as inspiring examples. The potentiality of LLM extends beyond generating well-written copies, stories, essays and programs; it can be framed as a powerful general problem solver.\n",
      "Agent System Overview#\n",
      "In a LLM-powered autonomous agent system, LLM functions as the agent’s brain, complemented by several key components:\n",
      "\n",
      "Planning\n",
      "\n",
      "Subgoal and decomposition: The agent breaks down large tasks into smaller, manageable subgoals, enabling efficient handling of complex tasks.\n",
      "Reflection and refinement: The agent can do self-criticism and self-reflection over past actions, learn from mistakes and refine them for future steps, thereby improving the quality of final results.\n",
      "\n",
      "\n",
      "Memory\n",
      "\n",
      "Short-term memory: I would consider all the in-context learning (See Prompt Engineering) as utilizing short-term memory of the model to learn.\n",
      "Long-term memory: This provides the agent with the capability to retain and recall (infinite) information over extended periods, often by leveraging an external vector store and fast retrieval.\n",
      "\n",
      "\n",
      "Tool use\n",
      "\n",
      "The agent learns to call external APIs for extra information that is missing from the model weights (often hard to change after pre-training), including current information, code execution capability, access to proprietary information sources and more.\n"
     ]
    }
   ],
   "source": [
    "# 打印第一个分割的文本块\n",
    "print(splits[0])  "
   ]
  },
  {
   "cell_type": "code",
   "execution_count": 148,
   "id": "54730f43-37e0-4cdf-ae1c-c42481c26906",
   "metadata": {
    "tags": []
   },
   "outputs": [],
   "source": [
    "# 导入模块\n",
    "from langchain.schema.runnable import RunnableLambda  "
   ]
  },
  {
   "cell_type": "code",
   "execution_count": 149,
   "id": "1dd31032-787e-437c-b69d-bfef0bb1c40f",
   "metadata": {
    "tags": []
   },
   "outputs": [],
   "source": [
    "# 创建Lambda函数用于预处理文本\n",
    "prep = RunnableLambda(\n",
    "    lambda x: [{\"input\": doc} for doc in text_splitter.split_text(x)]  \n",
    ")"
   ]
  },
  {
   "cell_type": "code",
   "execution_count": 150,
   "id": "17694d47-a3b2-4814-822a-d2fbebd5a230",
   "metadata": {
    "tags": []
   },
   "outputs": [
    {
     "name": "stdout",
     "output_type": "stream",
     "text": [
      "[{'input': 'hi'}]\n",
      "1\n",
      "14\n"
     ]
    }
   ],
   "source": [
    "# 测试prep\n",
    "print(prep.invoke(\"hi\"))\n",
    "print(len(prep.invoke(\"hi\")))\n",
    "\n",
    "# 将长文本放入，会切分成多个短文本\n",
    "print(len(prep.invoke(doc.page_content)))"
   ]
  },
  {
   "cell_type": "code",
   "execution_count": 151,
   "id": "e8148b87-df91-4857-a4a2-30ed4ae52305",
   "metadata": {
    "tags": []
   },
   "outputs": [],
   "source": [
    "# 创建链式调用，包括预处理、映射提取\n",
    "# 多个短文本分别使用extraction_chain进行提取，将结果的list通过flatten函数扁平化到一起\n",
    "chain = prep | extraction_chain.map() | flatten  "
   ]
  },
  {
   "cell_type": "code",
   "execution_count": 152,
   "id": "a67415cc-9567-4089-98a0-a298888087a8",
   "metadata": {
    "tags": []
   },
   "outputs": [
    {
     "data": {
      "text/plain": [
       "[{'title': 'AutoGPT', 'author': ''},\n",
       " {'title': 'GPT-Engineer', 'author': ''},\n",
       " {'title': 'BabyAGI', 'author': ''},\n",
       " {'title': 'Chain of thought (CoT; Wei et al. 2022)', 'author': 'Wei et al.'},\n",
       " {'title': 'Tree of Thoughts (Yao et al. 2023)', 'author': 'Yao et al.'},\n",
       " {'title': 'LLM+P (Liu et al. 2023)', 'author': 'Liu et al.'},\n",
       " {'title': 'ReAct (Yao et al. 2023)', 'author': 'Yao et al.'},\n",
       " {'title': 'Reflexion (Shinn & Labash 2023)', 'author': 'Shinn & Labash'},\n",
       " {'title': 'Reflexion: A Framework for Self-Reflection in Reinforcement Learning',\n",
       "  'author': 'Shinn & Labash'},\n",
       " {'title': 'Chain of Hindsight: Improving Model Outputs with Sequential Feedback',\n",
       "  'author': 'Liu et al.'},\n",
       " {'title': 'Algorithm Distillation: Learning from Cross-Episode Trajectories',\n",
       "  'author': 'Laskin et al.'},\n",
       " {'title': 'Algorithm Distillation', 'author': 'Laskin et al. 2023'},\n",
       " {'title': 'ED (expert distillation)', 'author': ''},\n",
       " {'title': 'RL^2', 'author': 'Duan et al. 2017'},\n",
       " {'title': 'LSH: Locality-Sensitive Hashing', 'author': ''},\n",
       " {'title': 'ANNOY: Approximate Nearest Neighbors Oh Yeah', 'author': ''},\n",
       " {'title': 'HNSW: Hierarchical Navigable Small World', 'author': ''},\n",
       " {'title': 'FAISS: Facebook AI Similarity Search', 'author': ''},\n",
       " {'title': 'ScaNN: Scalable Nearest Neighbors', 'author': ''},\n",
       " {'title': 'MRKL: Modular Reasoning, Knowledge and Language',\n",
       "  'author': 'Karpas et al. 2022'},\n",
       " {'title': 'TALM: Tool Augmented Language Models',\n",
       "  'author': 'Parisi et al. 2022'},\n",
       " {'title': 'Toolformer', 'author': 'Schick et al. 2023'},\n",
       " {'title': 'HuggingGPT', 'author': 'Shen et al. 2023'},\n",
       " {'title': 'API-Bank: A Benchmark for Evaluating Tool-Augmented Language Models',\n",
       "  'author': 'Li et al. 2023'},\n",
       " {'title': 'ChemCrow: Augmenting Language Models with Expert-Designed Tools for Scientific Discovery',\n",
       "  'author': 'Bran et al. 2023'},\n",
       " {'title': 'Boiko et al. (2023)', 'author': 'Boiko et al.'},\n",
       " {'title': 'Generative Agents Simulation', 'author': 'Park, et al. 2023'},\n",
       " {'title': 'Park et al. 2023', 'author': 'Park'},\n",
       " {'title': 'Super Mario: How Nintendo Conquered America',\n",
       "  'author': 'Jeff Ryan'},\n",
       " {'title': 'Model-View-Controller (MVC) Explained', 'author': 'Techopedia'},\n",
       " {'title': 'Python Game Development: Creating a Snake Game',\n",
       "  'author': 'Real Python'},\n",
       " {'title': 'A Study on Machine Learning Algorithms', 'author': 'John Smith'},\n",
       " {'title': 'Deep Learning Techniques for Image Recognition',\n",
       "  'author': 'Jane Doe'},\n",
       " {'title': 'Natural Language Processing: A Comprehensive Review',\n",
       "  'author': 'David Johnson'},\n",
       " {'title': 'Chain of thought prompting elicits reasoning in large language models.',\n",
       "  'author': 'Wei et al.'},\n",
       " {'title': 'Tree of Thoughts: Deliberate Problem Solving with Large Language Models.',\n",
       "  'author': 'Yao et al.'},\n",
       " {'title': 'Chain of Hindsight Aligns Language Models with Feedback',\n",
       "  'author': 'Liu et al.'},\n",
       " {'title': 'LLM+P: Empowering Large Language Models with Optimal Planning Proficiency',\n",
       "  'author': 'Liu et al.'},\n",
       " {'title': 'ReAct: Synergizing reasoning and acting in language models.',\n",
       "  'author': 'Yao et al.'},\n",
       " {'title': 'Reflexion: an autonomous agent with dynamic memory and self-reflection',\n",
       "  'author': 'Shinn & Labash'},\n",
       " {'title': 'In-context Reinforcement Learning with Algorithm Distillation',\n",
       "  'author': 'Laskin et al.'},\n",
       " {'title': 'MRKL Systems A modular, neuro-symbolic architecture that combines large language models, external knowledge sources and discrete reasoning.',\n",
       "  'author': 'Karpas et al.'},\n",
       " {'title': 'API-Bank: A Benchmark for Tool-Augmented LLMs',\n",
       "  'author': 'Li et al.'},\n",
       " {'title': 'HuggingGPT: Solving AI Tasks with ChatGPT and its Friends in HuggingFace',\n",
       "  'author': 'Shen et al.'},\n",
       " {'title': 'ChemCrow: Augmenting large-language models with chemistry tools.',\n",
       "  'author': 'Bran et al.'},\n",
       " {'title': 'Emergent autonomous scientific research capabilities of large language models.',\n",
       "  'author': 'Boiko et al.'},\n",
       " {'title': 'Generative Agents: Interactive Simulacra of Human Behavior.',\n",
       "  'author': 'Joon Sung Park, et al.'}]"
      ]
     },
     "execution_count": 152,
     "metadata": {},
     "output_type": "execute_result"
    }
   ],
   "source": [
    "chain.invoke(doc.page_content)"
   ]
  }
 ],
 "metadata": {
  "kernelspec": {
   "display_name": "Python 3 (ipykernel)",
   "language": "python",
   "name": "python3"
  },
  "language_info": {
   "codemirror_mode": {
    "name": "ipython",
    "version": 3
   },
   "file_extension": ".py",
   "mimetype": "text/x-python",
   "name": "python",
   "nbconvert_exporter": "python",
   "pygments_lexer": "ipython3",
   "version": "3.11.4"
  }
 },
 "nbformat": 4,
 "nbformat_minor": 5
}
