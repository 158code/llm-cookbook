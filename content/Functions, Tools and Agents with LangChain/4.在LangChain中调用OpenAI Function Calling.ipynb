{
 "cells": [
  {
   "cell_type": "markdown",
   "id": "46f5f5b2-f7f9-415f-8049-3e2f66d38195",
   "metadata": {
    "tags": []
   },
   "source": [
    "# OpenAI Function Calling In LangChain\n",
    "\n",
    " - [一、设置OpenAI API Key](#一、设置OpenAI-API-Key)\n",
    " - [二、Pydantic语法](#二、Pydantic语法)\n",
    "     - [2.1 简单创建Python类](#2.1-简单创建Python类)\n",
    "     - [2.2 使用Pydantic创建类](#2.2-使用Pydantic创建类)\n",
    " - [三、 基于Pydantic的OpenAI函数定义](#三、基于Pydantic的OpenAI函数定义)\n",
    "     - [3.1 构造OpenAI的function](#3.1-构造OpenAI的function)\n",
    "     - [3.2 通过langchain使用function](#3.2-通过langchain使用function)\n",
    "     - [3.3 强制使用function](#3.3-强制使用function)\n",
    " - [四、使用function](#四、使用function)\n",
    "     - [4.1 链式使用](#3.1-链式使用)\n",
    "     - [4.2 使用多个function](#4.2-使用多个function)"
   ]
  },
  {
   "cell_type": "markdown",
   "id": "46437cbe-9c6b-443e-baa8-42032079df6a",
   "metadata": {
    "tags": []
   },
   "source": [
    "# 一、设置OpenAI-API-Key\n",
    "\n",
    "登陆 [OpenAI 账户](https://platform.openai.com/account/api-keys) 获取API Key，然后将其设置为环境变量。\n",
    "\n",
    "- 如果你想要设置为全局环境变量，可以参考[知乎文章](https://zhuanlan.zhihu.com/p/627665725)。\n",
    "- 如果你想要设置为本地/项目环境变量，在本文件目录下创建`.env`文件, 打开文件输入以下内容。\n",
    "\n",
    "    <p style=\"font-family:verdana; font-size:12px;color:green\">\n",
    "    OPENAI_API_KEY=\"your_api_key\" \n",
    "    </p>\n",
    "  \n",
    "  替换\"your_api_key\"为你自己的 API Key"
   ]
  },
  {
   "cell_type": "code",
   "execution_count": null,
   "id": "4d8b5609-e034-40f1-981a-071b55f2057d",
   "metadata": {
    "tags": []
   },
   "outputs": [],
   "source": [
    "# 下载需要的包python-dotenv和openai\n",
    "# 如果你需要查看安装过程日志，可删除 -q\n",
    "!pip install -q python-dotenv\n",
    "!pip install -q openai"
   ]
  },
  {
   "cell_type": "code",
   "execution_count": 1,
   "id": "1f16031d-5c4e-41b5-b493-4ab83aafdb14",
   "metadata": {
    "tags": []
   },
   "outputs": [],
   "source": [
    "import os\n",
    "import openai\n",
    "from dotenv import load_dotenv, find_dotenv"
   ]
  },
  {
   "cell_type": "code",
   "execution_count": 2,
   "id": "b145ffb8-e0c4-4b3d-b92f-beb3758239b8",
   "metadata": {},
   "outputs": [],
   "source": [
    "\"\"\"\n",
    "1.find_dotenv()寻找并定位.env文件的路径\n",
    "2.load_dotenv()读取该.env文件，并将其中的环境变量加载到当前的运行环境中\n",
    "3.如果你设置的是全局的环境变量，这行代码则没有任何作用\n",
    "\"\"\"\n",
    "_ = load_dotenv(find_dotenv()) \n",
    "openai.api_key = os.environ['OPENAI_API_KEY']"
   ]
  },
  {
   "cell_type": "markdown",
   "id": "b97e8cde-b1f6-4909-b950-208c1da86820",
   "metadata": {},
   "source": [
    "# 二、Pydantic语法"
   ]
  },
  {
   "cell_type": "markdown",
   "id": "dce1b343-5534-4f4f-b178-8be45ea00069",
   "metadata": {
    "tags": []
   },
   "source": [
    "Pydantic是python的“数据验证库”。\n",
    "- 与python类型注释一起工作。但是，与静态类型检查不同，它们在运行时被积极地用于数据验证和转换。\n",
    "- 提供内置方法来序列化/反序列化模型到JSON，字典等。\n",
    "- LangChain利用Pydantic创建JsONScheme描述函数。"
   ]
  },
  {
   "cell_type": "markdown",
   "id": "b4f2e07e-3aed-47a8-935e-8caae3286d8e",
   "metadata": {},
   "source": [
    "在标准python中，你可以这样创建一个类:"
   ]
  },
  {
   "cell_type": "markdown",
   "id": "8c6d4cc6-dbf0-479a-bede-72a46fb52e46",
   "metadata": {},
   "source": [
    "## 2.1 简单创建Python类"
   ]
  },
  {
   "cell_type": "code",
   "execution_count": 3,
   "id": "457e6f34-ec3e-4236-adda-c7e80a047e9a",
   "metadata": {
    "tags": []
   },
   "outputs": [],
   "source": [
    "from typing import List\n",
    "from pydantic import BaseModel, Field"
   ]
  },
  {
   "cell_type": "code",
   "execution_count": 4,
   "id": "d2d1bf90-c938-4857-8f1d-414c3de6ce94",
   "metadata": {
    "tags": []
   },
   "outputs": [],
   "source": [
    "# 创建User类\n",
    "class User:\n",
    "    def __init__(self, name: str, age: int, email: str):\n",
    "        self.name = name\n",
    "        self.age = age\n",
    "        self.email = email"
   ]
  },
  {
   "cell_type": "code",
   "execution_count": 5,
   "id": "5a80c89b-b3da-48e2-83fe-5255c716cb2a",
   "metadata": {
    "tags": []
   },
   "outputs": [
    {
     "data": {
      "text/plain": [
       "'Joe'"
      ]
     },
     "execution_count": 5,
     "metadata": {},
     "output_type": "execute_result"
    }
   ],
   "source": [
    "# 生成user对象\n",
    "foo = User(name=\"Joe\",age=32, email=\"joe@gmail.com\")\n",
    "\n",
    "# 输出foo中 name字段\n",
    "foo.name"
   ]
  },
  {
   "cell_type": "code",
   "execution_count": 6,
   "id": "6bffa9fa-a496-4de3-ba6f-34bfcf731dd1",
   "metadata": {
    "tags": []
   },
   "outputs": [
    {
     "data": {
      "text/plain": [
       "'bar'"
      ]
     },
     "execution_count": 6,
     "metadata": {},
     "output_type": "execute_result"
    }
   ],
   "source": [
    "# 生成user对象\n",
    "foo = User(name=\"Joe\",age=\"bar\", email=\"joe@gmail.com\")\n",
    "\n",
    "# 输出foo中 name字段\n",
    "# name字段填写的是字符串类型，但能够创建成功并输出\n",
    "foo.age"
   ]
  },
  {
   "cell_type": "markdown",
   "id": "79777007-ae37-459c-bd29-b14df842051c",
   "metadata": {},
   "source": [
    "## 2.2 使用Pydantic创建类"
   ]
  },
  {
   "cell_type": "code",
   "execution_count": 7,
   "id": "8c8bac25-ed17-4ec2-a252-509085baf722",
   "metadata": {
    "tags": []
   },
   "outputs": [],
   "source": [
    "# 使用 Pydantic创建pUser类别，说明age使用int类型\n",
    "class pUser(BaseModel):\n",
    "    name: str\n",
    "    age: int\n",
    "    email: str"
   ]
  },
  {
   "cell_type": "code",
   "execution_count": 8,
   "id": "d5164b90-c0a9-47b3-ba02-2c4f07f4898b",
   "metadata": {
    "tags": []
   },
   "outputs": [
    {
     "data": {
      "text/plain": [
       "'Jane'"
      ]
     },
     "execution_count": 8,
     "metadata": {},
     "output_type": "execute_result"
    }
   ],
   "source": [
    "# 生成user对象\n",
    "foo_p = pUser(name=\"Jane\", age=32, email=\"jane@gmail.com\")\n",
    "\n",
    "# 输出foo中 name字段\n",
    "foo_p.name"
   ]
  },
  {
   "cell_type": "code",
   "execution_count": 9,
   "id": "f0a29f63-de39-4789-8cec-43ef7dfd76c1",
   "metadata": {
    "tags": []
   },
   "outputs": [
    {
     "name": "stdout",
     "output_type": "stream",
     "text": [
      "1 validation error for pUser\n",
      "age\n",
      "  value is not a valid integer (type=type_error.integer)\n"
     ]
    }
   ],
   "source": [
    "# 使用了pydantic，由于age不是int，因此会报错。输出报错内容\n",
    "try:\n",
    "    foo_p = pUser(name=\"Jane\", age=\"bar\", email=\"jane@gmail.com\")\n",
    "except Exception as e:\n",
    "    print(e)"
   ]
  },
  {
   "cell_type": "code",
   "execution_count": 10,
   "id": "fc1613ac-9948-4aa2-94f8-4ca21e352b09",
   "metadata": {
    "tags": []
   },
   "outputs": [],
   "source": [
    "class Class(BaseModel):\n",
    "    students: List[pUser]"
   ]
  },
  {
   "cell_type": "code",
   "execution_count": 11,
   "id": "2ff26d75-b3b1-43ea-8df8-50a243811987",
   "metadata": {
    "tags": []
   },
   "outputs": [
    {
     "data": {
      "text/plain": [
       "Class(students=[pUser(name='Jane', age=32, email='jane@gmail.com')])"
      ]
     },
     "execution_count": 11,
     "metadata": {},
     "output_type": "execute_result"
    }
   ],
   "source": [
    "obj = Class(\n",
    "    students=[pUser(name=\"Jane\", age=32, email=\"jane@gmail.com\")]\n",
    ")\n",
    "obj"
   ]
  },
  {
   "cell_type": "markdown",
   "id": "1605b860-b342-47be-b977-24453ec3c278",
   "metadata": {},
   "source": [
    "# 三、基于Pydantic的OpenAI函数定义"
   ]
  },
  {
   "cell_type": "markdown",
   "id": "54bf0718-7853-4961-87c8-e9c1c098060c",
   "metadata": {},
   "source": [
    "## 3.1 构造OpenAI的function"
   ]
  },
  {
   "cell_type": "code",
   "execution_count": 12,
   "id": "ac7778ff-25c7-4fd1-b324-230e52a586dc",
   "metadata": {
    "tags": []
   },
   "outputs": [],
   "source": [
    "# 定义WeatherSearch\n",
    "# WeatherSearch的function需要写注释完成函数的description\n",
    "class WeatherSearch(BaseModel):\n",
    "    \"\"\"Call this with an airport code to get the weather at that airport\"\"\"\n",
    "    airport_code: str = Field(description=\"airport code to get weather for\")"
   ]
  },
  {
   "cell_type": "code",
   "execution_count": 13,
   "id": "9c48a582-c96f-4099-9a4f-b12b0fbdf6a3",
   "metadata": {
    "tags": []
   },
   "outputs": [],
   "source": [
    "# 导入langchain\n",
    "from langchain.utils.openai_functions import convert_pydantic_to_openai_function"
   ]
  },
  {
   "cell_type": "code",
   "execution_count": 14,
   "id": "f7223fe6-f957-450a-b060-0585cffb5d58",
   "metadata": {
    "tags": []
   },
   "outputs": [
    {
     "data": {
      "text/plain": [
       "{'name': 'WeatherSearch',\n",
       " 'description': 'Call this with an airport code to get the weather at that airport',\n",
       " 'parameters': {'title': 'WeatherSearch',\n",
       "  'description': 'Call this with an airport code to get the weather at that airport',\n",
       "  'type': 'object',\n",
       "  'properties': {'airport_code': {'title': 'Airport Code',\n",
       "    'description': 'airport code to get weather for',\n",
       "    'type': 'string'}},\n",
       "  'required': ['airport_code']}}"
      ]
     },
     "execution_count": 14,
     "metadata": {},
     "output_type": "execute_result"
    }
   ],
   "source": [
    "# 转化为openai function calling模式\n",
    "weather_function = convert_pydantic_to_openai_function(WeatherSearch)\n",
    "weather_function"
   ]
  },
  {
   "cell_type": "code",
   "execution_count": 15,
   "id": "a76b1e4b-72c8-4969-896b-90a144c030b8",
   "metadata": {
    "tags": []
   },
   "outputs": [],
   "source": [
    "# WeatherSearch1没有写注释，会报错\n",
    "class WeatherSearch1(BaseModel):\n",
    "    airport_code: str = Field(description=\"airport code to get weather for\")\n",
    "  "
   ]
  },
  {
   "cell_type": "code",
   "execution_count": 16,
   "id": "cc0a67b8-54be-4347-ae50-dad9a0709614",
   "metadata": {
    "tags": []
   },
   "outputs": [],
   "source": [
    "# 使用了pydantic，由于age不是int，因此会报错。输出报错内容\n",
    "convert_pydantic_to_openai_function(WeatherSearch1)"
   ]
  },
  {
   "cell_type": "code",
   "execution_count": 18,
   "id": "0b9dd1c6-45cd-4a71-a364-9f6ae2faab77",
   "metadata": {
    "tags": []
   },
   "outputs": [],
   "source": [
    "# 构造WeatherSearch2，不对参数注释\n",
    "class WeatherSearch2(BaseModel):\n",
    "    \"\"\"Call this with an airport code to get the weather at that airport\"\"\"\n",
    "    airport_code: str"
   ]
  },
  {
   "cell_type": "code",
   "execution_count": 19,
   "id": "ad692a60-0a4b-454c-a5a7-4483df37307c",
   "metadata": {
    "tags": []
   },
   "outputs": [
    {
     "data": {
      "text/plain": [
       "{'name': 'WeatherSearch2',\n",
       " 'description': 'Call this with an airport code to get the weather at that airport',\n",
       " 'parameters': {'title': 'WeatherSearch2',\n",
       "  'description': 'Call this with an airport code to get the weather at that airport',\n",
       "  'type': 'object',\n",
       "  'properties': {'airport_code': {'title': 'Airport Code', 'type': 'string'}},\n",
       "  'required': ['airport_code']}}"
      ]
     },
     "execution_count": 19,
     "metadata": {},
     "output_type": "execute_result"
    }
   ],
   "source": [
    "convert_pydantic_to_openai_function(WeatherSearch2)"
   ]
  },
  {
   "cell_type": "markdown",
   "id": "c1408b4a-509e-4dbc-ae48-51b787e5b47f",
   "metadata": {},
   "source": [
    "## 3.2 通过langchain使用function"
   ]
  },
  {
   "cell_type": "code",
   "execution_count": 20,
   "id": "bdd71d74-50f7-47ee-a921-0d694d72a430",
   "metadata": {
    "tags": []
   },
   "outputs": [],
   "source": [
    "# 导入ChatOpenAI\n",
    "from langchain.chat_models import ChatOpenAI"
   ]
  },
  {
   "cell_type": "code",
   "execution_count": 22,
   "id": "174afeb6-8955-424b-97ed-76bd967c3893",
   "metadata": {
    "tags": []
   },
   "outputs": [],
   "source": [
    "model = ChatOpenAI()"
   ]
  },
  {
   "cell_type": "code",
   "execution_count": 23,
   "id": "cc6009c0-af06-4568-b141-38f054c8e81d",
   "metadata": {
    "tags": []
   },
   "outputs": [
    {
     "data": {
      "text/plain": [
       "AIMessage(content='', additional_kwargs={'function_call': {'name': 'WeatherSearch', 'arguments': '{\\n  \"airport_code\": \"SFO\"\\n}'}}, example=False)"
      ]
     },
     "execution_count": 23,
     "metadata": {},
     "output_type": "execute_result"
    }
   ],
   "source": [
    "# 使用openai function功能\n",
    "model.invoke(\"what is the weather in SF today?\", functions=[weather_function])"
   ]
  },
  {
   "cell_type": "code",
   "execution_count": 24,
   "id": "2cd7461f-3557-4fbd-befa-03c1856478c3",
   "metadata": {
    "tags": []
   },
   "outputs": [
    {
     "data": {
      "text/plain": [
       "AIMessage(content='', additional_kwargs={'function_call': {'name': 'WeatherSearch', 'arguments': '{\\n  \"airport_code\": \"SFO\"\\n}'}}, example=False)"
      ]
     },
     "execution_count": 24,
     "metadata": {},
     "output_type": "execute_result"
    }
   ],
   "source": [
    "# 直接在构造模型中声明functions，对话时不需要在声明\n",
    "model_with_function = model.bind(functions=[weather_function])\n",
    "model_with_function.invoke(\"what is the weather in sf?\")"
   ]
  },
  {
   "cell_type": "markdown",
   "id": "b8d4eca9-3f76-41db-9be5-3b125bd1de7e",
   "metadata": {},
   "source": [
    "## 3.3 强制使用function"
   ]
  },
  {
   "cell_type": "code",
   "execution_count": 25,
   "id": "1f846cd3-b06e-43fc-9ebf-1e34598e3c6a",
   "metadata": {},
   "outputs": [],
   "source": [
    "# 强制使用function，在模型构建时声明function_call\n",
    "model_with_forced_function = model.bind(functions=[weather_function], function_call={\"name\":\"WeatherSearch\"})"
   ]
  },
  {
   "cell_type": "code",
   "execution_count": 26,
   "id": "99be36e3-8d25-4f43-9b28-844df7e9c9cc",
   "metadata": {},
   "outputs": [
    {
     "data": {
      "text/plain": [
       "AIMessage(content='', additional_kwargs={'function_call': {'name': 'WeatherSearch', 'arguments': '{\\n  \"airport_code\": \"SFO\"\\n}'}}, example=False)"
      ]
     },
     "execution_count": 26,
     "metadata": {},
     "output_type": "execute_result"
    }
   ],
   "source": [
    "# 基于已经声明的function对话，能够调用function\n",
    "model_with_forced_function.invoke(\"what is the weather in sf?\")"
   ]
  },
  {
   "cell_type": "code",
   "execution_count": 27,
   "id": "4330abae-d72a-46bb-a616-5aa853579947",
   "metadata": {},
   "outputs": [
    {
     "data": {
      "text/plain": [
       "AIMessage(content='', additional_kwargs={'function_call': {'name': 'WeatherSearch', 'arguments': '{\\n  \"airport_code\": \"SFO\"\\n}'}}, example=False)"
      ]
     },
     "execution_count": 27,
     "metadata": {},
     "output_type": "execute_result"
    }
   ],
   "source": [
    "# 强制使用function的模型，即使prompt与函数description无关也会命中\n",
    "model_with_forced_function.invoke(\"hi!\")"
   ]
  },
  {
   "cell_type": "code",
   "execution_count": 28,
   "id": "2a070520-a653-4d3d-912c-8e6e6c3bf7a3",
   "metadata": {
    "tags": []
   },
   "outputs": [
    {
     "data": {
      "text/plain": [
       "AIMessage(content='Hello! How can I assist you today?', additional_kwargs={}, example=False)"
      ]
     },
     "execution_count": 28,
     "metadata": {},
     "output_type": "execute_result"
    }
   ],
   "source": [
    "# 未强制使用function的模型，prompt与函数description无关不会命中\n",
    "model_with_function.invoke(\"hi!\")"
   ]
  },
  {
   "cell_type": "markdown",
   "id": "6f671b82-ebb6-447d-956a-da4912e34b6b",
   "metadata": {},
   "source": [
    "# 四、使用function"
   ]
  },
  {
   "cell_type": "markdown",
   "id": "f1af1985-8801-47af-9e66-87f199f9996e",
   "metadata": {},
   "source": [
    "## 4.1 链式使用"
   ]
  },
  {
   "cell_type": "code",
   "execution_count": 29,
   "id": "1cee928e-bfdb-4aa9-bbd8-9125fb7e6ca9",
   "metadata": {
    "tags": []
   },
   "outputs": [],
   "source": [
    "# 引入需要的环境\n",
    "from langchain.prompts import ChatPromptTemplate"
   ]
  },
  {
   "cell_type": "code",
   "execution_count": 30,
   "id": "4612ec1d-29de-4759-b914-fd068e9df3d0",
   "metadata": {
    "tags": []
   },
   "outputs": [],
   "source": [
    "# 使用预定义模版创建聊天代码\n",
    "prompt = ChatPromptTemplate.from_messages([\n",
    "    (\"system\", \"You are a helpful assistant\"),\n",
    "    (\"user\", \"{input}\")\n",
    "])"
   ]
  },
  {
   "cell_type": "code",
   "execution_count": 31,
   "id": "58a0d0f2-df9c-4d0e-aa66-c7adae59a8a5",
   "metadata": {
    "tags": []
   },
   "outputs": [],
   "source": [
    "# 使用prompt + model_with_function 组合\n",
    "chain = prompt | model_with_function"
   ]
  },
  {
   "cell_type": "code",
   "execution_count": 32,
   "id": "a7f426f6-1289-4ff8-bf5d-78b379e8e9c8",
   "metadata": {
    "tags": []
   },
   "outputs": [
    {
     "data": {
      "text/plain": [
       "AIMessage(content='', additional_kwargs={'function_call': {'name': 'WeatherSearch', 'arguments': '{\\n  \"airport_code\": \"SFO\"\\n}'}}, example=False)"
      ]
     },
     "execution_count": 32,
     "metadata": {},
     "output_type": "execute_result"
    }
   ],
   "source": [
    "# 创建命中function的问答\n",
    "chain.invoke({\"input\": \"what is the weather in sf?\"})"
   ]
  },
  {
   "cell_type": "code",
   "execution_count": 33,
   "id": "3d12ec40-6e12-4239-a533-635b859be2e8",
   "metadata": {
    "tags": []
   },
   "outputs": [
    {
     "data": {
      "text/plain": [
       "AIMessage(content='Hello! How can I assist you today?', additional_kwargs={}, example=False)"
      ]
     },
     "execution_count": 33,
     "metadata": {},
     "output_type": "execute_result"
    }
   ],
   "source": [
    "# 创建未命中function的问答\n",
    "chain.invoke({\"input\": \"hi\"})"
   ]
  },
  {
   "cell_type": "markdown",
   "id": "e56a1eaf-fa4b-4663-8afa-836323ad97e8",
   "metadata": {},
   "source": [
    "## 4.2 使用多个function"
   ]
  },
  {
   "cell_type": "markdown",
   "id": "2d8cd882-49e2-4112-9856-548e430dd5ee",
   "metadata": {},
   "source": [
    "我们可以传递一组函数，让LLM根据问题上下文决定使用哪个函数。"
   ]
  },
  {
   "cell_type": "code",
   "execution_count": 34,
   "id": "7b14bde1-b074-4220-a372-e82e457f569c",
   "metadata": {
    "tags": []
   },
   "outputs": [],
   "source": [
    "# 创建 ArtistSearch function\n",
    "class ArtistSearch(BaseModel):\n",
    "    \"\"\"Call this to get the names of songs by a particular artist\"\"\"\n",
    "    artist_name: str = Field(description=\"name of artist to look up\")\n",
    "    n: int = Field(description=\"number of results\")"
   ]
  },
  {
   "cell_type": "code",
   "execution_count": 35,
   "id": "2c91ce1b-778a-4dcb-80e8-90158e1491bd",
   "metadata": {
    "tags": []
   },
   "outputs": [],
   "source": [
    "# 组装WeatherSearch和ArtistSearch 函数\n",
    "functions = [\n",
    "    convert_pydantic_to_openai_function(WeatherSearch),\n",
    "    convert_pydantic_to_openai_function(ArtistSearch),\n",
    "]"
   ]
  },
  {
   "cell_type": "code",
   "execution_count": 36,
   "id": "c781f19e-8f54-43b7-adcb-6e0acf0339c3",
   "metadata": {
    "tags": []
   },
   "outputs": [],
   "source": [
    "# 将两个function放入模型\n",
    "model_with_functions = model.bind(functions=functions)"
   ]
  },
  {
   "cell_type": "code",
   "execution_count": 37,
   "id": "87d990b6-3aee-4d3b-84e1-523bb8b94289",
   "metadata": {
    "tags": []
   },
   "outputs": [
    {
     "data": {
      "text/plain": [
       "AIMessage(content='', additional_kwargs={'function_call': {'name': 'WeatherSearch', 'arguments': '{\\n  \"airport_code\": \"SFO\"\\n}'}}, example=False)"
      ]
     },
     "execution_count": 37,
     "metadata": {},
     "output_type": "execute_result"
    }
   ],
   "source": [
    "# 命中 WeatherSearch function\n",
    "model_with_functions.invoke(\"what is the weather in sf?\")"
   ]
  },
  {
   "cell_type": "code",
   "execution_count": 38,
   "id": "46fa2217-79de-4fa5-9abb-2ece786c39c9",
   "metadata": {
    "tags": []
   },
   "outputs": [
    {
     "data": {
      "text/plain": [
       "AIMessage(content='', additional_kwargs={'function_call': {'name': 'ArtistSearch', 'arguments': '{\\n  \"artist_name\": \"taylor swift\",\\n  \"n\": 3\\n}'}}, example=False)"
      ]
     },
     "execution_count": 38,
     "metadata": {},
     "output_type": "execute_result"
    }
   ],
   "source": [
    "# 命中 ArtistSearch function\n",
    "model_with_functions.invoke(\"what are three songs by taylor swift?\")"
   ]
  },
  {
   "cell_type": "code",
   "execution_count": 39,
   "id": "c1930fa2-1c18-4fab-ad04-1428417e28d0",
   "metadata": {
    "tags": []
   },
   "outputs": [
    {
     "data": {
      "text/plain": [
       "AIMessage(content='Hello! How can I assist you today?', additional_kwargs={}, example=False)"
      ]
     },
     "execution_count": 39,
     "metadata": {},
     "output_type": "execute_result"
    }
   ],
   "source": [
    "# 命中都未命中\n",
    "model_with_functions.invoke(\"hi!\")"
   ]
  }
 ],
 "metadata": {
  "kernelspec": {
   "display_name": "Python 3 (ipykernel)",
   "language": "python",
   "name": "python3"
  },
  "language_info": {
   "codemirror_mode": {
    "name": "ipython",
    "version": 3
   },
   "file_extension": ".py",
   "mimetype": "text/x-python",
   "name": "python",
   "nbconvert_exporter": "python",
   "pygments_lexer": "ipython3",
   "version": "3.11.4"
  }
 },
 "nbformat": 4,
 "nbformat_minor": 5
}
